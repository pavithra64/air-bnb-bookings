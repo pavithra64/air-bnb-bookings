{
  "nbformat": 4,
  "nbformat_minor": 0,
  "metadata": {
    "colab": {
      "private_outputs": true,
      "provenance": [],
      "include_colab_link": true
    },
    "kernelspec": {
      "name": "python3",
      "display_name": "Python 3"
    },
    "language_info": {
      "name": "python"
    }
  },
  "cells": [
    {
      "cell_type": "markdown",
      "metadata": {
        "id": "view-in-github",
        "colab_type": "text"
      },
      "source": [
        "<a href=\"https://colab.research.google.com/github/pavithra64/air-bnb-bookings/blob/main/Untitled2.ipynb\" target=\"_parent\"><img src=\"https://colab.research.google.com/assets/colab-badge.svg\" alt=\"Open In Colab\"/></a>"
      ]
    },
    {
      "cell_type": "markdown",
      "source": [
        "# **PYTHON**"
      ],
      "metadata": {
        "id": "15M0f7lj_M7r"
      }
    },
    {
      "cell_type": "markdown",
      "source": [
        "# **Functions**"
      ],
      "metadata": {
        "id": "BErdWL19ZSXn"
      }
    },
    {
      "cell_type": "markdown",
      "source": [
        "A parameter is the variable listed inside the parentheses in the function definition.\n",
        "\n",
        "An argument is the value that is sent to the function when it is called."
      ],
      "metadata": {
        "id": "lPxMZ8_8tuCq"
      }
    },
    {
      "cell_type": "markdown",
      "source": [
        "Arbitrary Arguments, *args\n",
        "If you do not know how many arguments that will be passed into your function, add a * before the parameter name in the function definition.\n",
        "\n",
        "Keyword Arguments\n",
        "You can also send arguments with the key = value syntax."
      ],
      "metadata": {
        "id": "v16U2xwwul-V"
      }
    },
    {
      "cell_type": "markdown",
      "source": [
        "Arbitrary Keyword Arguments, **kwargs\n",
        "If you do not know how many keyword arguments that will be passed into your function, add two asterisk: ** before the parameter name in the function definition."
      ],
      "metadata": {
        "id": "WiTs_ONguyab"
      }
    },
    {
      "cell_type": "code",
      "execution_count": null,
      "metadata": {
        "id": "TIhgnN8F4VyK"
      },
      "outputs": [],
      "source": [
        "def my_function():\n",
        "  print('hello')"
      ]
    },
    {
      "cell_type": "code",
      "source": [
        "def my_function (fname=\"email\", lname='id'):\n",
        "\n",
        "  print(fname+\"\"+lname)"
      ],
      "metadata": {
        "id": "Z_lu5mBH_m_e"
      },
      "execution_count": null,
      "outputs": []
    },
    {
      "cell_type": "code",
      "source": [
        "my_function(\"email\",\"id\")"
      ],
      "metadata": {
        "id": "eBMLbQ_WC_bq"
      },
      "execution_count": null,
      "outputs": []
    },
    {
      "cell_type": "code",
      "source": [
        "def my_function(**kid):\n",
        "  print(\"his last name is \"+kid['lname'])\n",
        "\n",
        "my_function(fname=\"yui_yagami\",lname=\"pie\")"
      ],
      "metadata": {
        "id": "E_UGLZ67DoaB"
      },
      "execution_count": null,
      "outputs": []
    },
    {
      "cell_type": "code",
      "source": [
        "def my_function(kid=\"santa\"):\n",
        "  print(\"his name is \"+ kid)"
      ],
      "metadata": {
        "id": "-zQIQLbohjrd"
      },
      "execution_count": null,
      "outputs": []
    },
    {
      "cell_type": "code",
      "source": [
        "my_function()"
      ],
      "metadata": {
        "id": "BmGtBiKHij5V"
      },
      "execution_count": null,
      "outputs": []
    },
    {
      "cell_type": "code",
      "source": [
        "def my_function(country='norway'):\n",
        "  print(\"I am from \"+country)"
      ],
      "metadata": {
        "id": "MgmXjgEeUdBd"
      },
      "execution_count": null,
      "outputs": []
    },
    {
      "cell_type": "code",
      "source": [
        "my_function('sweden')"
      ],
      "metadata": {
        "id": "4-Nb6hyRVKOA"
      },
      "execution_count": null,
      "outputs": []
    },
    {
      "cell_type": "code",
      "source": [
        "print(my_function)"
      ],
      "metadata": {
        "id": "qIv6VowIVWtd"
      },
      "execution_count": null,
      "outputs": []
    },
    {
      "cell_type": "code",
      "source": [
        "my_function()"
      ],
      "metadata": {
        "id": "ItcqTFbiVecj"
      },
      "execution_count": null,
      "outputs": []
    },
    {
      "cell_type": "code",
      "source": [
        "def my_function(fname):\n",
        "  print(fname+\" Refsnes\")\n",
        "\n",
        "my_function(\"Emil\")\n",
        "my_function(\"Tobias\")\n",
        "my_function(\"Linus\")"
      ],
      "metadata": {
        "id": "tgKUrznOVpQH"
      },
      "execution_count": null,
      "outputs": []
    },
    {
      "cell_type": "code",
      "source": [
        "def my_function(fname, lname):\n",
        "  print(fname + \" \" + lname)\n",
        "\n",
        "my_function(\"Emil\", \"Refsnes\")"
      ],
      "metadata": {
        "id": "VheB0ZjZXpTC"
      },
      "execution_count": null,
      "outputs": []
    },
    {
      "cell_type": "code",
      "source": [
        "def my_function(*kids): #If the number of arguments is unknown, add a * before the parameter name\n",
        "  print(\"The youngest child is \" + kids[2])\n",
        "\n",
        "my_function(\"Emil\", \"Tobias\", \"Linus\")"
      ],
      "metadata": {
        "id": "LivtVrzEX5HL"
      },
      "execution_count": null,
      "outputs": []
    },
    {
      "cell_type": "code",
      "source": [
        "def my_function(child3, child2, child1):\n",
        "  print(\"The youngest child is \" + child3)\n",
        "\n",
        "my_function(\"Emil\", \"Tobias\",\"Linus\")"
      ],
      "metadata": {
        "id": "Ol_glq7-X-1i"
      },
      "execution_count": null,
      "outputs": []
    },
    {
      "cell_type": "code",
      "source": [
        "def my_function(child3, child2, child1):\n",
        "  print(\"The youngest child is \" + child3)\n",
        "\n",
        "my_function(child1 = \"Emil\", child2 = \"Tobias\", child3 = \"Linus\")"
      ],
      "metadata": {
        "id": "etg-YOawY1dE"
      },
      "execution_count": null,
      "outputs": []
    },
    {
      "cell_type": "code",
      "source": [
        "#If the number of keyword arguments is unknown, add a double ** before the parameter name\n",
        "\n",
        "def my_function(**kid):\n",
        "  print(\"His last name is \" + kid[\"lname\"])\n",
        "\n",
        "my_function(fname = \"Tobias\", lname = \"Refsnes\")"
      ],
      "metadata": {
        "id": "f_SvJ_JIZBGm"
      },
      "execution_count": null,
      "outputs": []
    },
    {
      "cell_type": "markdown",
      "source": [
        " **if you send a List as an argument, it will still be a List when it reaches the function**"
      ],
      "metadata": {
        "id": "wICYGZmkvgas"
      }
    },
    {
      "cell_type": "code",
      "source": [
        "def my_function(food):\n",
        "  for x in food:\n",
        "    print(x)\n",
        "\n",
        "fruits = [\"apple\", \"banana\", \"cherry\"]\n",
        "\n",
        "my_function(fruits)"
      ],
      "metadata": {
        "id": "nRoGRU5Cuc-6"
      },
      "execution_count": null,
      "outputs": []
    },
    {
      "cell_type": "code",
      "source": [
        "def my_function(food):\n",
        "  for x in food:\n",
        "    print(x)\n",
        "fruits={\"apple, cherry\"}\n",
        "my_function(fruits)"
      ],
      "metadata": {
        "id": "6fxqSYQBmO5e"
      },
      "execution_count": null,
      "outputs": []
    },
    {
      "cell_type": "code",
      "source": [
        "#To let a function return a value, use the return statement:\n",
        "def my_function(x):\n",
        " return(5 * x)\n",
        "\n",
        "print(my_function(3))\n",
        "print(my_function(5))\n",
        "print(my_function(9))\n",
        "pass"
      ],
      "metadata": {
        "id": "AGF9UiHbvkdk"
      },
      "execution_count": null,
      "outputs": []
    },
    {
      "cell_type": "markdown",
      "source": [
        "# The pass Statement"
      ],
      "metadata": {
        "id": "x9oe096Iw8Eb"
      }
    },
    {
      "cell_type": "code",
      "source": [
        "def myfunction():\n",
        "  pass"
      ],
      "metadata": {
        "id": "JKZjmP3mwjXV"
      },
      "execution_count": null,
      "outputs": []
    },
    {
      "cell_type": "markdown",
      "source": [
        "tri_recursion() is a function that we have defined to call itself (\"recurse\"). We use the k variable as the data, which decrements (-1) every time we recurse. The recursion ends when the condition is not greater than 0 (i.e. when it is 0)"
      ],
      "metadata": {
        "id": "uJ2Xk-EOxlfL"
      }
    },
    {
      "cell_type": "code",
      "source": [
        "def tri_recursion(k):\n",
        "  if(k > 0):\n",
        "    result = k + tri_recursion(k - 1)\n",
        "    print(result)\n",
        "  else:\n",
        "    result = 0\n",
        "  return result\n",
        "\n",
        "print(\"\\n\\nRecursion Example Results\")\n",
        "tri_recursion(6)"
      ],
      "metadata": {
        "id": "jm1Jhfx3xpZj"
      },
      "execution_count": null,
      "outputs": []
    },
    {
      "cell_type": "markdown",
      "source": [
        "# FOR LOOP"
      ],
      "metadata": {
        "id": "Rj1ajBkV00iT"
      }
    },
    {
      "cell_type": "markdown",
      "source": [
        "A for loop is used for iterating over a sequence (that is either a list, a tuple, a dictionary, a set, or a string).\n",
        "\n",
        "This is less like the for keyword in other programming languages, and works more like an iterator method as found in other object-orientated programming languages.\n",
        "\n",
        "With the for loop we can execute a set of statements, once for each item in a list, tuple, set etc."
      ],
      "metadata": {
        "id": "DAdjq8Nj0x0j"
      }
    },
    {
      "cell_type": "code",
      "source": [
        "fruits = [\"apple\", \"banana\", \"cherry\"]\n",
        "for x in fruits:\n",
        "  print(x)"
      ],
      "metadata": {
        "id": "2cp_-9e4zkRT"
      },
      "execution_count": null,
      "outputs": []
    },
    {
      "cell_type": "markdown",
      "source": [
        "# Looping Through a String"
      ],
      "metadata": {
        "id": "shlrFOTw5OwK"
      }
    },
    {
      "cell_type": "code",
      "source": [
        "for x in \"banana\":\n",
        "  print(x)"
      ],
      "metadata": {
        "id": "VVLHyB0J5Pwb"
      },
      "execution_count": null,
      "outputs": []
    },
    {
      "cell_type": "markdown",
      "source": [
        "# The break Statement"
      ],
      "metadata": {
        "id": "bie7yaBd5XyC"
      }
    },
    {
      "cell_type": "code",
      "source": [
        "fruits = [\"apple\", \"banana\", \"cherry\"]  #Exit the loop when x is \"banana\"\n",
        "for x in fruits:\n",
        "  print(x)\n",
        "  if x == \"banana\":\n",
        "    break"
      ],
      "metadata": {
        "id": "qVNbMMej5U-6"
      },
      "execution_count": null,
      "outputs": []
    },
    {
      "cell_type": "code",
      "source": [
        "y=[\"a\",'b','c']\n",
        "for x in y:\n",
        "  print(x)\n",
        "  if x==\"b\":\n",
        "    break"
      ],
      "metadata": {
        "id": "tzL2nO7QsWgR"
      },
      "execution_count": null,
      "outputs": []
    },
    {
      "cell_type": "code",
      "source": [
        "y=[1,2,3]\n",
        "for x in y:\n",
        "  print(x)"
      ],
      "metadata": {
        "id": "olC70Ex7tRax"
      },
      "execution_count": null,
      "outputs": []
    },
    {
      "cell_type": "code",
      "source": [
        "fruits = [\"apple\", \"banana\", \"cherry\"]  #Exit the loop when x is \"banana\", but this time the break comes before the print\n",
        "for x in fruits:\n",
        "  if x == \"banana\":\n",
        "    break\n",
        "  print(x)"
      ],
      "metadata": {
        "id": "Sfm0-_Fv5lHb"
      },
      "execution_count": null,
      "outputs": []
    },
    {
      "cell_type": "markdown",
      "source": [
        "# The continue Statement"
      ],
      "metadata": {
        "id": "9bGfXbO9560a"
      }
    },
    {
      "cell_type": "code",
      "source": [
        "#Do not print banana\n",
        "fruits = [\"apple\", \"banana\", \"cherry\"]\n",
        "for x in fruits:\n",
        "  if x == \"banana\":\n",
        "    continue\n",
        "  print(x)"
      ],
      "metadata": {
        "id": "N2bke8jn538C"
      },
      "execution_count": null,
      "outputs": []
    },
    {
      "cell_type": "markdown",
      "source": [
        "# The range() Function"
      ],
      "metadata": {
        "id": "sMB2OWTR6MaJ"
      }
    },
    {
      "cell_type": "markdown",
      "source": [
        "**The range() function returns a sequence of numbers, starting from 0 by default, and increments by 1 (by default), and ends at a specified number**"
      ],
      "metadata": {
        "id": "IdHY2mh46RCS"
      }
    },
    {
      "cell_type": "code",
      "source": [
        "for x in range(6):\n",
        "  print(x)"
      ],
      "metadata": {
        "id": "Az5awnuY5xiK"
      },
      "execution_count": null,
      "outputs": []
    },
    {
      "cell_type": "code",
      "source": [
        "for x in range(2, 6,2):\n",
        "  print(x)"
      ],
      "metadata": {
        "id": "GckmTz4R6XKx"
      },
      "execution_count": null,
      "outputs": []
    },
    {
      "cell_type": "markdown",
      "source": [
        "**The range() function defaults to increment the sequence by 1, however it is possible to specify the increment value by adding a third parameter**"
      ],
      "metadata": {
        "id": "9K0S4FBep126"
      }
    },
    {
      "cell_type": "code",
      "source": [
        "for x in range(2, 30, 3):\n",
        "  print(x)"
      ],
      "metadata": {
        "id": "KXmZB6xMp1jo"
      },
      "execution_count": null,
      "outputs": []
    },
    {
      "cell_type": "markdown",
      "source": [
        "# Else in For Loop"
      ],
      "metadata": {
        "id": "NcujAlyCqNbv"
      }
    },
    {
      "cell_type": "code",
      "source": [
        "for x in range(6):\n",
        "  print(x)\n",
        "\n",
        "else:\n",
        "  print(\"Finally finished!\")"
      ],
      "metadata": {
        "id": "xJ1fjB1R6apJ"
      },
      "execution_count": null,
      "outputs": []
    },
    {
      "cell_type": "code",
      "source": [
        "for x in range(6):\n",
        "  if x == 3: break\n",
        "  print(x)\n",
        "else:\n",
        "  print(\"Finally finished!\")"
      ],
      "metadata": {
        "id": "dYkOJyrasPNv"
      },
      "execution_count": null,
      "outputs": []
    },
    {
      "cell_type": "markdown",
      "source": [
        "# Nested Loops"
      ],
      "metadata": {
        "id": "vHd8RBwcyIf9"
      }
    },
    {
      "cell_type": "code",
      "source": [
        "adj = [\"red\", \"big\", \"tasty\"]\n",
        "fruits = [\"apple\", \"banana\", \"cherry\"]\n",
        "\n",
        "for x in adj:\n",
        "  for y in fruits:\n",
        "    print(x, y)"
      ],
      "metadata": {
        "id": "OyP6k6psxw7z"
      },
      "execution_count": null,
      "outputs": []
    },
    {
      "cell_type": "markdown",
      "source": [
        "THE PASS FN"
      ],
      "metadata": {
        "id": "7AE74x5E2VIO"
      }
    },
    {
      "cell_type": "code",
      "source": [
        "for x in [0, 1, 2]:\n",
        "  pass"
      ],
      "metadata": {
        "id": "2rduzLGA043t"
      },
      "execution_count": null,
      "outputs": []
    },
    {
      "cell_type": "markdown",
      "source": [
        "# WHILE LOOP"
      ],
      "metadata": {
        "id": "9XXsLBNl2zfk"
      }
    },
    {
      "cell_type": "code",
      "source": [
        "i = 1\n",
        "while i < 6:\n",
        "  print(i)\n",
        "  i += 1\n",
        "  pass"
      ],
      "metadata": {
        "id": "ettPqFFi2yyF"
      },
      "execution_count": null,
      "outputs": []
    },
    {
      "cell_type": "code",
      "source": [
        "i = 1\n",
        "while i < 6:\n",
        "  print(i)\n",
        "  if i == 3:\n",
        "    break\n",
        "  i+=1"
      ],
      "metadata": {
        "id": "4zO4bT5J3PJV"
      },
      "execution_count": null,
      "outputs": []
    },
    {
      "cell_type": "code",
      "source": [
        "i=10\n",
        "while i>5:\n",
        "  print(i)\n",
        "  if i==15:\n",
        "    break\n",
        "  i+=1"
      ],
      "metadata": {
        "id": "T0MJcixoze-N"
      },
      "execution_count": null,
      "outputs": []
    },
    {
      "cell_type": "code",
      "source": [
        "i = 0\n",
        "while i < 6:\n",
        "  i += 1\n",
        "  if i == 3:\n",
        "    continue\n",
        "  print(i)"
      ],
      "metadata": {
        "id": "Co8reFIk3S_d"
      },
      "execution_count": null,
      "outputs": []
    },
    {
      "cell_type": "code",
      "source": [
        "i = 1\n",
        "while i < 6:\n",
        "  print(i)\n",
        "  i += 1\n",
        "else:\n",
        "  print(\"i is no longer less than 6\")"
      ],
      "metadata": {
        "id": "G5K0nUr39RfU"
      },
      "execution_count": null,
      "outputs": []
    },
    {
      "cell_type": "markdown",
      "source": [
        "Python has the following data types built-in by default, in these categories:\n",
        "\n",
        "**Text Type:**\tstr\n",
        "\n",
        "**Numeric Types**:\tint, float, complex\n",
        "\n",
        "**Sequence Types**:\tlist, tuple, range\n",
        "\n",
        "**Mapping Type**:\tdict\n",
        "\n",
        "**Set Types**:\tset, frozenset\n",
        "\n",
        "**Boolean Type**:\tbool\n",
        "\n",
        "**Binary Types**:\tbytes, bytearray, memoryview\n",
        "\n",
        "**None Type**:\tNoneType"
      ],
      "metadata": {
        "id": "eFqvcsOCtmaS"
      }
    },
    {
      "cell_type": "code",
      "source": [
        "str(\"the moon\")"
      ],
      "metadata": {
        "id": "FcLCHMmH-p2c"
      },
      "execution_count": null,
      "outputs": []
    },
    {
      "cell_type": "code",
      "source": [
        "int(5)"
      ],
      "metadata": {
        "id": "v0M-i78N8mzN"
      },
      "execution_count": null,
      "outputs": []
    },
    {
      "cell_type": "code",
      "source": [
        "float(1)"
      ],
      "metadata": {
        "id": "_yIOnA1o8rk1"
      },
      "execution_count": null,
      "outputs": []
    },
    {
      "cell_type": "code",
      "source": [
        "bool(\"true\")\n"
      ],
      "metadata": {
        "id": "cIDYo8lz8uts"
      },
      "execution_count": null,
      "outputs": []
    },
    {
      "cell_type": "code",
      "source": [
        "complex(1)"
      ],
      "metadata": {
        "id": "YfruNPRB8538"
      },
      "execution_count": null,
      "outputs": []
    },
    {
      "cell_type": "code",
      "source": [
        "list=[1,2,3]"
      ],
      "metadata": {
        "id": "mhE1vfGr-YDl"
      },
      "execution_count": null,
      "outputs": []
    },
    {
      "cell_type": "code",
      "source": [
        "a=(2,\"str\",1)\n",
        "type(a)"
      ],
      "metadata": {
        "id": "swZaW966_Nj1"
      },
      "execution_count": null,
      "outputs": []
    },
    {
      "cell_type": "code",
      "source": [
        "dict={\"fall\":\"winter\"}\n",
        "print(dict)\n",
        "type(dict)"
      ],
      "metadata": {
        "id": "EokVWoIRBUc9"
      },
      "execution_count": null,
      "outputs": []
    },
    {
      "cell_type": "code",
      "source": [
        "set={1,2,3,4}"
      ],
      "metadata": {
        "id": "9XhAG9tGE9un"
      },
      "execution_count": null,
      "outputs": []
    },
    {
      "cell_type": "code",
      "source": [
        "frozenset({'apple, cherry'})"
      ],
      "metadata": {
        "id": "eGZWD_4WPNRK"
      },
      "execution_count": null,
      "outputs": []
    },
    {
      "cell_type": "code",
      "source": [
        "x=1\n",
        "y=1\n",
        "x==y"
      ],
      "metadata": {
        "id": "-MI-fy8gFUNH"
      },
      "execution_count": null,
      "outputs": []
    },
    {
      "cell_type": "code",
      "source": [
        "b\"Hello\""
      ],
      "metadata": {
        "id": "YFgHYFOCGGmW"
      },
      "execution_count": null,
      "outputs": []
    },
    {
      "cell_type": "code",
      "source": [
        "bytearray(5)"
      ],
      "metadata": {
        "id": "4Sp-tqioLCz5"
      },
      "execution_count": null,
      "outputs": []
    },
    {
      "cell_type": "code",
      "source": [
        "memoryview(bytes(5))"
      ],
      "metadata": {
        "id": "hNOz-Rs-NkBq"
      },
      "execution_count": null,
      "outputs": []
    },
    {
      "cell_type": "code",
      "source": [
        "x = 35e3\n",
        "y = 12E4\n",
        "z = -87.7e100\n",
        "\n",
        "print(type(x))\n",
        "print(type(y))\n",
        "print(type(z))"
      ],
      "metadata": {
        "id": "RtM0X2GTQJga"
      },
      "execution_count": null,
      "outputs": []
    },
    {
      "cell_type": "code",
      "source": [
        "txt = \"The best things in life are free!\"\n",
        "print(\"free\" in txt)\n"
      ],
      "metadata": {
        "id": "Cx0byUQZSr9z"
      },
      "execution_count": null,
      "outputs": []
    },
    {
      "cell_type": "code",
      "source": [
        "txt = \"The best things in life are free!\"\n",
        "if \"free\" in txt:\n",
        "  print(\"Yes, 'free' is present.\")"
      ],
      "metadata": {
        "id": "fmPFhxvDZ_z6"
      },
      "execution_count": null,
      "outputs": []
    },
    {
      "cell_type": "code",
      "source": [
        "txt = \"The best things in life are free!\"\n",
        "print(\"expensive\" not in txt)"
      ],
      "metadata": {
        "id": "E3Of3nGEaFyn"
      },
      "execution_count": null,
      "outputs": []
    },
    {
      "cell_type": "code",
      "source": [
        "txt = \"The best things in life are free!\"\n",
        "if \"expensive\" not in txt:\n",
        "  print(\"No, 'expensive' is NOT present.\")"
      ],
      "metadata": {
        "id": "wh5m6wdXa1R8"
      },
      "execution_count": null,
      "outputs": []
    },
    {
      "cell_type": "markdown",
      "source": [
        "# Slicing Strings"
      ],
      "metadata": {
        "id": "5-3J3Uh9bAAL"
      }
    },
    {
      "cell_type": "code",
      "source": [
        "b=\"Hello, World!\"\n",
        "print(b[2:5])"
      ],
      "metadata": {
        "id": "nFhknUr0bBqL"
      },
      "execution_count": null,
      "outputs": []
    },
    {
      "cell_type": "code",
      "source": [
        "b = \"Hello, World!\"\n",
        "print(b[:8])"
      ],
      "metadata": {
        "id": "1eO3EFPEcNVk"
      },
      "execution_count": null,
      "outputs": []
    },
    {
      "cell_type": "code",
      "source": [
        "b = \"Hello, World!\"\n",
        "print(b[2:])"
      ],
      "metadata": {
        "id": "MFIHD95zcurT"
      },
      "execution_count": null,
      "outputs": []
    },
    {
      "cell_type": "code",
      "source": [
        "b = \"Hello, World!\"\n",
        "print(b[-5:-2])"
      ],
      "metadata": {
        "id": "0bkkDge3c0tb"
      },
      "execution_count": null,
      "outputs": []
    },
    {
      "cell_type": "code",
      "source": [
        "B=\"NOTTTODAY\"\n",
        "print(B[2:9:3])"
      ],
      "metadata": {
        "id": "jiiMr5wZdHSN"
      },
      "execution_count": null,
      "outputs": []
    },
    {
      "cell_type": "code",
      "source": [
        "def my_function(foods):\n",
        "  for x in foods:\n",
        "    print(x)\n",
        "\n"
      ],
      "metadata": {
        "id": "R8RIfC_Ue_Xk"
      },
      "execution_count": null,
      "outputs": []
    },
    {
      "cell_type": "code",
      "source": [
        "a=('son')\n",
        "a.upper()"
      ],
      "metadata": {
        "id": "NGSBJZak-9NA"
      },
      "execution_count": null,
      "outputs": []
    },
    {
      "cell_type": "code",
      "source": [
        "a=('SOLD')\n",
        "a.lower()"
      ],
      "metadata": {
        "id": "P1gpp1rU_tkA"
      },
      "execution_count": null,
      "outputs": []
    },
    {
      "cell_type": "code",
      "source": [
        "a = \"Hello, World!\"\n",
        "print(a[1])"
      ],
      "metadata": {
        "id": "Ohr_uFwa_3_m"
      },
      "execution_count": null,
      "outputs": []
    },
    {
      "cell_type": "code",
      "source": [
        "a = \" Hello, World! \"\n",
        "print(a.strip())"
      ],
      "metadata": {
        "id": "Ii0dL8ysV4mh"
      },
      "execution_count": null,
      "outputs": []
    },
    {
      "cell_type": "code",
      "source": [
        "a = \"Hello, World!\"\n",
        "print(a.split(\",\")) # returns ['Hello', ' World!']"
      ],
      "metadata": {
        "id": "k6SQgHN4WAN0"
      },
      "execution_count": null,
      "outputs": []
    },
    {
      "cell_type": "markdown",
      "source": [
        "# String Concatenation"
      ],
      "metadata": {
        "id": "9JGXU_9nWFgr"
      }
    },
    {
      "cell_type": "code",
      "source": [
        "a = \"Hello\"\n",
        "b = \"World\"\n",
        "c = a + b\n",
        "print(c)"
      ],
      "metadata": {
        "id": "YfI6QeTTWBgz"
      },
      "execution_count": null,
      "outputs": []
    },
    {
      "cell_type": "code",
      "source": [
        "a = \"Hello\"\n",
        "b = \"World\"\n",
        "c = a + \" \" + b\n",
        "print(c)"
      ],
      "metadata": {
        "id": "iRZCRp_lWJu7"
      },
      "execution_count": null,
      "outputs": []
    },
    {
      "cell_type": "markdown",
      "source": [
        "# String Format"
      ],
      "metadata": {
        "id": "9Evb7KAaWPS-"
      }
    },
    {
      "cell_type": "code",
      "source": [
        "age = 36\n",
        "txt = \"My name is John, I am \" + age\n",
        "print(txt)"
      ],
      "metadata": {
        "id": "0Iq_xYJ2WQmM"
      },
      "execution_count": null,
      "outputs": []
    },
    {
      "cell_type": "code",
      "source": [
        "age = 36\n",
        "txt = \"My name is John, and I am {}\"\n",
        "print(txt.format(age))"
      ],
      "metadata": {
        "id": "Zjt5FUs1WWGY"
      },
      "execution_count": null,
      "outputs": []
    },
    {
      "cell_type": "code",
      "source": [
        "quantity = 3\n",
        "itemno = 567\n",
        "price = 49.95\n",
        "myorder = \"I want {} pieces of item {} for {} dollars.\"\n",
        "print(myorder.format(quantity, itemno, price))"
      ],
      "metadata": {
        "id": "E7a-dUbHWaoN"
      },
      "execution_count": null,
      "outputs": []
    },
    {
      "cell_type": "code",
      "source": [
        "quantity = 3\n",
        "itemno = 567\n",
        "price = 49.95\n",
        "myorder = \"I want to pay {2} dollars for {0} pieces of item {1}.\"\n",
        "print(myorder.format(quantity, itemno, price))"
      ],
      "metadata": {
        "id": "mp1oDKzBWfgL"
      },
      "execution_count": null,
      "outputs": []
    },
    {
      "cell_type": "markdown",
      "source": [
        "# Escape Character"
      ],
      "metadata": {
        "id": "mSeRCpxIWlLT"
      }
    },
    {
      "cell_type": "code",
      "source": [
        "txt = \"We are the so-called \"Vikings\" from the north.\""
      ],
      "metadata": {
        "id": "s9QFVZICWgcb"
      },
      "execution_count": null,
      "outputs": []
    },
    {
      "cell_type": "code",
      "source": [
        "txt = \"We are the so-called \\\"Vikings\\\" from the north.\""
      ],
      "metadata": {
        "id": "xhNRU_2UWpwb"
      },
      "execution_count": null,
      "outputs": []
    },
    {
      "cell_type": "markdown",
      "source": [
        "\tTry it\n",
        "\\'\tSingle Quote\n",
        "\\\\\tBackslash\n",
        "\\n\tNew Line\n",
        "\\r\tCarriage Return\n",
        "\\t\tTab\n",
        "\\b\tBackspace\n",
        "\\f\tForm Feed\n",
        "\\ooo\tOctal value\n",
        "\\xhh\tHex value\n"
      ],
      "metadata": {
        "id": "KSJzz091Ww0j"
      }
    },
    {
      "cell_type": "markdown",
      "source": [
        "String Methods"
      ],
      "metadata": {
        "id": "Fgdl7iM5W1Ig"
      }
    },
    {
      "cell_type": "markdown",
      "source": [
        "\n",
        "capitalize()\tConverts the first character to upper case\n",
        "\n",
        "casefold()\tConverts string into lower case\n",
        "\n",
        "center()\tReturns a centered string\n",
        "\n",
        "count()\tReturns the number of times a specified value occurs in a string\n",
        "\n",
        "encode()\tReturns an encoded version of the string\n",
        "\n",
        "endswith()\tReturns true if the string ends with the specified value\n",
        "\n",
        "expandtabs()\tSets the tab size of the string\n",
        "\n",
        "find()\tSearches the string for a specified value and returns the position of where it was found\n",
        "\n",
        "format()\tFormats specified values in a string\n",
        "\n",
        "format_map()\tFormats specified values in a string\n",
        "\n",
        "index()\tSearches the string for a specified value and returns the position of where it was found\n",
        "\n",
        "isalnum()\tReturns True if all characters in the string are alphanumeric\n",
        "\n",
        "isalpha()\tReturns True if all characters in the string are in the alphabet\n",
        "\n",
        "isascii()\tReturns True if all characters in the string are ascii characters\n",
        "\n",
        "isdecimal()\tReturns True if all characters in the string are decimals\n",
        "\n",
        "isdigit()\tReturns True if all characters in the string are digits\n",
        "\n",
        "isidentifier()\tReturns True if the string is an identifier\n",
        "\n",
        "islower()\tReturns True if all characters in the string are lower case\n",
        "\n",
        "isnumeric()\tReturns True if all characters in the string are numeric\n",
        "\n",
        "isprintable()\tReturns True if all characters in the string are printable\n",
        "\n",
        "isspace()\tReturns True if all characters in the string are whitespaces\n",
        "\n",
        "istitle()\tReturns True if the string follows the rules of a title\n",
        "\n",
        "isupper()\tReturns True if all characters in the string are upper case\n",
        "\n",
        "join()\tJoins the elements of an iterable to the end of the string\n",
        "\n",
        "ljust()\tReturns a left justified version of the string\n",
        "\n",
        "lower()\tConverts a string into lower case\n",
        "\n",
        "lstrip()\tReturns a left trim version of the string\n",
        "\n",
        "maketrans()\tReturns a translation table to be used in translations\n",
        "\n",
        "partition()\tReturns a tuple where the string is parted into three parts\n",
        "\n",
        "replace()\tReturns a string where a specified value is replaced with a specified value\n",
        "\n",
        "rfind()\tSearches the string for a specified value and returns the last position of where it was found\n",
        "\n",
        "rindex()\tSearches the string for a specified value and returns the last position of where it was found\n",
        "\n",
        "rjust()\tReturns a right justified version of the string\n",
        "\n",
        "rpartition()\tReturns a tuple where the string is parted into three parts\n",
        "\n",
        "rsplit()\tSplits the string at the specified separator, and returns a list\n",
        "\n",
        "rstrip()\tReturns a right trim version of the string\n",
        "\n",
        "split()\tSplits the string at the specified separator, and returns a list\n",
        "\n",
        "splitlines()\tSplits the string at line breaks and returns a list\n",
        "\n",
        "startswith()\tReturns true if the string starts with the specified value\n",
        "\n",
        "strip()\tReturns a trimmed version of the string\n",
        "\n",
        "swapcase()\tSwaps cases, lower case becomes upper case and vice versa\n",
        "\n",
        "title()\tConverts the first character of each word to upper case\n",
        "\n",
        "translate()\tReturns a translated string\n",
        "\n",
        "upper()\tConverts a string into upper case\n",
        "\n",
        "zfill()\tFills the string with a specified number of 0 values at the beginning\n"
      ],
      "metadata": {
        "id": "p2iby94sW6-z"
      }
    },
    {
      "cell_type": "code",
      "source": [],
      "metadata": {
        "id": "6UA69vtabT1N"
      },
      "execution_count": null,
      "outputs": []
    },
    {
      "cell_type": "code",
      "source": [
        "a=\"findthefind\"\n",
        "a.find('t')"
      ],
      "metadata": {
        "id": "ueTkcRbIwQm3"
      },
      "execution_count": null,
      "outputs": []
    },
    {
      "cell_type": "code",
      "source": [
        "a='dhytfd'\n",
        "a.capitalize()"
      ],
      "metadata": {
        "id": "420QaVTrw8aH"
      },
      "execution_count": null,
      "outputs": []
    },
    {
      "cell_type": "code",
      "source": [
        "a='djgyg'\n",
        "a.isnumeric()"
      ],
      "metadata": {
        "id": "xkhV00H2xcmo"
      },
      "execution_count": null,
      "outputs": []
    },
    {
      "cell_type": "code",
      "source": [
        "a='oghi''rgih'\n",
        "a.split()"
      ],
      "metadata": {
        "id": "JmpjP6eHyNo2"
      },
      "execution_count": null,
      "outputs": []
    },
    {
      "cell_type": "code",
      "source": [
        "a='ud hfu'\n",
        "a."
      ],
      "metadata": {
        "id": "Yi_qHaOc02JV"
      },
      "execution_count": null,
      "outputs": []
    },
    {
      "cell_type": "code",
      "source": [
        "a='dfdf '\n",
        "a.index()"
      ],
      "metadata": {
        "id": "Dlk6M6p97n3D"
      },
      "execution_count": null,
      "outputs": []
    },
    {
      "cell_type": "markdown",
      "source": [
        "# booleans"
      ],
      "metadata": {
        "id": "59FOIzIQXXpb"
      }
    },
    {
      "cell_type": "code",
      "source": [
        "print(10 > 9)\n",
        "print(10 == 9)\n",
        "print(10 < 9)"
      ],
      "metadata": {
        "id": "VCpbD2NpWspb"
      },
      "execution_count": null,
      "outputs": []
    },
    {
      "cell_type": "code",
      "source": [
        "a = 200\n",
        "b = 33\n",
        "\n",
        "if b > a:\n",
        "  print(\"b is greater than a\")\n",
        "else:\n",
        "  print(\"b is not greater than a\")"
      ],
      "metadata": {
        "id": "G5DVfgJRXb6b"
      },
      "execution_count": null,
      "outputs": []
    },
    {
      "cell_type": "code",
      "source": [
        "print(bool(\"Hello\"))\n",
        "print(bool(15))"
      ],
      "metadata": {
        "id": "0Ks8HhKVXebl"
      },
      "execution_count": null,
      "outputs": []
    },
    {
      "cell_type": "code",
      "source": [
        "x = \"Hello\"\n",
        "y = 15\n",
        "\n",
        "print(bool(x))\n",
        "print(bool(y))"
      ],
      "metadata": {
        "id": "VuUc0197Xgvr"
      },
      "execution_count": null,
      "outputs": []
    },
    {
      "cell_type": "code",
      "source": [
        "bool(\"abc\")\n",
        "bool(123)\n",
        "bool([\"apple\", \"cherry\", \"banana\"])"
      ],
      "metadata": {
        "id": "Pb-Ss2-TXlML"
      },
      "execution_count": null,
      "outputs": []
    },
    {
      "cell_type": "code",
      "source": [
        "bool(False)\n",
        "bool(None)\n",
        "bool(0)\n",
        "bool(\"\")\n",
        "bool(())\n",
        "bool([])\n",
        "bool({})"
      ],
      "metadata": {
        "id": "eabyeY3QXl4G"
      },
      "execution_count": null,
      "outputs": []
    },
    {
      "cell_type": "code",
      "source": [
        "class myclass():\n",
        "  def __len__(self):\n",
        "    return 0\n",
        "\n",
        "myobj = myclass()\n",
        "print(myobj)"
      ],
      "metadata": {
        "id": "VAe6Pd2kXpMz"
      },
      "execution_count": null,
      "outputs": []
    },
    {
      "cell_type": "code",
      "source": [
        "def myFunction() :\n",
        "  return True\n",
        "\n",
        "print(myFunction())"
      ],
      "metadata": {
        "id": "B6mHr2OQXrr7"
      },
      "execution_count": null,
      "outputs": []
    },
    {
      "cell_type": "code",
      "source": [
        "def myFunction() :\n",
        "  return True\n",
        "\n",
        "if myFunction():\n",
        "  print(\"YES!\")\n",
        "else:\n",
        "  print(\"NO!\")"
      ],
      "metadata": {
        "id": "JtW1LCc8Xtic"
      },
      "execution_count": null,
      "outputs": []
    },
    {
      "cell_type": "code",
      "source": [
        "x = 200\n",
        "print(isinstance(x, int))"
      ],
      "metadata": {
        "id": "fXYhYXXyXvqT"
      },
      "execution_count": null,
      "outputs": []
    },
    {
      "cell_type": "code",
      "source": [
        "tuple=('hdhu' ,1,'fcusg' )"
      ],
      "metadata": {
        "id": "T6Hs5P9TbLCO"
      },
      "execution_count": null,
      "outputs": []
    },
    {
      "cell_type": "code",
      "source": [
        "tuple[1]"
      ],
      "metadata": {
        "id": "EFty01DO9mU4"
      },
      "execution_count": null,
      "outputs": []
    },
    {
      "cell_type": "code",
      "source": [
        "fruits=['apple,banana, orange']\n",
        "for a in fruits:\n",
        "  print(a)"
      ],
      "metadata": {
        "id": "9JPOxnVe_Y9x"
      },
      "execution_count": null,
      "outputs": []
    },
    {
      "cell_type": "code",
      "source": [
        "for x in range(6):\n",
        "  if i==3: break\n",
        "  print(x)"
      ],
      "metadata": {
        "id": "K3Dv3bXZGhG7"
      },
      "execution_count": null,
      "outputs": []
    },
    {
      "cell_type": "code",
      "source": [
        "for x in range(6):\n",
        "  if i==3: break\n",
        "  print(x)\n",
        "x+=1"
      ],
      "metadata": {
        "id": "71uf-oPJQ3EO"
      },
      "execution_count": null,
      "outputs": []
    },
    {
      "cell_type": "code",
      "source": [
        "thistuple = (\"apple\", \"banana\", \"cherry\", \"orange\", \"kiwi\", \"melon\", \"mango\")\n",
        "print(thistuple[2:5])"
      ],
      "metadata": {
        "id": "fvTgGelHR_km"
      },
      "execution_count": null,
      "outputs": []
    },
    {
      "cell_type": "markdown",
      "source": [
        "update **tuples**"
      ],
      "metadata": {
        "id": "naBOZlI3onHx"
      }
    },
    {
      "cell_type": "code",
      "source": [
        "x = (\"apple\", \"banana\", \"cherry\")\n",
        "y = list(x)\n",
        "y[1] = \"kiwi\"\n",
        "x = tuple(y)\n",
        "\n",
        "print(x)"
      ],
      "metadata": {
        "id": "h2MYABwpoqba"
      },
      "execution_count": null,
      "outputs": []
    },
    {
      "cell_type": "code",
      "source": [
        "x='wre,rhty,ryry'\n"
      ],
      "metadata": {
        "id": "ZhlHorPKpUZ_"
      },
      "execution_count": null,
      "outputs": []
    },
    {
      "cell_type": "code",
      "source": [
        "thistuple = (\"apple\", \"banana\", \"cherry\")\n",
        "y = list(thistuple)\n",
        "y.append(\"orange\")\n"
      ],
      "metadata": {
        "id": "8k3KuJtK04AV"
      },
      "execution_count": null,
      "outputs": []
    },
    {
      "cell_type": "code",
      "source": [
        "thistuple = (\"apple\", \"banana\", \"cherry\")\n",
        "y = (\"orange\",)\n",
        "thistuple += y\n",
        "\n",
        "print(thistuple)"
      ],
      "metadata": {
        "id": "OsJz1-Hl5ttS"
      },
      "execution_count": null,
      "outputs": []
    },
    {
      "cell_type": "code",
      "source": [
        "thistuple = (\"apple\", \"banana\", \"cherry\")\n",
        "y = list(thistuple)\n",
        "y.remove(\"apple\")\n",
        "thistuple = tuple(y)\n",
        "print(thistuple)"
      ],
      "metadata": {
        "id": "y5cxaHiG7Rni"
      },
      "execution_count": null,
      "outputs": []
    },
    {
      "cell_type": "markdown",
      "source": [
        "unpacking tuples"
      ],
      "metadata": {
        "id": "VeCY58leIKQr"
      }
    },
    {
      "cell_type": "code",
      "source": [
        "fruits=('apple', 'banana','cherry')\n",
        "(pie, smoothie, cake)=fruits\n",
        "print(pie)"
      ],
      "metadata": {
        "id": "DPb9ZcD9Ekt0"
      },
      "execution_count": null,
      "outputs": []
    },
    {
      "cell_type": "code",
      "source": [
        "x = (\"apple\", \"banana\", \"cherry\")\n",
        "y = list(x)\n",
        "y[1] = \"kiwi\"\n",
        "x = tuple(y)\n",
        "\n",
        "print(x)"
      ],
      "metadata": {
        "id": "02WuNUxrLzp6"
      },
      "execution_count": null,
      "outputs": []
    },
    {
      "cell_type": "code",
      "source": [
        "x=('dhjfhf','oidf','hufge')\n",
        "for i in x:\n",
        "  print(i)"
      ],
      "metadata": {
        "id": "Uo5WCM2QNF4G"
      },
      "execution_count": null,
      "outputs": []
    },
    {
      "cell_type": "code",
      "source": [
        "thistuple = (\"apple\", \"banana\", \"cherry\")\n",
        "for i in range(len(thistuple)):\n",
        "  print(thistuple[i])"
      ],
      "metadata": {
        "id": "5jfIBr61OuEO"
      },
      "execution_count": null,
      "outputs": []
    },
    {
      "cell_type": "code",
      "source": [
        "thistuple = (\"apple\", \"banana\", \"cherry\")\n",
        "i = 0\n",
        "while i < len(thistuple):\n",
        "  print(thistuple[i])\n",
        "  i = i + 1"
      ],
      "metadata": {
        "id": "HLo1tszGNgIR"
      },
      "execution_count": null,
      "outputs": []
    },
    {
      "cell_type": "code",
      "source": [
        "tuple1 = (\"a\", \"b\" , \"c\")\n",
        "tuple2 = (1, 2, 3)\n",
        "\n",
        "tuple3 = tuple1 + tuple2\n",
        "print(tuple3)"
      ],
      "metadata": {
        "id": "jqD_v6dGV-XW"
      },
      "execution_count": null,
      "outputs": []
    },
    {
      "cell_type": "code",
      "source": [
        "fruits = (\"apple\", \"banana\", \"cherry\")\n",
        "mytuple = fruits * 2\n",
        "\n",
        "print(mytuple)"
      ],
      "metadata": {
        "id": "OgZ5Pco6hat8"
      },
      "execution_count": null,
      "outputs": []
    },
    {
      "cell_type": "markdown",
      "source": [
        "Method\tDescription: tuples have 2 methods\n",
        "\n",
        "\n",
        "count()\tReturns the number of times a specified value occurs in a tuple\n",
        "index()\tSearches the tuple for a specified value and returns the position of where it was found"
      ],
      "metadata": {
        "id": "0JhP2THViepw"
      }
    },
    {
      "cell_type": "code",
      "source": [
        "fruits = (\"apple\", \"banana\", \"cherry\")\n",
        "print(fruits[0])"
      ],
      "metadata": {
        "id": "4uAlHH7lieYY"
      },
      "execution_count": null,
      "outputs": []
    },
    {
      "cell_type": "markdown",
      "source": [
        "Set Items\n",
        "Set items are unordered, unchangeable, and do not allow duplicate values."
      ],
      "metadata": {
        "id": "CoX27NdsjHJw"
      }
    },
    {
      "cell_type": "markdown",
      "source": [
        "Unordered\n",
        "Unchangeable\n",
        "Duplicates Not Allowed"
      ],
      "metadata": {
        "id": "oPW_AeYvmaom"
      }
    },
    {
      "cell_type": "code",
      "source": [
        "thisset = {\"apple\", \"banana\", \"cherry\", True, 1, 2}  #True and 1 is considered the same value\n",
        "\n",
        "print(thisset)"
      ],
      "metadata": {
        "id": "o-SSsQQaibAH"
      },
      "execution_count": null,
      "outputs": []
    },
    {
      "cell_type": "code",
      "source": [
        "thisset = {\"apple\", \"banana\", \"cherry\", False, True, 0} #False and 0 is considered the same value\n",
        "\n",
        "print(thisset)"
      ],
      "metadata": {
        "id": "8X7pV5eimozP"
      },
      "execution_count": null,
      "outputs": []
    },
    {
      "cell_type": "code",
      "source": [
        "set1 = {\"apple\", \"banana\", \"cherry\"}\n",
        "set2 = {1, 5, 7, 9, 3}\n",
        "set3 = {True, False, False}"
      ],
      "metadata": {
        "id": "ppv5LcVNm1JX"
      },
      "execution_count": null,
      "outputs": []
    },
    {
      "cell_type": "markdown",
      "source": [
        "The set() Constructor"
      ],
      "metadata": {
        "id": "FBD_C6X6oBxF"
      }
    },
    {
      "cell_type": "code",
      "source": [
        "thisset = set((\"apple\", \"banana\", \"cherry\")) # note the double round-brackets\n",
        "print(thisset)"
      ],
      "metadata": {
        "id": "5oKFR76ynE8t"
      },
      "execution_count": null,
      "outputs": []
    },
    {
      "cell_type": "code",
      "source": [
        "thisset = {\"apple\", \"banana\", \"cherry\"}\n",
        "\n",
        "for x in thisset:\n",
        "  print(x)"
      ],
      "metadata": {
        "id": "XTWPkAZhoEyl"
      },
      "execution_count": null,
      "outputs": []
    },
    {
      "cell_type": "code",
      "source": [
        "thisset = {\"apple\", \"banana\", \"cherry\"}\n",
        "\n",
        "print(\"banana\" in thisset)"
      ],
      "metadata": {
        "id": "jAV8sT2Qr7H8"
      },
      "execution_count": null,
      "outputs": []
    },
    {
      "cell_type": "code",
      "source": [
        "thisset = {\"apple\", \"banana\", \"cherry\"} #Add an item to a set, using the add() method\n",
        "\n",
        "thisset.add(\"orange\")\n",
        "\n",
        "print(thisset)"
      ],
      "metadata": {
        "id": "1D4_aV2LsCSd"
      },
      "execution_count": null,
      "outputs": []
    },
    {
      "cell_type": "code",
      "source": [
        "thisset = {\"apple\", \"banana\", \"cherry\"}   #To add items from another set into the current set, use the update() method\n",
        "tropical = {\"pineapple\", \"mango\", \"papaya\"}   #The object in the update() method does not have to be a set, it can be any iterable object (tuples, lists, dictionaries etc.)\n",
        "\n",
        "thisset.update(tropical)\n",
        "\n",
        "print(thisset)"
      ],
      "metadata": {
        "id": "UcNUpCAxsD1e"
      },
      "execution_count": null,
      "outputs": []
    },
    {
      "cell_type": "markdown",
      "source": [
        "To remove an item in a set, use the remove(), or the discard() method"
      ],
      "metadata": {
        "id": "6QCZ7PPMsni0"
      }
    },
    {
      "cell_type": "code",
      "source": [
        "thisset = {\"apple\", \"banana\", \"cherry\"}\n",
        "\n",
        "thisset.remove(\"banana\")\n",
        "\n",
        "print(thisset)"
      ],
      "metadata": {
        "id": "HJG9doTJsLu1"
      },
      "execution_count": null,
      "outputs": []
    },
    {
      "cell_type": "code",
      "source": [
        "thisset = {\"apple\", \"banana\", \"cherry\"}\n",
        "\n",
        "thisset.discard(\"banana\")\n",
        "\n",
        "print(thisset)"
      ],
      "metadata": {
        "id": "IDx5jJxduTik"
      },
      "execution_count": null,
      "outputs": []
    },
    {
      "cell_type": "code",
      "source": [
        "thisset = {\"apple\", \"banana\", \"cherry\"}\n",
        "\n",
        "x = thisset.pop()\n",
        "\n",
        "print(x)\n",
        "\n",
        "print(thisset)"
      ],
      "metadata": {
        "id": "zZKzVfymvJmK"
      },
      "execution_count": null,
      "outputs": []
    },
    {
      "cell_type": "code",
      "source": [
        "thisset = {\"apple\", \"banana\", \"cherry\"}\n",
        "\n",
        "thisset.clear()\n",
        "\n",
        "print(thisset)"
      ],
      "metadata": {
        "id": "deIkmLcuvNQl"
      },
      "execution_count": null,
      "outputs": []
    },
    {
      "cell_type": "code",
      "source": [
        "thisset = {\"apple\", \"banana\", \"cherry\"}\n",
        "del thisset\n",
        "print(thisset)"
      ],
      "metadata": {
        "id": "RMTJjomQvPa-"
      },
      "execution_count": null,
      "outputs": []
    },
    {
      "cell_type": "markdown",
      "source": [
        "\n",
        "Method\tDescription\n",
        "add()\tAdds an element to the set\n",
        "\n",
        "clear()\tRemoves all the elements from the set\n",
        "\n",
        "copy()\tReturns a copy of the set\n",
        "\n",
        "difference()\tReturns a set containing the difference between two or more sets\n",
        "\n",
        "difference_update()\tRemoves the items in this set that are also included in another, specified set\n",
        "\n",
        "discard()\tRemove the specified item\n",
        "\n",
        "intersection()\tReturns a set, that is the intersection of two other sets\n",
        "\n",
        "intersection_update()\tRemoves the items in this set that are not present in other, specified set(s)\n",
        "\n",
        "isdisjoint()\tReturns whether two sets have a intersection or not\n",
        "\n",
        "issubset()\tReturns whether another set contains this set or not\n",
        "\n",
        "issuperset()\tReturns whether this set contains another set or not\n",
        "\n",
        "pop()\tRemoves an element from the set\n",
        "\n",
        "remove()\tRemoves the specified element\n",
        "\n",
        "symmetric_difference()\tReturns a set with the symmetric differences of two sets\n",
        "\n",
        "symmetric_difference_update()\tinserts the symmetric differences from this set and another\n",
        "\n",
        "union()\tReturn a set containing the union of sets\n",
        "\n",
        "update()\tUpdate the set with the union of this set and others\n"
      ],
      "metadata": {
        "id": "Qjhg2NRg04n6"
      }
    },
    {
      "cell_type": "markdown",
      "source": [
        "# dictionary-key value pair"
      ],
      "metadata": {
        "id": "EaUdOF0W2gk5"
      }
    },
    {
      "cell_type": "code",
      "source": [
        "thisdict = {\n",
        "  \"brand\": \"Ford\",\n",
        "  \"model\": \"Mustang\",\n",
        "  \"year\": 1964\n",
        "}\n",
        "print(thisdict[\"brand\"])"
      ],
      "metadata": {
        "id": "IRoJ3c0b2gBR"
      },
      "execution_count": null,
      "outputs": []
    },
    {
      "cell_type": "code",
      "source": [
        "x = thisdict.get(\"model\")\n",
        "x"
      ],
      "metadata": {
        "id": "sOIz9W_Jv7Fb"
      },
      "execution_count": null,
      "outputs": []
    },
    {
      "cell_type": "code",
      "source": [
        "x = thisdict.keys()\n",
        "x"
      ],
      "metadata": {
        "id": "196lQgZGvmWj"
      },
      "execution_count": null,
      "outputs": []
    },
    {
      "cell_type": "code",
      "source": [
        "x = thisdict.values()\n",
        "x"
      ],
      "metadata": {
        "id": "nzcqI-PdWgIc"
      },
      "execution_count": null,
      "outputs": []
    },
    {
      "cell_type": "code",
      "source": [
        "car = {\n",
        "\"brand\": \"Ford\",\n",
        "\"model\": \"Mustang\",\n",
        "\"year\": 1964\n",
        "}\n",
        "\n",
        "x = car.values()\n",
        "\n",
        "print(x) #before the change\n",
        "\n",
        "car[\"year\"] = 2020\n",
        "\n",
        "print(x) #after the change"
      ],
      "metadata": {
        "id": "zc4fVqptW4K9"
      },
      "execution_count": null,
      "outputs": []
    },
    {
      "cell_type": "code",
      "source": [
        "car = {\n",
        "\"brand\": \"Ford\",\n",
        "\"model\": \"Mustang\",\n",
        "\"year\": 1964\n",
        "}\n",
        "\n",
        "x = car.values()\n",
        "\n",
        "print(x) #before the change\n",
        "\n",
        "car[\"color\"] = \"red\"\n",
        "\n",
        "print(x) #after the change"
      ],
      "metadata": {
        "id": "pDqLmw9IW6_M"
      },
      "execution_count": null,
      "outputs": []
    },
    {
      "cell_type": "code",
      "source": [
        "x = thisdict.items()"
      ],
      "metadata": {
        "id": "vtS4Y62tXAmE"
      },
      "execution_count": null,
      "outputs": []
    },
    {
      "cell_type": "code",
      "source": [
        "car = {\n",
        "\"brand\": \"Ford\",\n",
        "\"model\": \"Mustang\",\n",
        "\"year\": 1964\n",
        "}\n",
        "\n",
        "x = car.items()\n",
        "\n",
        "print(x) #before the change\n",
        "\n",
        "car[\"year\"] = 2020\n",
        "\n",
        "print(x) #after the change"
      ],
      "metadata": {
        "id": "iyb6HEDPXEbs"
      },
      "execution_count": null,
      "outputs": []
    },
    {
      "cell_type": "code",
      "source": [
        "car = {\n",
        "\"brand\": \"Ford\",\n",
        "\"model\": \"Mustang\",\n",
        "\"year\": 1964\n",
        "}\n",
        "\n",
        "x = car.items()\n",
        "\n",
        "print(x) #before the change\n",
        "\n",
        "car[\"color\"] = \"red\"\n",
        "\n",
        "print(x) #after the change\n"
      ],
      "metadata": {
        "id": "oReQFXpJXHQc"
      },
      "execution_count": null,
      "outputs": []
    },
    {
      "cell_type": "code",
      "source": [
        "thisdict = {\n",
        "  \"brand\": \"Ford\",\n",
        "  \"model\": \"Mustang\",\n",
        "  \"year\": 1964\n",
        "}\n",
        "if \"model\" in thisdict:\n",
        "  print(\"Yes, 'model' is one of the keys in the thisdict dictionary\")"
      ],
      "metadata": {
        "id": "G5cSkdO4XLus"
      },
      "execution_count": null,
      "outputs": []
    },
    {
      "cell_type": "code",
      "source": [
        "thisdict = {\n",
        "  \"brand\": \"Ford\",\n",
        "  \"model\": \"Mustang\",\n",
        "  \"year\": 1964\n",
        "}\n",
        "thisdict[\"year\"] = 2018"
      ],
      "metadata": {
        "id": "skPWXit2ZSow"
      },
      "execution_count": null,
      "outputs": []
    },
    {
      "cell_type": "code",
      "source": [
        "thisdict = {\n",
        "  \"brand\": \"Ford\",\n",
        "  \"model\": \"Mustang\",\n",
        "  \"year\": 1964\n",
        "}\n",
        "thisdict.update({\"year\": 2020})"
      ],
      "metadata": {
        "id": "zWcXBn_vZTUH"
      },
      "execution_count": null,
      "outputs": []
    },
    {
      "cell_type": "code",
      "source": [
        "thisdict = {\n",
        "  \"brand\": \"Ford\",\n",
        "  \"model\": \"Mustang\",\n",
        "  \"year\": 1964\n",
        "}\n",
        "thisdict[\"color\"] = \"red\"\n",
        "print(thisdict)"
      ],
      "metadata": {
        "id": "egtsLvb7ZWJ3"
      },
      "execution_count": null,
      "outputs": []
    },
    {
      "cell_type": "code",
      "source": [
        "thisdict = {\n",
        "  \"brand\": \"Ford\",\n",
        "  \"model\": \"Mustang\",\n",
        "  \"year\": 1964\n",
        "}\n",
        "thisdict.update({\"color\": \"red\"})"
      ],
      "metadata": {
        "id": "ZJbFXKlHZa2v"
      },
      "execution_count": null,
      "outputs": []
    },
    {
      "cell_type": "code",
      "source": [
        "thisdict = {\n",
        "  \"brand\": \"Ford\",\n",
        "  \"model\": \"Mustang\",\n",
        "  \"year\": 1964\n",
        "}\n",
        "thisdict.pop(\"model\")\n",
        "print(thisdict)"
      ],
      "metadata": {
        "id": "QzgzpdF4Zc3X"
      },
      "execution_count": null,
      "outputs": []
    },
    {
      "cell_type": "code",
      "source": [
        "thisdict = {\n",
        "  \"brand\": \"Ford\",\n",
        "  \"model\": \"Mustang\",\n",
        "  \"year\": 1964\n",
        "}\n",
        "thisdict.popitem()\n",
        "print(thisdict)"
      ],
      "metadata": {
        "id": "BUSmiO6_ZhM7"
      },
      "execution_count": null,
      "outputs": []
    },
    {
      "cell_type": "code",
      "source": [
        "thisdict = {\n",
        "  \"brand\": \"Ford\",\n",
        "  \"model\": \"Mustang\",\n",
        "  \"year\": 1964\n",
        "}\n",
        "del thisdict[\"model\"]\n",
        "print(thisdict)"
      ],
      "metadata": {
        "id": "f3M1J25jZj77"
      },
      "execution_count": null,
      "outputs": []
    },
    {
      "cell_type": "code",
      "source": [
        "thisdict = {\n",
        "  \"brand\": \"Ford\",\n",
        "  \"model\": \"Mustang\",\n",
        "  \"year\": 1964\n",
        "}\n",
        "del thisdict\n",
        "print(thisdict) #this will cause an error because \"thisdict\" no longer exists."
      ],
      "metadata": {
        "id": "t6t1WmhzZl4D"
      },
      "execution_count": null,
      "outputs": []
    },
    {
      "cell_type": "code",
      "source": [
        "thisdict = {\n",
        "  \"brand\": \"Ford\",\n",
        "  \"model\": \"Mustang\",\n",
        "  \"year\": 1964\n",
        "}\n",
        "thisdict.clear()\n",
        "print(thisdict)"
      ],
      "metadata": {
        "id": "kKmFxpKgZn2V"
      },
      "execution_count": null,
      "outputs": []
    },
    {
      "cell_type": "markdown",
      "source": [
        "Loop Through a Dictionary"
      ],
      "metadata": {
        "id": "7dkw9ivnZsJO"
      }
    },
    {
      "cell_type": "code",
      "source": [
        "for x in thisdict:\n",
        "  print(x)"
      ],
      "metadata": {
        "id": "jvVxf-fdZso7"
      },
      "execution_count": null,
      "outputs": []
    },
    {
      "cell_type": "code",
      "source": [
        "for x in thisdict.values():\n",
        "  print(x)"
      ],
      "metadata": {
        "id": "M8t48zkcZwKt"
      },
      "execution_count": null,
      "outputs": []
    },
    {
      "cell_type": "code",
      "source": [
        "for x in thisdict.keys():\n",
        "  print(x)"
      ],
      "metadata": {
        "id": "YpSRPxaNZxvU"
      },
      "execution_count": null,
      "outputs": []
    },
    {
      "cell_type": "code",
      "source": [
        "for x, y in thisdict.items():\n",
        "  print(x, y)"
      ],
      "metadata": {
        "id": "ctX4AIO3ZzoU"
      },
      "execution_count": null,
      "outputs": []
    },
    {
      "cell_type": "code",
      "source": [
        "thisdict = {\n",
        "  \"brand\": \"Ford\",\n",
        "  \"model\": \"Mustang\",\n",
        "  \"year\": 1964\n",
        "}\n",
        "mydict = thisdict.copy()\n",
        "print(mydict)"
      ],
      "metadata": {
        "id": "tVYp0aUHZ0Uj"
      },
      "execution_count": null,
      "outputs": []
    },
    {
      "cell_type": "code",
      "source": [
        "thisdict = {\n",
        "  \"brand\": \"Ford\",\n",
        "  \"model\": \"Mustang\",\n",
        "  \"year\": 1964\n",
        "}\n",
        "mydict = dict(thisdict)\n",
        "print(mydict)"
      ],
      "metadata": {
        "id": "WzYel2NpZ49D"
      },
      "execution_count": null,
      "outputs": []
    },
    {
      "cell_type": "markdown",
      "source": [
        "nested dict"
      ],
      "metadata": {
        "id": "b6-8D-1MkZ00"
      }
    },
    {
      "cell_type": "code",
      "source": [
        "myfamily = {\n",
        "  \"child1\" : {\n",
        "    \"name\" : \"Emil\",\n",
        "    \"year\" : 2004\n",
        "  },\n",
        "  \"child2\" : {\n",
        "    \"name\" : \"Tobias\",\n",
        "    \"year\" : 2007\n",
        "  },\n",
        "  \"child3\" : {\n",
        "    \"name\" : \"Linus\",\n",
        "    \"year\" : 2011\n",
        "  }\n",
        "}\n",
        "myfamily"
      ],
      "metadata": {
        "id": "Pj8-x0DakbR4"
      },
      "execution_count": null,
      "outputs": []
    },
    {
      "cell_type": "code",
      "source": [
        "child1 = {\n",
        "  \"name\" : \"Emil\",\n",
        "  \"year\" : 2004\n",
        "}\n",
        "child2 = {\n",
        "  \"name\" : \"Tobias\",\n",
        "  \"year\" : 2007\n",
        "}\n",
        "child3 = {\n",
        "  \"name\" : \"Linus\",\n",
        "  \"year\" : 2011\n",
        "}\n",
        "\n",
        "myfamily = {\n",
        "  \"child1\" : child1,\n",
        "  \"child2\" : child2,\n",
        "  \"child3\" : child3\n",
        "}"
      ],
      "metadata": {
        "id": "l2HTw60HkyPo"
      },
      "execution_count": null,
      "outputs": []
    },
    {
      "cell_type": "code",
      "source": [
        "print(myfamily[\"child2\"][\"name\"])"
      ],
      "metadata": {
        "id": "DznxoJzll-sf"
      },
      "execution_count": null,
      "outputs": []
    },
    {
      "cell_type": "markdown",
      "source": [
        "Method\tDescription\n",
        "\n",
        "clear()\tRemoves all the elements from the dictionary\n",
        "\n",
        "copy()\tReturns a copy of the dictionary\n",
        "\n",
        "fromkeys()\tReturns a dictionary with the specified keys and value\n",
        "\n",
        "get()\tReturns the value of the specified key\n",
        "\n",
        "items()\tReturns a list containing a tuple for each key value pair\n",
        "\n",
        "keys()\tReturns a list containing the dictionary's keys\n",
        "\n",
        "pop()\tRemoves the element with the specified key\n",
        "\n",
        "popitem()\tRemoves the last inserted key-value pair\n",
        "\n",
        "setdefault()\tReturns the value of the specified key. If the key does not exist: insert the key, with the specified value\n",
        "\n",
        "update()\tUpdates the dictionary with the specified key-value pairs\n",
        "\n",
        "values()\tReturns a list of all the values in the dictionary\n"
      ],
      "metadata": {
        "id": "DLl-sFXrmCSH"
      }
    },
    {
      "cell_type": "markdown",
      "source": [
        "**if else**"
      ],
      "metadata": {
        "id": "V8N7HCnJcmQi"
      }
    },
    {
      "cell_type": "markdown",
      "source": [
        "Python supports the usual logical conditions from mathematics:\n",
        "\n",
        "Equals: a == b\n",
        "\n",
        "Not Equals: a != b\n",
        "\n",
        "Less than: a < b\n",
        "\n",
        "Less than or equal to: a <= b\n",
        "\n",
        "Greater than: a > b\n",
        "\n",
        "Greater than or equal to: a >= b\n",
        "\n",
        "These conditions can be used in several ways, most commonly in \"if statements\" and loops."
      ],
      "metadata": {
        "id": "niOrNlYSw8VN"
      }
    },
    {
      "cell_type": "code",
      "source": [
        "a = 33\n",
        "b = 200\n",
        "if b > a:\n",
        "  print(\"b is greater than a\")"
      ],
      "metadata": {
        "id": "GItkU29aw7eE"
      },
      "execution_count": null,
      "outputs": []
    },
    {
      "cell_type": "code",
      "source": [
        "a = 33\n",
        "b = 33\n",
        "if b > a:\n",
        "  print(\"b is greater than a\")\n",
        "elif a == b:\n",
        "  print(\"a and b are equal\")"
      ],
      "metadata": {
        "id": "2bYuw_A2PkSn"
      },
      "execution_count": null,
      "outputs": []
    },
    {
      "cell_type": "code",
      "source": [
        "a = 200\n",
        "b = 33\n",
        "if b > a:\n",
        "  print(\"b is greater than a\")\n",
        "elif a == b:\n",
        "  print(\"a and b are equal\")\n",
        "else:\n",
        "  print(\"a is greater than b\")"
      ],
      "metadata": {
        "id": "f9eErUDSPr_e"
      },
      "execution_count": null,
      "outputs": []
    },
    {
      "cell_type": "code",
      "source": [
        "a = 2\n",
        "b = 330\n",
        "print(\"A\") if a > b else print(\"B\")"
      ],
      "metadata": {
        "id": "Pmy2ow11QFs3"
      },
      "execution_count": null,
      "outputs": []
    },
    {
      "cell_type": "code",
      "source": [
        "a = 200\n",
        "b = 33\n",
        "c = 500\n",
        "if a > b and c > a:\n",
        "  print(\"Both conditions are True\")"
      ],
      "metadata": {
        "id": "WIIy2WZ8QRAO"
      },
      "execution_count": null,
      "outputs": []
    },
    {
      "cell_type": "code",
      "source": [
        "a = 200\n",
        "b = 33\n",
        "c = 500\n",
        "if a > b or a > c:\n",
        "  print(\"At least one of the conditions is True\")"
      ],
      "metadata": {
        "id": "7LjrYPulQd8m"
      },
      "execution_count": null,
      "outputs": []
    },
    {
      "cell_type": "markdown",
      "source": [
        "nested if"
      ],
      "metadata": {
        "id": "l8pW4ghYX8gM"
      }
    },
    {
      "cell_type": "code",
      "source": [
        "x = 17\n",
        "\n",
        "if x > 10:\n",
        "  print(\"Above ten,\")\n",
        "  if x > 20:\n",
        "    print(\"and also above 20!\")\n",
        "  else:\n",
        "    print(\"but not above 20.\")"
      ],
      "metadata": {
        "id": "_edolC2yQ8hu"
      },
      "execution_count": null,
      "outputs": []
    },
    {
      "cell_type": "code",
      "source": [
        "a = 33\n",
        "b = 200\n",
        "\n",
        "if b > a:\n",
        "  pass"
      ],
      "metadata": {
        "id": "kGwhwQpKYI88"
      },
      "execution_count": null,
      "outputs": []
    },
    {
      "cell_type": "code",
      "source": [
        "i = 1\n",
        "while i < 6:\n",
        "  print(i)\n",
        "  i+=1\n",
        "\n"
      ],
      "metadata": {
        "id": "Ol0K87tOYgfu"
      },
      "execution_count": null,
      "outputs": []
    },
    {
      "cell_type": "markdown",
      "source": [
        "while loop"
      ],
      "metadata": {
        "id": "_79cLUPIch04"
      }
    },
    {
      "cell_type": "code",
      "source": [
        "i = 1\n",
        "while i < 6:\n",
        "  print(i)\n",
        "  if i == 3:\n",
        "    break\n",
        "  i += 1"
      ],
      "metadata": {
        "id": "GZQFDYwzY5pM"
      },
      "execution_count": null,
      "outputs": []
    },
    {
      "cell_type": "code",
      "source": [
        "i = 1\n",
        "while i < 6:\n",
        "  i+=1\n",
        "  if i == 3:\n",
        "    continue\n",
        "  print(i)\n"
      ],
      "metadata": {
        "id": "ucBceyZJcrji"
      },
      "execution_count": null,
      "outputs": []
    },
    {
      "cell_type": "code",
      "source": [
        "i = 2\n",
        "while i < 6:\n",
        "  print(i)\n",
        "  i += 1\n",
        "else:\n",
        "  print(\"i is no longer less than 6\")"
      ],
      "metadata": {
        "id": "RZttJ2tedXJC"
      },
      "execution_count": null,
      "outputs": []
    },
    {
      "cell_type": "code",
      "source": [
        "i = 2\n",
        "while i < 6:\n",
        "  i += 1\n",
        "  print(i)\n",
        "\n",
        "else:\n",
        "  print(\"i is no longer less than 6\")"
      ],
      "metadata": {
        "id": "tCmGOUsaf0ra"
      },
      "execution_count": null,
      "outputs": []
    },
    {
      "cell_type": "markdown",
      "source": [
        "for loops"
      ],
      "metadata": {
        "id": "wt3A1kOVgSQC"
      }
    },
    {
      "cell_type": "code",
      "source": [
        "for x in \"banana\":\n",
        "  print(x)"
      ],
      "metadata": {
        "id": "1P46MUWNgIjC"
      },
      "execution_count": null,
      "outputs": []
    },
    {
      "cell_type": "code",
      "source": [
        "fruits = [\"apple\", \"banana\", \"cherry\"]\n",
        "for x in fruits:\n",
        "  print(x)\n",
        "  if x == \"banana\":\n",
        "    break"
      ],
      "metadata": {
        "id": "XKvF4AEugX1y"
      },
      "execution_count": null,
      "outputs": []
    },
    {
      "cell_type": "code",
      "source": [
        "fruits = [\"apple\", \"banana\", \"cherry\"]\n",
        "for x in fruits:\n",
        "  if x == \"banana\":\n",
        "    break\n",
        "  print(x)"
      ],
      "metadata": {
        "id": "PhqJcvgshAgq"
      },
      "execution_count": null,
      "outputs": []
    },
    {
      "cell_type": "code",
      "source": [
        "fruits = [\"apple\", \"banana\", \"cherry\"] #With the continue statement we can stop the current iteration of the loop, and continue with the next\n",
        "for x in fruits:\n",
        "  if x == \"banana\":\n",
        "    continue\n",
        "  print(x)"
      ],
      "metadata": {
        "id": "fbMH6M7XrHFd"
      },
      "execution_count": null,
      "outputs": []
    },
    {
      "cell_type": "markdown",
      "source": [
        "The range() Function"
      ],
      "metadata": {
        "id": "Zyz5m0XLsfhd"
      }
    },
    {
      "cell_type": "code",
      "source": [
        "for x in range(6):\n",
        "  print(x)"
      ],
      "metadata": {
        "id": "l_uPhElqsDHF"
      },
      "execution_count": null,
      "outputs": []
    },
    {
      "cell_type": "code",
      "source": [
        "for x in range(2, 6):\n",
        "  print(x)"
      ],
      "metadata": {
        "id": "6pC8hKJLs7Rt"
      },
      "execution_count": null,
      "outputs": []
    },
    {
      "cell_type": "code",
      "source": [
        "for x in range(6):\n",
        "  print(x)\n",
        "else:\n",
        "  print(\"Finally finished!\")"
      ],
      "metadata": {
        "id": "ToVW4Pb-tEgv"
      },
      "execution_count": null,
      "outputs": []
    },
    {
      "cell_type": "code",
      "source": [
        "for x in range(6):\n",
        "  if x == 3: break\n",
        "  print(x)\n",
        "else:\n",
        "  print(\"Finally finished!\")"
      ],
      "metadata": {
        "id": "Uv6JTsC3tIe4"
      },
      "execution_count": null,
      "outputs": []
    },
    {
      "cell_type": "code",
      "source": [
        "adj = [\"red\", \"big\", \"tasty\"]\n",
        "fruits = [\"apple\", \"banana\", \"cherry\"]\n",
        "\n",
        "for x in adj:\n",
        "  for y in fruits:\n",
        "    print(x, y)"
      ],
      "metadata": {
        "id": "IExiYyomtakv"
      },
      "execution_count": null,
      "outputs": []
    },
    {
      "cell_type": "code",
      "source": [
        "for x in [0, 1, 2]:\n",
        "  pass"
      ],
      "metadata": {
        "id": "52on1wc2tgsV"
      },
      "execution_count": null,
      "outputs": []
    },
    {
      "cell_type": "markdown",
      "source": [
        "# Python Lambda"
      ],
      "metadata": {
        "id": "W0AMPzboujxt"
      }
    },
    {
      "cell_type": "markdown",
      "source": [
        "A lambda function is a small anonymous function.\n",
        "\n",
        "A lambda function can take any number of arguments, but can only have one expression.\n",
        "\n"
      ],
      "metadata": {
        "id": "WQWYeWfNwZlc"
      }
    },
    {
      "cell_type": "code",
      "source": [
        "x = lambda a : a + 10\n",
        "print(x(5))"
      ],
      "metadata": {
        "id": "Hxo3_uzrwp4U"
      },
      "execution_count": null,
      "outputs": []
    },
    {
      "cell_type": "code",
      "source": [
        "x = lambda a, b : a * b\n",
        "print(x(5, 6))"
      ],
      "metadata": {
        "id": "_XhUVwFEtkVG"
      },
      "execution_count": null,
      "outputs": []
    },
    {
      "cell_type": "code",
      "source": [
        "def myfunc(n):\n",
        "  return lambda a : a * n\n"
      ],
      "metadata": {
        "id": "B166OwME1NCi"
      },
      "execution_count": null,
      "outputs": []
    },
    {
      "cell_type": "code",
      "source": [
        "def myfunc(n):\n",
        "  return lambda a : a * n\n",
        "\n",
        "mydoubler = myfunc(2)\n",
        "\n",
        "print(mydoubler(11))"
      ],
      "metadata": {
        "id": "5qV-1dtd3Dvr"
      },
      "execution_count": null,
      "outputs": []
    },
    {
      "cell_type": "code",
      "source": [
        "def myfunc(n):\n",
        "  return lambda a : a * n\n",
        "\n",
        "mytripler = myfunc(3)\n",
        "\n",
        "print(mytripler(11))"
      ],
      "metadata": {
        "id": "OhNcBknZ2zwm"
      },
      "execution_count": null,
      "outputs": []
    },
    {
      "cell_type": "code",
      "source": [
        "def myfunc(n):\n",
        "  return lambda a : a * n\n",
        "\n",
        "mydoubler = myfunc(2)\n",
        "mytripler = myfunc(3)\n",
        "\n",
        "print(mydoubler(11))\n",
        "print(mytripler(11))"
      ],
      "metadata": {
        "id": "-LPG96Lt2p1C"
      },
      "execution_count": null,
      "outputs": []
    },
    {
      "cell_type": "markdown",
      "source": [
        "**Arrays**"
      ],
      "metadata": {
        "id": "4vRtGwpPFMdN"
      }
    },
    {
      "cell_type": "code",
      "source": [
        "cars = [\"Ford\", \"Volvo\", \"BMW\"]"
      ],
      "metadata": {
        "id": "nwi4gjXA-o4n"
      },
      "execution_count": null,
      "outputs": []
    },
    {
      "cell_type": "code",
      "source": [
        "x = cars[0]\n",
        "x"
      ],
      "metadata": {
        "id": "lgNDHPtFEP0w"
      },
      "execution_count": null,
      "outputs": []
    },
    {
      "cell_type": "code",
      "source": [
        "x = len(cars)\n",
        "x"
      ],
      "metadata": {
        "id": "GFYCIE0HEcD8"
      },
      "execution_count": null,
      "outputs": []
    },
    {
      "cell_type": "code",
      "source": [
        "for x in cars:\n",
        "  print(x)"
      ],
      "metadata": {
        "id": "rrcm4w1uFARx"
      },
      "execution_count": null,
      "outputs": []
    },
    {
      "cell_type": "code",
      "source": [
        "cars.append(\"Honda\")\n",
        "cars"
      ],
      "metadata": {
        "id": "SvtQ6EMIFbmG"
      },
      "execution_count": null,
      "outputs": []
    },
    {
      "cell_type": "code",
      "source": [
        "cars.pop(1)\n",
        "cars"
      ],
      "metadata": {
        "id": "4riOit26FfcP"
      },
      "execution_count": null,
      "outputs": []
    },
    {
      "cell_type": "code",
      "source": [
        "cars.remove(\"BMW\")\n",
        "cars"
      ],
      "metadata": {
        "id": "iubph-4rFj4z"
      },
      "execution_count": null,
      "outputs": []
    },
    {
      "cell_type": "markdown",
      "source": [
        "Method\tDescription\n",
        "\n",
        "append()\tAdds an element at the end of the list\n",
        "\n",
        "clear()\tRemoves all the elements from the list\n",
        "\n",
        "copy()\tReturns a copy of the list\n",
        "\n",
        "count()\tReturns the number of elements with the specified value\n",
        "\n",
        "extend()\tAdd the elements of a list (or any iterable), to the end of the current list\n",
        "\n",
        "index()\tReturns the index of the first element with the specified value\n",
        "\n",
        "insert()\tAdds an element at the specified position\n",
        "\n",
        "pop()\tRemoves the element at the specified position\n",
        "\n",
        "remove()\tRemoves the first item with the specified value\n",
        "\n",
        "reverse()\tReverses the order of the list\n",
        "\n",
        "sort()\tSorts the list"
      ],
      "metadata": {
        "id": "yYhqAyDkGWPl"
      }
    },
    {
      "cell_type": "markdown",
      "source": [
        "Python **Classes**/**Objects**"
      ],
      "metadata": {
        "id": "0MyjdrtSaD2P"
      }
    },
    {
      "cell_type": "markdown",
      "source": [
        "Python is an object oriented programming language.\n",
        "\n",
        "Almost everything in Python is an object, with its properties and methods.\n",
        "\n",
        "A Class is like an object constructor, or a \"blueprint\" for creating objects."
      ],
      "metadata": {
        "id": "e2kF-aVIaKCw"
      }
    },
    {
      "cell_type": "code",
      "source": [
        "class MyClass:\n",
        "  x = 5"
      ],
      "metadata": {
        "id": "IxVdxAdwGNjF"
      },
      "execution_count": null,
      "outputs": []
    },
    {
      "cell_type": "code",
      "source": [
        "p1 = MyClass()\n",
        "print(p1.x)"
      ],
      "metadata": {
        "id": "K1qAKmgZaaLF"
      },
      "execution_count": null,
      "outputs": []
    },
    {
      "cell_type": "markdown",
      "source": [
        "All classes have a function called __init__(), which is always executed when the class is being initiated.\n",
        "\n",
        "Use the __init__() function to assign values to object properties, or other operations that are necessary to do when the object is being created"
      ],
      "metadata": {
        "id": "lYm5PNc_c0P3"
      }
    },
    {
      "cell_type": "code",
      "source": [
        "class Person:\n",
        "  def __init__(self, name, age):\n",
        "    self.name = name\n",
        "    self.age = age\n",
        "\n",
        "p1 = Person(\"John\", 36)\n",
        "\n",
        "print(p1.name)\n",
        "print(p1.age)"
      ],
      "metadata": {
        "id": "8SiLnvefankC"
      },
      "execution_count": null,
      "outputs": []
    },
    {
      "cell_type": "code",
      "source": [
        "class Person:\n",
        "  def __init__(self, name, age):\n",
        "    self.name = name\n",
        "    self.age = age\n",
        "\n",
        "  def __str__(self):\n",
        "    return f\"{self.name}({self.age})\"\n",
        "\n",
        "p1 = Person(\"John\", 36)\n",
        "\n",
        "print(p1)"
      ],
      "metadata": {
        "id": "PRogdDnuWYps"
      },
      "execution_count": null,
      "outputs": []
    },
    {
      "cell_type": "code",
      "source": [
        "class person\n",
        " def __init__(self,name,age):\n",
        "  self.name=name\n",
        "  self.age=age\n",
        "\n",
        " def __str__(self) :\n",
        "  return f\"{self.name}({self.age})\"\n",
        "\n",
        "   p1=person('john',36)\n",
        "   print(p1)"
      ],
      "metadata": {
        "id": "7CydsRQHl0I6"
      },
      "execution_count": null,
      "outputs": []
    },
    {
      "cell_type": "code",
      "source": [
        "class Person:\n",
        "  def __init__(self, name, age):\n",
        "    self.name = name\n",
        "    self.age = age\n",
        "\n",
        "  def myfunc(self):\n",
        "    print(\"Hello my name is \" + self.name)\n",
        "\n",
        "p1 = Person(\"John\", 36)\n",
        "p1.myfunc()"
      ],
      "metadata": {
        "id": "-uTzrJICepmP"
      },
      "execution_count": null,
      "outputs": []
    },
    {
      "cell_type": "markdown",
      "source": [
        "The self parameter is a reference to the current instance of the class, and is used to access variables that belongs to the class.\n",
        "\n",
        "It does not have to be named self , you can call it whatever you like, but it has to be the first parameter of any function in the class"
      ],
      "metadata": {
        "id": "F8MOxvfTevQk"
      }
    },
    {
      "cell_type": "code",
      "source": [
        "class Person:\n",
        "  def __init__(mysillyobject, name, age):\n",
        "    mysillyobject.name = name\n",
        "    mysillyobject.age = age\n",
        "\n",
        "  def myfunc(abc):\n",
        "    print(\"Hello my name is \" + abc.name)\n",
        "\n",
        "p1 = Person(\"John\", 36)\n",
        "p1.myfunc()"
      ],
      "metadata": {
        "id": "A_aPADMTeu_U"
      },
      "execution_count": null,
      "outputs": []
    },
    {
      "cell_type": "code",
      "source": [
        "p1.age = 40"
      ],
      "metadata": {
        "id": "7668yyKHdi5P"
      },
      "execution_count": null,
      "outputs": []
    },
    {
      "cell_type": "code",
      "source": [
        "del p1.age"
      ],
      "metadata": {
        "id": "hlj39VNKjLQm"
      },
      "execution_count": null,
      "outputs": []
    },
    {
      "cell_type": "code",
      "source": [],
      "metadata": {
        "id": "mf47ff_7jNaf"
      },
      "execution_count": null,
      "outputs": []
    },
    {
      "cell_type": "markdown",
      "source": [
        "# Python Inheritance"
      ],
      "metadata": {
        "id": "Kw1rRJKQopUI"
      }
    },
    {
      "cell_type": "markdown",
      "source": [
        "Inheritance allows us to define a class that inherits all the methods and properties from another class.\n",
        "\n",
        "Parent class is the class being inherited from, also called base class.\n",
        "\n",
        "Child class is the class that inherits from another class, also called derived class."
      ],
      "metadata": {
        "id": "Z9eMPoocoa0p"
      }
    },
    {
      "cell_type": "code",
      "source": [
        "class Person:\n",
        "  def __init__(self, fname, lname):\n",
        "    self.firstname = fname\n",
        "    self.lastname = lname\n",
        "\n",
        "  def printname(self):\n",
        "    print(self.firstname, self.lastname)\n",
        "\n",
        "#Use the Person class to create an object, and then execute the printname method:\n",
        "\n",
        "x = Person(\"John\", \"Doe\")\n",
        "x.printname()"
      ],
      "metadata": {
        "id": "LPx74p13nFEA"
      },
      "execution_count": null,
      "outputs": []
    },
    {
      "cell_type": "code",
      "source": [
        "mytuple = (\"apple\", \"banana\", \"cherry\")\n",
        "myit = iter(mytuple)\n",
        "\n",
        "print(next(myit))\n",
        "print(next(myit))\n",
        "print(next(myit))"
      ],
      "metadata": {
        "id": "G_XS6lMWIyrN"
      },
      "execution_count": null,
      "outputs": []
    },
    {
      "cell_type": "code",
      "source": [
        "mystr = \"banana\"\n",
        "myit = iter(mystr)\n",
        "\n",
        "print(next(myit))\n",
        "print(next(myit))\n",
        "print(next(myit))\n",
        "print(next(myit))\n",
        "print(next(myit))\n",
        "print(next(myit))"
      ],
      "metadata": {
        "id": "2Bz1EzVOoNqg"
      },
      "execution_count": null,
      "outputs": []
    },
    {
      "cell_type": "code",
      "source": [
        "mytuple = (\"apple\", \"banana\", \"cherry\")\n",
        "\n",
        "for x in mytuple:\n",
        "  print(x)"
      ],
      "metadata": {
        "id": "9NrXy_TyMDz8"
      },
      "execution_count": null,
      "outputs": []
    },
    {
      "cell_type": "code",
      "source": [
        "mystr='banana'\n",
        "for x in mystr:\n",
        "  print(x)"
      ],
      "metadata": {
        "id": "06thxmkgMYXV"
      },
      "execution_count": null,
      "outputs": []
    },
    {
      "cell_type": "code",
      "source": [
        "class MyNumbers:\n",
        "  def __iter__(self):\n",
        "    self.a = 1\n",
        "    return self\n",
        "\n",
        "  def __next__(self):\n",
        "    x = self.a\n",
        "    self.a += 1\n",
        "    return x\n",
        "\n",
        "myclass = MyNumbers()\n",
        "myiter = iter(myclass)\n",
        "\n",
        "print(next(myiter))\n",
        "print(next(myiter))\n",
        "print(next(myiter))\n",
        "print(next(myiter))\n",
        "print(next(myiter))"
      ],
      "metadata": {
        "id": "kxvwZiLaT5iJ"
      },
      "execution_count": null,
      "outputs": []
    },
    {
      "cell_type": "markdown",
      "source": [
        "# StopIteration"
      ],
      "metadata": {
        "id": "ymXAXM2cp6h2"
      }
    },
    {
      "cell_type": "code",
      "source": [
        "class MyNumbers:\n",
        "  def __iter__(self):\n",
        "    self.a = 1\n",
        "    return self\n",
        "\n",
        "  def __next__(self):\n",
        "    if self.a <= 20:\n",
        "      x = self.a\n",
        "      self.a += 1\n",
        "      return x\n",
        "    else:\n",
        "      raise StopIteration\n",
        "\n",
        "myclass = MyNumbers()\n",
        "myiter = iter(myclass)\n",
        "\n",
        "for x in myiter:\n",
        "  print(x)"
      ],
      "metadata": {
        "id": "p6PYE8yGqQxc"
      },
      "execution_count": null,
      "outputs": []
    },
    {
      "cell_type": "markdown",
      "source": [
        "# Function Polymorphism\n",
        "the len function is best eg"
      ],
      "metadata": {
        "id": "wjRO8jRIrZZN"
      }
    },
    {
      "cell_type": "code",
      "source": [
        "x = \"Hello World!\"\n",
        "\n",
        "print(len(x))"
      ],
      "metadata": {
        "id": "ezP1GPpZrDC-"
      },
      "execution_count": null,
      "outputs": []
    },
    {
      "cell_type": "code",
      "source": [
        "mytuple = (\"apple\", \"banana\", \"cherry\")\n",
        "\n",
        "print(len(mytuple))"
      ],
      "metadata": {
        "id": "M_nKo-jZroq0"
      },
      "execution_count": null,
      "outputs": []
    },
    {
      "cell_type": "code",
      "source": [
        "thisdict = {\n",
        "  \"brand\": \"Ford\",\n",
        "  \"model\": \"Mustang\",\n",
        "  \"year\": 1964\n",
        "}\n",
        "\n",
        "print(len(thisdict))"
      ],
      "metadata": {
        "id": "nguUa6iLr06s"
      },
      "execution_count": null,
      "outputs": []
    },
    {
      "cell_type": "markdown",
      "source": [
        "# Class Polymorphism\n",
        "we can have multiple classes with the same method name.\n",
        "\n",
        "For example, say we have three classes: Car, Boat, and Plane, and they all have a method called move()"
      ],
      "metadata": {
        "id": "QhW0QRNPsadk"
      }
    },
    {
      "cell_type": "code",
      "source": [
        "class Car:\n",
        "  def __init__(self, brand, model):\n",
        "    self.brand = brand\n",
        "    self.model = model\n",
        "\n",
        "  def move(self):\n",
        "    print(\"Drive!\")\n",
        "\n",
        "class Boat:\n",
        "  def __init__(self, brand, model):\n",
        "    self.brand = brand\n",
        "    self.model = model\n",
        "\n",
        "  def move(self):\n",
        "    print(\"Sail!\")\n",
        "\n",
        "class Plane:\n",
        "  def __init__(self, brand, model):\n",
        "    self.brand = brand\n",
        "    self.model = model\n",
        "\n",
        "  def move(self):\n",
        "    print(\"Fly!\")\n",
        "\n",
        "car1 = Car(\"Ford\", \"Mustang\")       #Create a Car class\n",
        "boat1 = Boat(\"Ibiza\", \"Touring 20\") #Create a Boat class\n",
        "plane1 = Plane(\"Boeing\", \"747\")     #Create a Plane class\n",
        "\n",
        "for x in (car1, boat1, plane1):\n",
        "  x.move()"
      ],
      "metadata": {
        "id": "C73GokWXr9Ic"
      },
      "execution_count": null,
      "outputs": []
    },
    {
      "cell_type": "markdown",
      "source": [
        "# Local Scope\n",
        "A variable created inside a function belongs to the local scope of that function, and can only be used inside that function."
      ],
      "metadata": {
        "id": "HcLX6Hz6M9r6"
      }
    },
    {
      "cell_type": "code",
      "source": [
        "def myfunc():\n",
        "  x = 300\n",
        "  print(x)\n",
        "\n",
        "myfunc()"
      ],
      "metadata": {
        "id": "ZkvZ696x2Rzw"
      },
      "execution_count": null,
      "outputs": []
    },
    {
      "cell_type": "code",
      "source": [
        "def myfunc():\n",
        "  x = 300\n",
        "  def myinnerfunc():\n",
        "    print(x)\n",
        "  myinnerfunc()\n",
        "\n",
        "myfunc()"
      ],
      "metadata": {
        "id": "giI4OfLbNHDa"
      },
      "execution_count": null,
      "outputs": []
    },
    {
      "cell_type": "markdown",
      "source": [
        "# Global Scope\n",
        "A variable created in the main body of the Python code is a global variable and belongs to the global scope.\n",
        "\n",
        "Global variables are available from within any scope, global and local."
      ],
      "metadata": {
        "id": "39ydgeAfVnMj"
      }
    },
    {
      "cell_type": "code",
      "source": [
        "x = 300\n",
        "\n",
        "def myfunc():\n",
        "  print(x)\n",
        "myfunc()\n",
        "print(x)"
      ],
      "metadata": {
        "id": "4qLE9I0kWUs8"
      },
      "execution_count": null,
      "outputs": []
    },
    {
      "cell_type": "code",
      "source": [
        "x =  300   #The function will print the local x, and then the code will print the global x\n",
        "\n",
        "def myfunc():\n",
        "  x = 200\n",
        "  print(x)\n",
        "\n",
        "myfunc()\n",
        "\n",
        "print(x)"
      ],
      "metadata": {
        "id": "NjHZ1ciwXWSk"
      },
      "execution_count": null,
      "outputs": []
    },
    {
      "cell_type": "code",
      "source": [
        "def myfunc():\n",
        "  global x\n",
        "  x = 300\n",
        "\n",
        "myfunc()\n",
        "\n",
        "print(x)"
      ],
      "metadata": {
        "id": "Ot3yCYQmZznk"
      },
      "execution_count": null,
      "outputs": []
    },
    {
      "cell_type": "code",
      "source": [
        "x = 300\n",
        "\n",
        "def myfunc():\n",
        "  global x\n",
        "  x = 200\n",
        "\n",
        "myfunc()\n",
        "\n",
        "print(x)"
      ],
      "metadata": {
        "id": "IIODQdQBboH9"
      },
      "execution_count": null,
      "outputs": []
    },
    {
      "cell_type": "markdown",
      "source": [
        "# Python Modules"
      ],
      "metadata": {
        "id": "qirfGJUHn1Km"
      }
    },
    {
      "cell_type": "code",
      "source": [
        "import platform\n",
        "\n",
        "x = platform.system()\n",
        "print(x)"
      ],
      "metadata": {
        "id": "Z87tVQeGtEvn"
      },
      "execution_count": null,
      "outputs": []
    },
    {
      "cell_type": "code",
      "source": [
        "import platform\n",
        "\n",
        "x = dir(platform)\n",
        "print(x)"
      ],
      "metadata": {
        "id": "gcQ2qahJwOB_"
      },
      "execution_count": null,
      "outputs": []
    },
    {
      "cell_type": "code",
      "source": [
        "def greeting(name):\n",
        "  print(\"Hello, \" + name)\n",
        "\n",
        "person1 = {\n",
        "  \"name\": \"John\",\n",
        "  \"age\": 36,\n",
        "  \"country\": \"Norway\"\n",
        "}"
      ],
      "metadata": {
        "id": "0fKcyO4twTFB"
      },
      "execution_count": null,
      "outputs": []
    },
    {
      "cell_type": "code",
      "source": [
        "import datetime\n",
        "\n",
        "x = datetime.datetime.now()\n",
        "print(x)"
      ],
      "metadata": {
        "id": "8pJmGoy70tbv"
      },
      "execution_count": null,
      "outputs": []
    },
    {
      "cell_type": "code",
      "source": [
        "import datetime\n",
        "\n",
        "x = datetime.datetime.now()\n",
        "\n",
        "print(x.year)\n",
        "print(x.strftime('%A'))"
      ],
      "metadata": {
        "id": "0pXVtjL91-gg"
      },
      "execution_count": null,
      "outputs": []
    },
    {
      "cell_type": "code",
      "source": [
        "import datetime\n",
        "\n",
        "x = datetime.datetime(2020, 5, 17)\n",
        "\n",
        "print(x)"
      ],
      "metadata": {
        "id": "SKOdLhn1-L-o"
      },
      "execution_count": null,
      "outputs": []
    },
    {
      "cell_type": "code",
      "source": [
        "import datetime\n",
        "\n",
        "x = datetime.datetime(2018, 6, 1)\n",
        "\n",
        "print(x.strftime(\"%B\"))"
      ],
      "metadata": {
        "id": "o5TUoU1U_Gdy"
      },
      "execution_count": null,
      "outputs": []
    },
    {
      "cell_type": "markdown",
      "source": [
        "%a\tWeekday, short version\tEG-(Wed\n",
        "%A\tWeekday, full version\t(Wednesday)\n",
        "%w\tWeekday as a number 0-6, 0 is Sunday\t(3\n",
        "%d\tDay of month 01-31\t(31\n",
        "%b\tMonth name, short version\t(Dec\n",
        "%B\tMonth name, full version\t(December\n",
        "%m\tMonth as a number 01-12\t(12\n",
        "%y\tYear, short version, without century\t(18\n",
        "%Y\tYear, full version\t(2018\n",
        "%H\tHour 00-23\t(17\n",
        "%I\tHour 00-12\t(05\n",
        "%p\tAM/PM\t(PM\n",
        "%M\tMinute 00-59\t(41\n",
        "%S\tSecond 00-59\t(08\n",
        "%f\tMicrosecond 000000-999999\t548513\n",
        "%z\tUTC offset\t+0100\n",
        "%Z\tTimezone\tCST\n",
        "%j\tDay number of year 001-366\t365\n",
        "%U\tWeek number of year, Sunday as the first day of week, 00-53\t52\n",
        "%W\tWeek number of year, Monday as the first day of week, 00-53\t52\n",
        "%c\tLocal version of date and time\tMon Dec 31 17:41:00 2018\n",
        "%C\tCentury\t20\n",
        "%x\tLocal version of date\t12/31/18\n",
        "%X\tLocal version of time\t17:41:00\n",
        "%%\tA % character\t%\n",
        "%G\tISO 8601 year\t2018\n",
        "%u\tISO 8601 weekday (1-7)\t1\n",
        "%V\tISO 8601 weeknumber (01-53)\t01"
      ],
      "metadata": {
        "id": "jBTMvPJ-_8ea"
      }
    },
    {
      "cell_type": "markdown",
      "source": [
        "# Python Math"
      ],
      "metadata": {
        "id": "A0WSZxuGB0AK"
      }
    },
    {
      "cell_type": "code",
      "source": [
        "x = min(5, 10, 25)\n",
        "y = max(5, 10, 25)\n",
        "\n",
        "print(x)\n",
        "print(y)"
      ],
      "metadata": {
        "id": "0jAn3Ygs_N4p"
      },
      "execution_count": null,
      "outputs": []
    },
    {
      "cell_type": "code",
      "source": [
        "x = abs(-7.25)  #ABSOLUTE VALUE\n",
        "\n",
        "print(x)\n"
      ],
      "metadata": {
        "id": "GnUmnoB0B_AL"
      },
      "execution_count": null,
      "outputs": []
    },
    {
      "cell_type": "code",
      "source": [
        "x = pow(4, 3)\n",
        "\n",
        "print(x)"
      ],
      "metadata": {
        "id": "ZPpEa6Y9CDBS"
      },
      "execution_count": null,
      "outputs": []
    },
    {
      "cell_type": "markdown",
      "source": [
        "# The Math Module"
      ],
      "metadata": {
        "id": "YS2rix17EiaY"
      }
    },
    {
      "cell_type": "code",
      "source": [
        "import math"
      ],
      "metadata": {
        "id": "7WBLOJSIEe_7"
      },
      "execution_count": null,
      "outputs": []
    },
    {
      "cell_type": "code",
      "source": [
        "import math\n",
        "\n",
        "x = math.sqrt(64)\n",
        "\n",
        "print(x)"
      ],
      "metadata": {
        "id": "8aE85dJgEsaR"
      },
      "execution_count": null,
      "outputs": []
    },
    {
      "cell_type": "code",
      "source": [
        "import math\n",
        "\n",
        "x = math.ceil(1.4)\n",
        "y = math.floor(1.4)\n",
        "\n",
        "print(x) # returns 2\n",
        "print(y) # returns 1"
      ],
      "metadata": {
        "id": "mKNss4UVEu9I"
      },
      "execution_count": null,
      "outputs": []
    },
    {
      "cell_type": "code",
      "source": [
        "import math\n",
        "\n",
        "x = math.pi\n",
        "\n",
        "print(x)"
      ],
      "metadata": {
        "id": "8nwSHurXFY8R"
      },
      "execution_count": null,
      "outputs": []
    },
    {
      "cell_type": "markdown",
      "source": [
        "# JSON in Python\n",
        "Python has a built-in package called json, which can be used to work with JSON data."
      ],
      "metadata": {
        "id": "B0ug7QNXF00Z"
      }
    },
    {
      "cell_type": "code",
      "source": [
        "import json"
      ],
      "metadata": {
        "id": "H2lQ5w13FmIo"
      },
      "execution_count": null,
      "outputs": []
    },
    {
      "cell_type": "code",
      "source": [
        "import json\n",
        "\n",
        "# some JSON:\n",
        "x =  '{ \"name\":\"John\", \"age\":30, \"city\":\"New York\"}'\n",
        "\n",
        "# parse x:\n",
        "y = json.loads(x)\n",
        "\n",
        "# the result is a Python dictionary:\n",
        "print(y[\"age\"])"
      ],
      "metadata": {
        "id": "w9X5uXZzF6-x"
      },
      "execution_count": null,
      "outputs": []
    },
    {
      "cell_type": "code",
      "source": [
        "import json\n",
        "\n",
        "# a Python object (dict):\n",
        "x = {\n",
        "  \"name\": \"John\",\n",
        "  \"age\": 30,\n",
        "  \"city\": \"New York\"\n",
        "}\n",
        "\n",
        "# convert into JSON:\n",
        "y = json.dumps(x)\n",
        "\n",
        "# the result is a JSON string:\n",
        "print(y)"
      ],
      "metadata": {
        "id": "L5bhxfTxHXQR"
      },
      "execution_count": null,
      "outputs": []
    },
    {
      "cell_type": "markdown",
      "source": [
        "# Python RegEx"
      ],
      "metadata": {
        "id": "LRoqJQf3Ir_h"
      }
    },
    {
      "cell_type": "markdown",
      "source": [
        "A RegEx, or Regular Expression, is a sequence of characters that forms a search pattern.\n",
        "\n",
        "RegEx can be used to check if a string contains the specified search pattern."
      ],
      "metadata": {
        "id": "BIBFXyZ6Ivja"
      }
    },
    {
      "cell_type": "code",
      "source": [
        "import re"
      ],
      "metadata": {
        "id": "if7h7ceCItPS"
      },
      "execution_count": null,
      "outputs": []
    },
    {
      "cell_type": "code",
      "source": [
        "import re\n",
        "\n",
        "txt = \"The rain in Spain\"\n",
        "x = re.search(\"^The.*Spain$\", txt)\n",
        "x"
      ],
      "metadata": {
        "id": "0dVnHA_VJfpa"
      },
      "execution_count": null,
      "outputs": []
    },
    {
      "cell_type": "markdown",
      "source": [
        "findall\tReturns a list containing all matches\n",
        "\n",
        "search\tReturns a Match object if there is a match anywhere in the string\n",
        "\n",
        "split\tReturns a list where the string has been split at each match\n",
        "\n",
        "sub\tReplaces one or many matches with a string\n"
      ],
      "metadata": {
        "id": "DvWJv9g3J326"
      }
    },
    {
      "cell_type": "markdown",
      "source": [
        "# METACHRACTERS\n",
        "Character\tDescription\tExample\tTry it\n",
        "[]\tA set of characters\t\"[a-m]\"\n",
        "\n",
        "\\\tSignals a special sequence (can also be used to escape special characters)\n",
        "\t\"\\d\"\n",
        "\n",
        ".\tAny character (except newline character)\t\"he..o\"\n",
        "\n",
        "^\tStarts with\t\"^hello\"\n",
        "\n",
        "\n",
        "\n",
        "*\tZero or more occurrences\t\"he.*o\"\n",
        "\n",
        "+\tOne or more occurrences\t\"he.+o\"\n",
        "\n",
        "?\tZero or one occurrences\t\"he.?o\"\n",
        "\n",
        "{}\tExactly the specified number of occurrences\t\"he.{2}o\"\n",
        "\n",
        "|\tEither or\t\"falls|stays\"\n",
        "\n",
        "()\tCapture and group"
      ],
      "metadata": {
        "id": "W4EZ8XnRKWCb"
      }
    },
    {
      "cell_type": "markdown",
      "source": [
        "The try block lets you test a block of code for errors.\n",
        "\n",
        "The except block lets you handle the error.\n",
        "\n",
        "The else block lets you execute code when there is no error.\n",
        "\n",
        "The finally block lets you execute code, regardless of the result of the try- and except blocks."
      ],
      "metadata": {
        "id": "UYDwy9QXOoqa"
      }
    },
    {
      "cell_type": "code",
      "source": [
        "x=0"
      ],
      "metadata": {
        "id": "3xPmh-QDPNCr"
      },
      "execution_count": null,
      "outputs": []
    },
    {
      "cell_type": "code",
      "source": [
        "try:\n",
        "  print(x)\n",
        "except:\n",
        "  print(\"An exception occurred\")"
      ],
      "metadata": {
        "id": "7nRqROVzOq5B"
      },
      "execution_count": null,
      "outputs": []
    },
    {
      "cell_type": "code",
      "source": [
        "try:\n",
        "  print(z)\n",
        "except NameError:\n",
        "  print(\"Variable x is not defined\")\n",
        "except:\n",
        "  print(\"Something else went wrong\")"
      ],
      "metadata": {
        "id": "j3WiTgmNPZkC"
      },
      "execution_count": null,
      "outputs": []
    },
    {
      "cell_type": "code",
      "source": [
        "try:\n",
        "  print(\"Hello\")\n",
        "except:\n",
        "  print(\"Something went wrong\")\n",
        "else:\n",
        "  print(\"Nothing went wrong\")"
      ],
      "metadata": {
        "id": "1Uvrk6unQhQz"
      },
      "execution_count": null,
      "outputs": []
    },
    {
      "cell_type": "code",
      "source": [
        "try:\n",
        "  print(b)\n",
        "except:\n",
        "  print(\"Something went wrong\")\n",
        "finally:\n",
        "  print(\"The 'try except' is finished\")"
      ],
      "metadata": {
        "id": "nh_VTQxrQqRK"
      },
      "execution_count": null,
      "outputs": []
    },
    {
      "cell_type": "code",
      "source": [
        "try:\n",
        "  f = open(\"demofile.txt\")\n",
        "  try:\n",
        "    f.write(\"Lorum Ipsum\")\n",
        "  except:\n",
        "    print(\"Something went wrong when writing to the file\")\n",
        "  finally:\n",
        "    f.close()\n",
        "except:\n",
        "  print(\"Something went wrong when opening the file\")"
      ],
      "metadata": {
        "id": "pnkwjV05QyaT"
      },
      "execution_count": null,
      "outputs": []
    },
    {
      "cell_type": "code",
      "source": [
        "x = -1\n",
        "\n",
        "if x < 0:\n",
        " raise Exception(\"Sorry, no numbers below zero\")"
      ],
      "metadata": {
        "id": "RmjjmWyCRnAi"
      },
      "execution_count": null,
      "outputs": []
    },
    {
      "cell_type": "code",
      "source": [
        "x = \"hello\"\n",
        "\n",
        "if not type(x) is int:\n",
        "  raise TypeError(\"Only integers are allowed\")"
      ],
      "metadata": {
        "id": "Y511C1oMS0z7"
      },
      "execution_count": null,
      "outputs": []
    },
    {
      "cell_type": "code",
      "source": [
        "username = input(\"Enter username:\")\n",
        "print(\"Username is: \" + username)"
      ],
      "metadata": {
        "id": "ant1Mg4PUJ1D"
      },
      "execution_count": null,
      "outputs": []
    },
    {
      "cell_type": "code",
      "source": [
        "price = 49\n",
        "txt = \"The price is {} dollars\"\n",
        "print(txt.format(price))\n"
      ],
      "metadata": {
        "id": "zsf_Evu3XK7W"
      },
      "execution_count": null,
      "outputs": []
    },
    {
      "cell_type": "code",
      "source": [
        "quantity = 3\n",
        "itemno = 567\n",
        "price = 49\n",
        "myorder = \"I want {} pieces of item number {} for {:.2f} dollars.\"\n",
        "print(myorder.format(quantity, itemno, price))"
      ],
      "metadata": {
        "id": "OwoEIJRXZuJr"
      },
      "execution_count": null,
      "outputs": []
    },
    {
      "cell_type": "code",
      "source": [
        "quantity = 3\n",
        "itemno = 567\n",
        "price = 49\n",
        "myorder = \"I want {0} pieces of item number {1} for {2:.2f} dollars.\"\n",
        "print(myorder.format(quantity, itemno, price))"
      ],
      "metadata": {
        "id": "aaUW1LGR_tWf"
      },
      "execution_count": null,
      "outputs": []
    },
    {
      "cell_type": "code",
      "source": [
        "age = 36\n",
        "name = \"John\"\n",
        "txt = \"His name is {1}. {1} is {0} years old.\"\n",
        "print(txt.format(age, name))"
      ],
      "metadata": {
        "id": "Uiqw2wBWHqqv"
      },
      "execution_count": null,
      "outputs": []
    },
    {
      "cell_type": "code",
      "source": [
        "myorder = \"I have a {carname}, it is a {model}.\"\n",
        "print(myorder.format(carname = \"Ford\", model = \"Mustang\"))"
      ],
      "metadata": {
        "id": "5NW1OGYUH6Dk"
      },
      "execution_count": null,
      "outputs": []
    },
    {
      "cell_type": "markdown",
      "source": [
        "# File Handling"
      ],
      "metadata": {
        "id": "ahjWxHGtIo8p"
      }
    },
    {
      "cell_type": "markdown",
      "source": [
        "The key function for working with files in Python is the open() function.\n",
        "\n",
        "The open() function takes two parameters; filename, and mode.\n",
        "\n",
        "There are four different methods (modes) for opening a file"
      ],
      "metadata": {
        "id": "1M9gT0SNIu8O"
      }
    },
    {
      "cell_type": "markdown",
      "source": [
        "\"r\" - Read - Default value. Opens a file for reading, error if the file does not exist\n",
        "\n",
        "\"a\" - Append - Opens a file for appending, creates the file if it does not exist\n",
        "\n",
        "\"w\" - Write - Opens a file for writing, creates the file if it does not exist\n",
        "\n",
        "\"x\" - Create - Creates the specified file, returns an error if the file exists"
      ],
      "metadata": {
        "id": "4fYLousUJOyz"
      }
    },
    {
      "cell_type": "markdown",
      "source": [
        "\"t\" - Text - Default value. Text mode\n",
        "\n",
        "\"b\" - Binary - Binary mode (e.g. images)"
      ],
      "metadata": {
        "id": "Q_TgJ6FUJYeT"
      }
    },
    {
      "cell_type": "code",
      "source": [
        "f = open(\"myfile.txt\", \"x\")"
      ],
      "metadata": {
        "id": "J2CtnZyNU2_H"
      },
      "execution_count": null,
      "outputs": []
    },
    {
      "cell_type": "markdown",
      "source": [
        "# Delete a File\n",
        "To delete a file, you must import the OS module, and run its os.remove() function:"
      ],
      "metadata": {
        "id": "GqUNplvKcMcT"
      }
    },
    {
      "cell_type": "markdown",
      "source": [
        "# Delete Folder\n",
        "To delete an entire folder, use the os.rmdir() method:"
      ],
      "metadata": {
        "id": "n1LT8q9scYUd"
      }
    },
    {
      "cell_type": "markdown",
      "source": [
        "# NumPy library.\n",
        "\n",
        "NumPy is used for working with arrays.\n",
        "\n",
        "NumPy is short for \"Numerical Python\"."
      ],
      "metadata": {
        "id": "NwEdg1hWdtwi"
      }
    },
    {
      "cell_type": "code",
      "source": [
        "import numpy"
      ],
      "metadata": {
        "id": "ERBbGhbHcMM0"
      },
      "execution_count": null,
      "outputs": []
    },
    {
      "cell_type": "code",
      "source": [
        "import numpy\n",
        "\n",
        "arr = numpy.array([1, 2, 3, 4, 5])\n",
        "\n",
        "print(arr)"
      ],
      "metadata": {
        "id": "5tOXHe2Squjn"
      },
      "execution_count": null,
      "outputs": []
    },
    {
      "cell_type": "code",
      "source": [
        "import numpy as np\n",
        "\n",
        "print(np.__version__)"
      ],
      "metadata": {
        "id": "JXfEH9f45QZc"
      },
      "execution_count": null,
      "outputs": []
    },
    {
      "cell_type": "code",
      "source": [
        "import numpy as np\n",
        "\n",
        "arr = np.array(42)\n",
        "\n",
        "print(arr)"
      ],
      "metadata": {
        "id": "VSKKd6rsML6t"
      },
      "execution_count": null,
      "outputs": []
    },
    {
      "cell_type": "code",
      "source": [
        "import numpy as np\n",
        "\n",
        "arr = np.array([[1, 2, 3], [4, 5, 6]])\n",
        "\n",
        "print(arr)"
      ],
      "metadata": {
        "id": "wDhnWo-pMy0a"
      },
      "execution_count": null,
      "outputs": []
    },
    {
      "cell_type": "code",
      "source": [
        "import numpy as np\n",
        "\n",
        "arr = np.array([[[1, 2, 3], [4, 5, 6]], [[1, 2, 3], [4, 5, 6]]])\n",
        "\n",
        "print(arr)"
      ],
      "metadata": {
        "id": "hMnxJ-Q2Rsb6"
      },
      "execution_count": null,
      "outputs": []
    },
    {
      "cell_type": "code",
      "source": [
        "a = np.array(42)\n",
        "b = np.array([1, 2, 3, 4, 5])\n",
        "c = np.array([[1, 2, 3], [4, 5, 6]])\n",
        "d = np.array([[[1, 2, 3], [4, 5, 6]], [[1, 2, 3], [4, 5, 6]]])\n",
        "\n",
        "print(a.ndim)\n",
        "print(b.ndim)\n",
        "print(c.ndim)\n",
        "print(d.ndim)"
      ],
      "metadata": {
        "id": "A-YmwJHbR7jo"
      },
      "execution_count": null,
      "outputs": []
    },
    {
      "cell_type": "code",
      "source": [
        "import numpy as np\n",
        "\n",
        "arr = np.array([1, 2, 3, 4], ndmin=5)\n",
        "\n",
        "print(arr)\n",
        "print('number of dimensions :', arr.ndim)"
      ],
      "metadata": {
        "id": "um2tg-Kjc1H8"
      },
      "execution_count": null,
      "outputs": []
    },
    {
      "cell_type": "markdown",
      "source": [
        "# array indexing"
      ],
      "metadata": {
        "id": "KknWHfshiL9a"
      }
    },
    {
      "cell_type": "code",
      "source": [
        "import numpy as np\n",
        "\n",
        "arr = np.array([1, 2, 3, 4])\n",
        "\n",
        "print(arr[0])"
      ],
      "metadata": {
        "id": "HvldlsTZgsiI"
      },
      "execution_count": null,
      "outputs": []
    },
    {
      "cell_type": "code",
      "source": [
        "import numpy as np\n",
        "\n",
        "arr = np.array([1, 2, 3, 4])\n",
        "\n",
        "print(arr[2] + arr[3])"
      ],
      "metadata": {
        "id": "dzzPMRDpiPGC"
      },
      "execution_count": null,
      "outputs": []
    },
    {
      "cell_type": "code",
      "source": [
        "import numpy as np    #the dimension represents the row and the index represents the column\n",
        "\n",
        "arr = np.array([[1,2,3,4,5], [6,7,8,9,10]])\n",
        "\n",
        "print('2nd element on 1st row: ', arr[0, 1])"
      ],
      "metadata": {
        "id": "ZVWgOTL2jmub"
      },
      "execution_count": null,
      "outputs": []
    },
    {
      "cell_type": "code",
      "source": [
        "import numpy as np\n",
        "\n",
        "arr = np.array([[1,2,3,4,5], [6,7,8,9,10]])\n",
        "\n",
        "print('5th element on 2nd row: ', arr[1, 4])"
      ],
      "metadata": {
        "id": "4pM5DgitkUbp"
      },
      "execution_count": null,
      "outputs": []
    },
    {
      "cell_type": "code",
      "source": [
        "import numpy as np\n",
        "\n",
        "arr = np.array([[[1, 2, 3], [4, 5, 6]], [[7, 8, 9], [10, 11, 12]]])\n",
        "\n",
        "print(arr[0, 1, 2])"
      ],
      "metadata": {
        "id": "I4SQVFktkwNR"
      },
      "execution_count": null,
      "outputs": []
    },
    {
      "cell_type": "code",
      "source": [
        "import numpy as np\n",
        "\n",
        "arr = np.array([[1,2,3,4,5], [6,7,8,9,10]])\n",
        "\n",
        "print('Last element from 2nd dim: ', arr[1, -1])"
      ],
      "metadata": {
        "id": "1I88pOJUlLuR"
      },
      "execution_count": null,
      "outputs": []
    },
    {
      "cell_type": "code",
      "source": [
        "import numpy as np\n",
        "\n",
        "arr = np.array([1, 2, 3, 4, 5, 6, 7])\n",
        "\n",
        "print(arr[4:])"
      ],
      "metadata": {
        "id": "nXPzcKK2oH2L"
      },
      "execution_count": null,
      "outputs": []
    },
    {
      "cell_type": "code",
      "source": [
        "import numpy as np\n",
        "\n",
        "arr = np.array([1, 2, 3, 4, 5, 6, 7])\n",
        "\n",
        "print(arr[:4])"
      ],
      "metadata": {
        "id": "zAYwPWfNoVWZ"
      },
      "execution_count": null,
      "outputs": []
    },
    {
      "cell_type": "code",
      "source": [
        "import numpy as np\n",
        "\n",
        "arr = np.array([1, 2, 3, 4, 5, 6, 7])\n",
        "\n",
        "print(arr[1:5:2])"
      ],
      "metadata": {
        "id": "ZVYcDMjZoWpo"
      },
      "execution_count": null,
      "outputs": []
    },
    {
      "cell_type": "code",
      "source": [
        "import numpy as np\n",
        "\n",
        "arr = np.array([1, 2, 3, 4, 5, 6, 7])\n",
        "\n",
        "print(arr[::2])"
      ],
      "metadata": {
        "id": "vMKZNwThomiH"
      },
      "execution_count": null,
      "outputs": []
    },
    {
      "cell_type": "code",
      "source": [
        "import numpy as np\n",
        "\n",
        "arr = np.array([[1, 2, 3, 4, 5], [6, 7, 8, 9, 10]])\n",
        "\n",
        "print(arr[1, 1:4])"
      ],
      "metadata": {
        "id": "kHXX62OForgl"
      },
      "execution_count": null,
      "outputs": []
    },
    {
      "cell_type": "code",
      "source": [
        "import numpy as np   #From both elements, return index 2\n",
        "\n",
        "arr = np.array([[1, 2, 3, 4, 5], [6, 7, 8, 9, 10]])\n",
        "\n",
        "print(arr[0:2, 2])"
      ],
      "metadata": {
        "id": "hjbaO0iopBzX"
      },
      "execution_count": null,
      "outputs": []
    },
    {
      "cell_type": "code",
      "source": [
        "import numpy as np\n",
        "\n",
        "arr = np.array([[1, 2, 3, 4, 5], [6, 7, 8, 9, 10]])\n",
        "\n",
        "print(arr[0:2, 1:4])"
      ],
      "metadata": {
        "id": "gCj9fSYXpyLu"
      },
      "execution_count": null,
      "outputs": []
    },
    {
      "cell_type": "markdown",
      "source": [
        "By default Python have these data types:\n",
        "\n",
        "strings - used to represent text data, the text is given under quote marks. e.g. \"ABCD\"\n",
        "integer - used to represent integer numbers. e.g. -1, -2, -3\n",
        "float - used to represent real numbers. e.g. 1.2, 42.42\n",
        "boolean - used to represent True or False.\n",
        "complex - used to represent complex numbers. e.g. 1.0 + 2.0j, 1.5 + 2.5j"
      ],
      "metadata": {
        "id": "4q_6ceHzHtQx"
      }
    },
    {
      "cell_type": "code",
      "source": [
        "import numpy as np\n",
        "\n",
        "arr = np.array([1, 2, 3, 4], dtype='S')\n",
        "\n",
        "print(arr)\n",
        "print(arr.dtype)"
      ],
      "metadata": {
        "id": "1_62NozNFzNi"
      },
      "execution_count": null,
      "outputs": []
    },
    {
      "cell_type": "code",
      "source": [
        "import numpy as np\n",
        "\n",
        "arr = np.array([1, 2, 3, 4])\n",
        "\n",
        "print(arr.dtype)"
      ],
      "metadata": {
        "id": "tojedZ_mH0pC"
      },
      "execution_count": null,
      "outputs": []
    },
    {
      "cell_type": "code",
      "source": [
        "import numpy as np\n",
        "\n",
        "arr = np.array(['apple', 'banana', 'cherry'])\n",
        "\n",
        "print(arr.dtype)"
      ],
      "metadata": {
        "id": "3oCe62JYH3ll"
      },
      "execution_count": null,
      "outputs": []
    },
    {
      "cell_type": "code",
      "source": [
        "import numpy as np\n",
        "\n",
        "arr = np.array([1, 2, 3, 4], dtype='i4')\n",
        "\n",
        "print(arr)\n",
        "print(arr.dtype)"
      ],
      "metadata": {
        "id": "4hH1eJfNIDRt"
      },
      "execution_count": null,
      "outputs": []
    },
    {
      "cell_type": "code",
      "source": [
        "import numpy as np  #A non integer string like 'a' can not be converted to integer (will raise an error)\n",
        "\n",
        "arr = np.array(['a', '2', '3'], dtype='i')"
      ],
      "metadata": {
        "id": "FyIZpWIvIOw3"
      },
      "execution_count": null,
      "outputs": []
    },
    {
      "cell_type": "markdown",
      "source": [
        "The astype() function creates a copy of the array, and allows you to specify the data type as a parameter"
      ],
      "metadata": {
        "id": "JDMQoK3_JJTQ"
      }
    },
    {
      "cell_type": "code",
      "source": [
        "import numpy as np\n",
        "\n",
        "arr = np.array([1.1, 2.1, 3.1])\n",
        "\n",
        "newarr = arr.astype('i')\n",
        "\n",
        "print(newarr)\n",
        "print(newarr.dtype)"
      ],
      "metadata": {
        "id": "CkAk5myEIZIO"
      },
      "execution_count": null,
      "outputs": []
    },
    {
      "cell_type": "code",
      "source": [
        "import numpy as np\n",
        "\n",
        "arr = np.array([1.1, 2.1, 3.1])\n",
        "\n",
        "newarr = arr.astype(int)\n",
        "\n",
        "print(newarr)\n",
        "print(newarr.dtype)"
      ],
      "metadata": {
        "id": "wtl1H3l0IuFh"
      },
      "execution_count": null,
      "outputs": []
    },
    {
      "cell_type": "code",
      "source": [
        "import numpy as np\n",
        "\n",
        "arr = np.array([1, 0, 3])\n",
        "\n",
        "newarr = arr.astype(bool)\n",
        "\n",
        "print(newarr)\n",
        "print(newarr.dtype)"
      ],
      "metadata": {
        "id": "0gw4azmsJRxx"
      },
      "execution_count": null,
      "outputs": []
    },
    {
      "cell_type": "markdown",
      "source": [
        "i - integer\n",
        "\n",
        "b - boolean\n",
        "\n",
        "u - unsigned integer\n",
        "\n",
        "f - float\n",
        "\n",
        "c - complex float\n",
        "\n",
        "m - timedelta\n",
        "\n",
        "M - datetime\n",
        "\n",
        "O - object\n",
        "\n",
        "S - string\n",
        "\n",
        "U - unicode string\n",
        "\n",
        "V - fixed chunk of memory for other type ( void )"
      ],
      "metadata": {
        "id": "_fhDltFSP7YF"
      }
    },
    {
      "cell_type": "markdown",
      "source": [
        "COPY AND VIEW-\n",
        "\n",
        "copy is a new array, and the view is just a view of the original array"
      ],
      "metadata": {
        "id": "qhMtd2hCIrTo"
      }
    },
    {
      "cell_type": "code",
      "source": [
        "import numpy as np\n",
        "\n",
        "arr = np.array([1, 2, 3, 4, 5])\n",
        "x = arr.copy()\n",
        "arr[0] = 42\n",
        "\n",
        "print(arr)\n",
        "print(x)"
      ],
      "metadata": {
        "id": "vH5Pji1BQQbZ"
      },
      "execution_count": null,
      "outputs": []
    },
    {
      "cell_type": "code",
      "source": [
        "import numpy as np\n",
        "\n",
        "arr = np.array([1, 2, 3, 4, 5])\n",
        "x = arr.view()\n",
        "arr[0] = 42\n",
        "\n",
        "print(arr)\n",
        "print(x)"
      ],
      "metadata": {
        "id": "ZxJCtYF0nO7X"
      },
      "execution_count": null,
      "outputs": []
    },
    {
      "cell_type": "code",
      "source": [
        "import numpy as np\n",
        "\n",
        "arr = np.array([1, 2, 3, 4, 5])\n",
        "x = arr.view()\n",
        "x[0] = 31\n",
        "\n",
        "print(arr)\n",
        "print(x)"
      ],
      "metadata": {
        "id": "rNkxnNIb01Go"
      },
      "execution_count": null,
      "outputs": []
    },
    {
      "cell_type": "markdown",
      "source": [
        " NumPy array has the attribute base that returns None if the array owns the data.\n",
        " Otherwise, the base  attribute refers to the original object."
      ],
      "metadata": {
        "id": "O8AdTlWRPpG-"
      }
    },
    {
      "cell_type": "code",
      "source": [
        "import numpy as np\n",
        "\n",
        "arr = np.array([1, 2, 3, 4, 5])\n",
        "\n",
        "x = arr.copy()\n",
        "y = arr.view()\n",
        "print(x)\n",
        "print(y)\n"
      ],
      "metadata": {
        "id": "Zwv8auhyIdO9"
      },
      "execution_count": null,
      "outputs": []
    },
    {
      "cell_type": "code",
      "source": [
        "print(x.base)\n",
        "print(y.base)"
      ],
      "metadata": {
        "id": "yaabWSqcJEsN"
      },
      "execution_count": null,
      "outputs": []
    },
    {
      "cell_type": "code",
      "source": [
        "import numpy as np\n",
        "\n",
        "arr = np.array([[1, 2, 3, 4], [5, 6, 7, 8]])\n",
        "\n",
        "print(arr.shape)"
      ],
      "metadata": {
        "id": "aJSP6LVEtAJv"
      },
      "execution_count": null,
      "outputs": []
    },
    {
      "cell_type": "code",
      "source": [
        "import numpy as np\n",
        "\n",
        "arr = np.array([1, 2, 3, 4], ndmin=5)\n",
        "\n",
        "print(arr)\n",
        "print('shape of array :', arr.shape)"
      ],
      "metadata": {
        "id": "es158NJ7w4mF"
      },
      "execution_count": null,
      "outputs": []
    },
    {
      "cell_type": "markdown",
      "source": [
        "# Reshaping arrays\n",
        "Reshaping means changing the shape of an array.\n",
        "\n",
        "The shape of an array is the number of elements in each dimension.\n",
        "\n",
        "By reshaping we can add or remove dimensions or change number of elements in each dimension.\n",
        "\n"
      ],
      "metadata": {
        "id": "0CF5XP8TLkET"
      }
    },
    {
      "cell_type": "code",
      "source": [
        "import numpy as np\n",
        "\n",
        "arr = np.array([1, 2, 3, 4, 5, 6, 7, 8, 9, 10, 11, 12])\n",
        "\n",
        "newarr = arr.reshape(4, 3)\n",
        "\n",
        "print(newarr)"
      ],
      "metadata": {
        "id": "mZEir7fAKNMd"
      },
      "execution_count": null,
      "outputs": []
    },
    {
      "cell_type": "code",
      "source": [
        "import numpy as np     # 2 arrays that contains 3 rows 2 cols\n",
        "\n",
        "arr = np.array([1, 2, 3, 4, 5, 6, 7, 8, 9, 10, 11, 12])\n",
        "\n",
        "newarr = arr.reshape(2, 3, 2)\n",
        "\n",
        "print(newarr)"
      ],
      "metadata": {
        "id": "SnikTbLoL9zF"
      },
      "execution_count": null,
      "outputs": []
    },
    {
      "cell_type": "code",
      "source": [
        "import numpy as np\n",
        "\n",
        "arr = np.array([1, 2, 3, 4, 5, 6, 7, 8,9])\n",
        "\n",
        "newarr = arr.reshape(3, 3)\n",
        "\n",
        "print(newarr)"
      ],
      "metadata": {
        "id": "RS5Xs5mzOHLC"
      },
      "execution_count": null,
      "outputs": []
    },
    {
      "cell_type": "code",
      "source": [
        "import numpy as np\n",
        "\n",
        "arr = np.array([1, 2, 3, 4, 5, 6, 7, 8])\n",
        "x=arr.copy()\n",
        "arr[0]=31\n",
        "print(x.reshape(2, 4).base)"
      ],
      "metadata": {
        "id": "aoUdQfH-Py3a"
      },
      "execution_count": null,
      "outputs": []
    },
    {
      "cell_type": "markdown",
      "source": [
        "Convert 1D array with 8 elements to 3D array with 2x2 elements"
      ],
      "metadata": {
        "id": "oNtovwfJWwus"
      }
    },
    {
      "cell_type": "code",
      "source": [
        "import numpy as np\n",
        "\n",
        "arr = np.array([1, 2, 3, 4, 5, 6, 7, 8])\n",
        "\n",
        "newarr = arr.reshape(2, 2, -1)\n",
        "\n",
        "print(newarr)"
      ],
      "metadata": {
        "id": "gg7THpQvUm2-"
      },
      "execution_count": null,
      "outputs": []
    },
    {
      "cell_type": "markdown",
      "source": [
        "# Flattening the arrays\n",
        "Flattening array means converting a multidimensional array into a 1D array.\n",
        "\n",
        "We can use reshape(-1) to do this"
      ],
      "metadata": {
        "id": "C5QeDVc1hAeM"
      }
    },
    {
      "cell_type": "code",
      "source": [
        "import numpy as np\n",
        "\n",
        "arr = np.array([[1, 2, 3], [4, 5, 6]])\n",
        "\n",
        "newarr = arr.reshape(-1)\n",
        "\n",
        "print(newarr)"
      ],
      "metadata": {
        "id": "8edVt5IxhCmB"
      },
      "execution_count": null,
      "outputs": []
    },
    {
      "cell_type": "markdown",
      "source": [
        "# Iterating Arrays\n",
        "Iterating means going through elements one by one.\n",
        "\n",
        "As we deal with multi-dimensional arrays in numpy, we can do this using basic for loop of python"
      ],
      "metadata": {
        "id": "mdm8auXGkUOL"
      }
    },
    {
      "cell_type": "code",
      "source": [
        "import numpy as np\n",
        "\n",
        "arr = np.array([1, 2, 3])\n",
        "\n",
        "for x in arr:\n",
        "  print(x)"
      ],
      "metadata": {
        "id": "ml-81q8kWzKd"
      },
      "execution_count": null,
      "outputs": []
    },
    {
      "cell_type": "code",
      "source": [
        "import numpy as np\n",
        "\n",
        "arr = np.array([[1, 2, 3], [4, 5, 6]])\n",
        "\n",
        "for x in arr:\n",
        "  print(x)"
      ],
      "metadata": {
        "id": "OBQTlI-xktD7"
      },
      "execution_count": null,
      "outputs": []
    },
    {
      "cell_type": "code",
      "source": [
        "import numpy as np\n",
        "\n",
        "arr = np.array([[1, 2, 3], [4, 5, 6]])\n",
        "\n",
        "for x in arr:\n",
        "  for y in x:\n",
        "    print(y)"
      ],
      "metadata": {
        "id": "xn2RUi4wk0Ac"
      },
      "execution_count": null,
      "outputs": []
    },
    {
      "cell_type": "code",
      "source": [
        "import numpy as np\n",
        "\n",
        "arr1 = np.array([1, 2, 3])\n",
        "\n",
        "arr2 = np.array([4, 5, 6])\n",
        "\n",
        "arr = np.concatenate((arr1, arr2))\n",
        "\n",
        "print(arr)"
      ],
      "metadata": {
        "id": "ucPmq8HbuYvd"
      },
      "execution_count": null,
      "outputs": []
    },
    {
      "cell_type": "code",
      "source": [
        "import numpy as np\n",
        "\n",
        "arr1 = np.array([[1, 2], [3, 4]])\n",
        "\n",
        "arr2 = np.array([[5, 6], [7, 8]])\n",
        "\n",
        "arr = np.concatenate((arr1, arr2), axis=1)\n",
        "\n",
        "print(arr)"
      ],
      "metadata": {
        "id": "pKoHWMqVYUh4"
      },
      "execution_count": null,
      "outputs": []
    },
    {
      "cell_type": "code",
      "source": [
        "import numpy as np\n",
        "\n",
        "arr1 = np.array([1, 2, 3])\n",
        "\n",
        "arr2 = np.array([4, 5, 6])\n",
        "\n",
        "arr = np.stack((arr1, arr2), axis=1)\n",
        "\n",
        "print(arr)"
      ],
      "metadata": {
        "id": "mF3_ppcIYdc6"
      },
      "execution_count": null,
      "outputs": []
    },
    {
      "cell_type": "markdown",
      "source": [
        "# Stacking Along Columns"
      ],
      "metadata": {
        "id": "_GmcVAU7_PfY"
      }
    },
    {
      "cell_type": "code",
      "source": [
        "import numpy as np\n",
        "\n",
        "arr1 = np.array([1, 2, 3])\n",
        "\n",
        "arr2 = np.array([4, 5, 6])\n",
        "\n",
        "arr = np.vstack((arr1, arr2))\n",
        "\n",
        "print(arr)"
      ],
      "metadata": {
        "id": "2_3UL0pS9vvo"
      },
      "execution_count": null,
      "outputs": []
    },
    {
      "cell_type": "markdown",
      "source": [
        "# Stacking Along Height (depth)"
      ],
      "metadata": {
        "id": "zk95Fr5R_ZQR"
      }
    },
    {
      "cell_type": "code",
      "source": [
        "import numpy as np\n",
        "\n",
        "arr1 = np.array([1, 2, 3])\n",
        "\n",
        "arr2 = np.array([4, 5, 6])\n",
        "\n",
        "arr = np.dstack((arr1, arr2))\n",
        "\n",
        "print(arr)"
      ],
      "metadata": {
        "id": "LHOjYIpU-ccA"
      },
      "execution_count": null,
      "outputs": []
    },
    {
      "cell_type": "markdown",
      "source": [
        "split"
      ],
      "metadata": {
        "id": "zuPTcKR-CjpZ"
      }
    },
    {
      "cell_type": "code",
      "source": [
        "import numpy as np\n",
        "\n",
        "arr = np.array([1, 2, 3, 4, 5, 6])\n",
        "\n",
        "newarr = np.array_split(arr, 3)\n",
        "\n",
        "print(newarr)"
      ],
      "metadata": {
        "id": "juDmSNseBT9A"
      },
      "execution_count": null,
      "outputs": []
    },
    {
      "cell_type": "code",
      "source": [
        "import numpy as np\n",
        "\n",
        "arr = np.array([1, 2, 3, 4, 5, 6])\n",
        "\n",
        "newarr = np.array_split(arr, 4)\n",
        "\n",
        "print(newarr)"
      ],
      "metadata": {
        "id": "qUGb2JLlDWPm"
      },
      "execution_count": null,
      "outputs": []
    },
    {
      "cell_type": "code",
      "source": [
        "import numpy as np\n",
        "\n",
        "arr = np.array([1, 2, 3, 4, 5, 6])\n",
        "\n",
        "newarr = np.array_split(arr, 3)\n",
        "\n",
        "print(newarr[0])\n",
        "print(newarr[1])\n",
        "print(newarr[2])"
      ],
      "metadata": {
        "id": "Yc3rRj7YG7tb"
      },
      "execution_count": null,
      "outputs": []
    },
    {
      "cell_type": "code",
      "source": [
        "arr = np.array([[1, 2], [3, 4], [5, 6], [7, 8], [9, 10], [11, 12]])\n",
        "\n",
        "newarr = np.array_split(arr, 4)\n",
        "\n",
        "print(newarr)"
      ],
      "metadata": {
        "id": "aZw26bWeHedu"
      },
      "execution_count": null,
      "outputs": []
    },
    {
      "cell_type": "code",
      "source": [
        "import numpy as np\n",
        "\n",
        "arr = np.array([[1, 2, 3], [4, 5, 6], [7, 8, 9], [10, 11, 12], [13, 14, 15], [16, 17, 18]])\n",
        "\n",
        "newarr = np.array_split(arr, 3)\n",
        "\n",
        "print(newarr)"
      ],
      "metadata": {
        "id": "YbhjN-zG0vs2"
      },
      "execution_count": null,
      "outputs": []
    },
    {
      "cell_type": "code",
      "source": [
        "import numpy as np\n",
        "\n",
        "arr = np.array([[1, 2, 3], [4, 5, 6], [7, 8, 9], [10, 11, 12], [13, 14, 15], [16, 17, 18]])\n",
        "\n",
        "newarr = np.array_split(arr, 3, axis=1)\n",
        "\n",
        "print(newarr)"
      ],
      "metadata": {
        "id": "d9qx59wt2sk1"
      },
      "execution_count": null,
      "outputs": []
    },
    {
      "cell_type": "code",
      "source": [
        "import numpy as np\n",
        "\n",
        "arr = np.array([[1, 2, 3], [4, 5, 6], [7, 8, 9], [10, 11, 12], [13, 14, 15], [16, 17, 18]])\n",
        "\n",
        "newarr = np.hsplit(arr, 3)\n",
        "\n",
        "print(newarr)"
      ],
      "metadata": {
        "id": "n5d5soXv3D4t"
      },
      "execution_count": null,
      "outputs": []
    },
    {
      "cell_type": "code",
      "source": [
        "import numpy as np\n",
        "\n",
        "arr = np.array([1, 2, 3, 4, 5, 4, 4])\n",
        "\n",
        "x = np.where(arr == 4)\n",
        "\n",
        "print(x)"
      ],
      "metadata": {
        "id": "pHWzoNzZ35Ov"
      },
      "execution_count": null,
      "outputs": []
    },
    {
      "cell_type": "markdown",
      "source": [
        "NumPy Searching Arrays"
      ],
      "metadata": {
        "id": "Q99cM6ohKukx"
      }
    },
    {
      "cell_type": "code",
      "source": [
        "import numpy as np\n",
        "\n",
        "arr = np.array([1, 2, 3, 4, 5, 4, 4])\n",
        "\n",
        "x = np.where(arr == 4)\n",
        "\n",
        "print(x)"
      ],
      "metadata": {
        "id": "ct0bHv488Gtx"
      },
      "execution_count": null,
      "outputs": []
    },
    {
      "cell_type": "markdown",
      "source": [
        "Find the indexes where the values are even:"
      ],
      "metadata": {
        "id": "_isv1ZPQi-s8"
      }
    },
    {
      "cell_type": "code",
      "source": [
        "import numpy as np\n",
        "\n",
        "arr = np.array([1, 2, 3, 4, 5, 6, 7, 8])\n",
        "\n",
        "x = np.where(arr%2 == 0)\n",
        "\n",
        "print(x)"
      ],
      "metadata": {
        "id": "u4KbmyI2iyPe"
      },
      "execution_count": null,
      "outputs": []
    },
    {
      "cell_type": "code",
      "source": [
        "import numpy as np\n",
        "\n",
        "arr = np.array([1, 2, 3, 4, 5, 6, 7, 8])\n",
        "\n",
        "x = np.where(arr%2 == 1)\n",
        "\n",
        "print(x)"
      ],
      "metadata": {
        "id": "dWPokQXEjAPm"
      },
      "execution_count": null,
      "outputs": []
    },
    {
      "cell_type": "markdown",
      "source": [
        "searchsorted()- WHERE A VALUE HAS TO BE  INSERTED\n"
      ],
      "metadata": {
        "id": "4Wp2MZM8lUBS"
      }
    },
    {
      "cell_type": "code",
      "source": [
        "import numpy as np\n",
        "\n",
        "arr = np.array([6, 7, 8, 9])\n",
        "\n",
        "x = np.searchsorted(arr, 7)\n",
        "\n",
        "print(x)"
      ],
      "metadata": {
        "id": "ISssG6paj5et"
      },
      "execution_count": null,
      "outputs": []
    },
    {
      "cell_type": "markdown",
      "source": [],
      "metadata": {
        "id": "H2uuNfk-lSsi"
      }
    },
    {
      "cell_type": "code",
      "source": [
        "import numpy as np\n",
        "\n",
        "arr = np.array([6, 7, 8, 9])\n",
        "\n",
        "x = np.searchsorted(arr, 7, side='right')\n",
        "\n",
        "print(x)"
      ],
      "metadata": {
        "id": "G5S2N_ekk4Fy"
      },
      "execution_count": null,
      "outputs": []
    },
    {
      "cell_type": "markdown",
      "source": [
        "Find the indexes where the values 2, 4, and 6 should be inserted:"
      ],
      "metadata": {
        "id": "YBLiCWgD8iQW"
      }
    },
    {
      "cell_type": "code",
      "source": [
        "import numpy as np\n",
        "\n",
        "arr = np.array([1, 3, 5, 7])\n",
        "\n",
        "x = np.searchsorted(arr, [2, 4, 6])\n",
        "\n",
        "print(x)"
      ],
      "metadata": {
        "id": "2Vwnoma5622x"
      },
      "execution_count": null,
      "outputs": []
    },
    {
      "cell_type": "markdown",
      "source": [
        "SORT ARRAYS"
      ],
      "metadata": {
        "id": "90W8LWeM9Txd"
      }
    },
    {
      "cell_type": "code",
      "source": [
        "import numpy as np\n",
        "\n",
        "arr = np.array([3, 2, 0, 1])\n",
        "\n",
        "print(np.sort(arr))"
      ],
      "metadata": {
        "id": "vMVOTnk38URc"
      },
      "execution_count": null,
      "outputs": []
    },
    {
      "cell_type": "code",
      "source": [
        "import numpy as np\n",
        "\n",
        "arr = np.array(['banana', 'cherry', 'apple'])\n",
        "\n",
        "print(np.sort(arr))"
      ],
      "metadata": {
        "id": "e8eiqS_Y9lfW"
      },
      "execution_count": null,
      "outputs": []
    },
    {
      "cell_type": "code",
      "source": [
        "import numpy as np\n",
        "\n",
        "arr = np.array([True, False, True])\n",
        "\n",
        "print(np.sort(arr))"
      ],
      "metadata": {
        "id": "Ww8hbnnc-AaV"
      },
      "execution_count": null,
      "outputs": []
    },
    {
      "cell_type": "code",
      "source": [
        "import numpy as np\n",
        "\n",
        "arr = np.array([[3, 2, 4], [5, 0, 1]])\n",
        "\n",
        "print(np.sort(arr))"
      ],
      "metadata": {
        "id": "iWsP1VEr9vJd"
      },
      "execution_count": null,
      "outputs": []
    },
    {
      "cell_type": "markdown",
      "source": [
        "# Filtering Arrays"
      ],
      "metadata": {
        "id": "mwGICeql-IRt"
      }
    },
    {
      "cell_type": "code",
      "source": [
        "import numpy as np\n",
        "\n",
        "arr = np.array([41, 42, 43, 44])\n",
        "\n",
        "x = [True, False, True, False]\n",
        "\n",
        "newarr = arr[x]\n",
        "\n",
        "print(newarr)"
      ],
      "metadata": {
        "id": "ctNYFXDN-Cr9"
      },
      "execution_count": null,
      "outputs": []
    },
    {
      "cell_type": "markdown",
      "source": [
        "Creating the Filter Array"
      ],
      "metadata": {
        "id": "tjb3nXmm_FT0"
      }
    },
    {
      "cell_type": "code",
      "source": [
        "import numpy as np\n",
        "\n",
        "arr = np.array([41, 42, 43, 44])\n",
        "\n",
        "# Create an empty list\n",
        "filter_arr = []\n",
        "\n",
        "# go through each element in arr\n",
        "for element in arr:\n",
        "  # if the element is higher than 42, set the value to True, otherwise False:\n",
        "  if element > 42:\n",
        "    filter_arr.append(True)\n",
        "  else:\n",
        "    filter_arr.append(False)\n",
        "\n",
        "newarr = arr[filter_arr]\n",
        "\n",
        "print(filter_arr)\n",
        "print(newarr)"
      ],
      "metadata": {
        "id": "-ZK0xJoq-jUy"
      },
      "execution_count": null,
      "outputs": []
    },
    {
      "cell_type": "code",
      "source": [
        "import numpy as np\n",
        "arr=np.array([1,2,3,4,5])\n",
        "filter_arr=[]\n",
        "for element in arr:\n",
        "  if element>3:\n",
        "    filter_arr.append(True)\n",
        "  else:\n",
        "    filter_arr.append(False)\n",
        "\n",
        "newarr = arr[filter_arr]\n",
        "\n",
        "print(filter_arr)\n",
        "print(newarr)"
      ],
      "metadata": {
        "id": "xSOO6dsbK_uv"
      },
      "execution_count": null,
      "outputs": []
    },
    {
      "cell_type": "markdown",
      "source": [
        "# RANDOM NUMBER\n",
        " Random means something that can not be predicted logically."
      ],
      "metadata": {
        "id": "A89_MYPTxK4y"
      }
    },
    {
      "cell_type": "markdown",
      "source": [
        "**Pseudo Random and True Random**\n",
        "Computers work on programs, and programs are definitive set of instructions. So it means there must be some algorithm to generate a random number as well.\n",
        "\n",
        "If there is a program to generate random number it can be predicted, thus it is not truly random.\n",
        "\n",
        "Random numbers generated through a generation algorithm are called pseudo random.\n",
        "\n",
        "In order to generate a truly random number on our computers we need to get the random data from some outside source. This outside source is generally our keystrokes, mouse movements, data on network etc.\n",
        "\n",
        "We do not need truly random numbers, unless it is related to security (e.g. encryption keys) or the basis of application is the randomness (e.g. Digital roulette wheels)"
      ],
      "metadata": {
        "id": "LVUOSvXKxTPS"
      }
    },
    {
      "cell_type": "code",
      "source": [
        "from numpy import random\n",
        "\n",
        "x = random.randint(100)\n",
        "\n",
        "print(x)"
      ],
      "metadata": {
        "id": "2CAl2n3yxPhT"
      },
      "execution_count": null,
      "outputs": []
    },
    {
      "cell_type": "code",
      "source": [
        "#The random module's rand() method returns a random float between 0 and 1\n",
        "\n",
        "from numpy import random\n",
        "\n",
        "x = random.rand(2)\n",
        "\n",
        "print(x)"
      ],
      "metadata": {
        "id": "dypTOFOj69Pr"
      },
      "execution_count": null,
      "outputs": []
    },
    {
      "cell_type": "markdown",
      "source": [
        "The randint() method takes a size parameter where you can specify the shape of an array."
      ],
      "metadata": {
        "id": "Idn0hPkz-oY2"
      }
    },
    {
      "cell_type": "code",
      "source": [
        "from numpy import random\n",
        "\n",
        "x=random.randint(100, size=(5))\n",
        "\n",
        "print(x)"
      ],
      "metadata": {
        "id": "ehs_vOix7G3P"
      },
      "execution_count": null,
      "outputs": []
    },
    {
      "cell_type": "code",
      "source": [
        "#Generate a 2-D array with 3 rows, each row containing 5 random integers from 0 to 100:\n",
        "from numpy import random\n",
        "\n",
        "x = random.randint(100, size=(3, 5))\n",
        "\n",
        "print(x)"
      ],
      "metadata": {
        "id": "XnC9SWzWPqCt"
      },
      "execution_count": null,
      "outputs": []
    },
    {
      "cell_type": "code",
      "source": [
        "from numpy import random\n",
        "\n",
        "x = random.rand(3, 5)\n",
        "\n",
        "print(x)"
      ],
      "metadata": {
        "id": "BKHjNFCFSk1p"
      },
      "execution_count": null,
      "outputs": []
    },
    {
      "cell_type": "markdown",
      "source": [
        "Generate Random Number From Array\n",
        "\n",
        "The choice() method allows you to generate a random value based on an array of values.\n",
        "\n",
        "\n",
        "The choice() method takes an array as a parameter and randomly returns one of the values."
      ],
      "metadata": {
        "id": "b9iCTURsSxDT"
      }
    },
    {
      "cell_type": "code",
      "source": [
        "from numpy import random\n",
        "\n",
        "x = random.choice([3, 5, 7, 9])\n",
        "\n",
        "print(x)"
      ],
      "metadata": {
        "id": "hQL4YKh6SzEx"
      },
      "execution_count": null,
      "outputs": []
    },
    {
      "cell_type": "code",
      "source": [
        "from numpy import random\n",
        "\n",
        "x = random.choice([3, 5, 7, 9], size=(3, 5))\n",
        "\n",
        "print(x)"
      ],
      "metadata": {
        "id": "dGE2Id4lTsG5"
      },
      "execution_count": null,
      "outputs": []
    },
    {
      "cell_type": "markdown",
      "source": [
        "# Random Data Distribution\n",
        "Data Distribution is a list of all possible values, and how often each value occurs.\n",
        "\n",
        "Such lists are important when working with statistics and data science.\n",
        "\n",
        "The random module offer methods that returns randomly generated data distributions."
      ],
      "metadata": {
        "id": "4QbkRPe1koJK"
      }
    },
    {
      "cell_type": "markdown",
      "source": [
        "# Random Distribution"
      ],
      "metadata": {
        "id": "sVVYNqbwk0Iw"
      }
    },
    {
      "cell_type": "markdown",
      "source": [
        "**Probability Density Function:** A function that describes a **continuous probability**. i.e. probability of all values in an array."
      ],
      "metadata": {
        "id": "CG0bJxWuk3mG"
      }
    },
    {
      "cell_type": "markdown",
      "source": [
        "The choice() method allows us to specify the probability for each value.\n",
        "\n",
        "The probability is set by a number between 0 and 1, where 0 means that the value will never occur and 1 means that the value will always occur."
      ],
      "metadata": {
        "id": "tLxs9Us9nEp8"
      }
    },
    {
      "cell_type": "markdown",
      "source": [
        "Generate a 1-D array containing 100 values, where each value has to be 3, 5, 7 or 9.\n",
        "\n",
        "The probability for the value to be 3 is set to be 0.1\n",
        "\n",
        "The probability for the value to be 5 is set to be 0.3\n",
        "\n",
        "The probability for the value to be 7 is set to be 0.6\n",
        "\n",
        "The probability for the value to be 9 is set to be 0"
      ],
      "metadata": {
        "id": "tPfy_DG7nKMu"
      }
    },
    {
      "cell_type": "code",
      "source": [
        "from numpy import random\n",
        "\n",
        "x = random.choice([3, 5, 7, 9], p=[0.1, 0.3, 0.6, 0.0], size=(100))\n",
        "\n",
        "print(x)"
      ],
      "metadata": {
        "id": "8uJ6CScUknrT"
      },
      "execution_count": null,
      "outputs": []
    },
    {
      "cell_type": "code",
      "source": [
        "from numpy import random\n",
        "\n",
        "x = random.choice([3, 5, 7, 9], p=[0.1, 0.3, 0.6, 0.0], size=(3, 5))\n",
        "\n",
        "print(x)"
      ],
      "metadata": {
        "id": "e5Vo1r0Enpu9"
      },
      "execution_count": null,
      "outputs": []
    },
    {
      "cell_type": "markdown",
      "source": [
        "# Random Permutations"
      ],
      "metadata": {
        "id": "o4wz3jlooGN3"
      }
    },
    {
      "cell_type": "markdown",
      "source": [
        "A permutation refers to an arrangement of elements. e.g. [3, 2, 1] is a permutation of [1, 2, 3] and vice-versa.\n",
        "\n",
        "The NumPy Random module provides two methods for this: shuffle() and permutation()"
      ],
      "metadata": {
        "id": "jOHxHQ7qoN-k"
      }
    },
    {
      "cell_type": "markdown",
      "source": [
        "Shuffling Arrays\n",
        "Shuffle means changing arrangement of elements in-place. i.e. in the array itself."
      ],
      "metadata": {
        "id": "33sVfLcmoUqU"
      }
    },
    {
      "cell_type": "code",
      "source": [
        "from numpy import random\n",
        "import numpy as np\n",
        "\n",
        "arr = np.array([1, 2, 3, 4, 5])\n",
        "\n",
        "random.shuffle(arr)\n",
        "\n",
        "print(arr)"
      ],
      "metadata": {
        "id": "amC9jcIDn2cN"
      },
      "execution_count": null,
      "outputs": []
    },
    {
      "cell_type": "code",
      "source": [
        "#Generating Permutation of Arrays\n",
        "from numpy import random\n",
        "import numpy as np\n",
        "\n",
        "arr = np.array([1, 2, 3, 4, 5])\n",
        "\n",
        "print(random.permutation(arr))"
      ],
      "metadata": {
        "id": "fNbJi07doi60"
      },
      "execution_count": null,
      "outputs": []
    },
    {
      "cell_type": "markdown",
      "source": [
        "# Visualize Distributions With Seaborn\n",
        "\n",
        "Seaborn is a library that uses Matplotlib underneath to plot graphs. It will be used to visualize random distributions."
      ],
      "metadata": {
        "id": "W60rKBAIpPSx"
      }
    },
    {
      "cell_type": "code",
      "source": [
        "!pip install seaborn\n"
      ],
      "metadata": {
        "id": "uu1AlVOIozDU"
      },
      "execution_count": null,
      "outputs": []
    },
    {
      "cell_type": "markdown",
      "source": [
        "# Distplots\n",
        "Distplot stands for distribution plot, it takes as input an array and plots a curve corresponding to the distribution of points in the array."
      ],
      "metadata": {
        "id": "Y47N7gQwp_38"
      }
    },
    {
      "cell_type": "markdown",
      "source": [
        "**Import Matplotlib**"
      ],
      "metadata": {
        "id": "Gn6xfVUIqHqS"
      }
    },
    {
      "cell_type": "code",
      "source": [
        "import matplotlib.pyplot as plt\n",
        "import seaborn as sns"
      ],
      "metadata": {
        "id": "-4T8-C_ip9YM"
      },
      "execution_count": null,
      "outputs": []
    },
    {
      "cell_type": "code",
      "source": [
        "#Plotting a Distplot\n",
        "import matplotlib.pyplot as plt\n",
        "import seaborn as sns\n",
        "\n",
        "sns.distplot([0, 1, 2, 3, 4, 5])\n",
        "\n",
        "plt.show()"
      ],
      "metadata": {
        "id": "b50779p3qPqV"
      },
      "execution_count": null,
      "outputs": []
    },
    {
      "cell_type": "markdown",
      "source": [
        "**Plotting a Distplot Without the Histogram**\n"
      ],
      "metadata": {
        "id": "IRhFNFgaskp7"
      }
    },
    {
      "cell_type": "code",
      "source": [
        "import matplotlib.pyplot as plt\n",
        "import seaborn as sns\n",
        "\n",
        "sns.distplot([0, 1, 2, 3, 4, 5], hist=False)\n",
        "\n",
        "plt.show()"
      ],
      "metadata": {
        "id": "ZzXhC4lrscwz"
      },
      "execution_count": null,
      "outputs": []
    },
    {
      "cell_type": "markdown",
      "source": [
        "# Normal Distribution\n",
        "The Normal Distribution is one of the most important distributions.\n",
        "\n",
        "It is also called the **Gaussian Distribution** after the German mathematician Carl Friedrich Gauss.\n",
        "\n",
        "It fits the probability distribution of many events, eg. IQ Scores, Heartbeat etc.\n",
        "\n",
        "Use the random.normal() method to get a Normal Data Distribution.\n",
        "\n",
        "It has three parameters:\n",
        "\n",
        "loc - (Mean) where the peak of the bell exists.\n",
        "\n",
        "scale - (Standard Deviation) how flat the graph distribution should be.\n",
        "\n",
        "size - The shape of the returned array."
      ],
      "metadata": {
        "id": "2fkvVsfVtPlU"
      }
    },
    {
      "cell_type": "markdown",
      "source": [
        "Generate a random normal distribution of size 2x3:"
      ],
      "metadata": {
        "id": "nhwNZXBFtcdL"
      }
    },
    {
      "cell_type": "code",
      "source": [
        "from numpy import random\n",
        "\n",
        "x = random.normal(size=(2, 3))\n",
        "\n",
        "print(x)"
      ],
      "metadata": {
        "id": "N7YVb2PHsypM"
      },
      "execution_count": null,
      "outputs": []
    },
    {
      "cell_type": "markdown",
      "source": [
        "Generate a random normal distribution of size 2x3 with mean at 1 and standard deviation of 2:"
      ],
      "metadata": {
        "id": "3V1Wc03HvYjy"
      }
    },
    {
      "cell_type": "code",
      "source": [
        "from numpy import random\n",
        "\n",
        "x = random.normal(loc=1, scale=2, size=(2, 3))\n",
        "\n",
        "print(x)"
      ],
      "metadata": {
        "id": "4W6hVMIHvUCy"
      },
      "execution_count": null,
      "outputs": []
    },
    {
      "cell_type": "markdown",
      "source": [
        "# Visualization of Normal Distribution"
      ],
      "metadata": {
        "id": "AwQeeivGv-1a"
      }
    },
    {
      "cell_type": "code",
      "source": [
        "from numpy import random\n",
        "import matplotlib.pyplot as plt\n",
        "import seaborn as sns\n",
        "\n",
        "sns.distplot(random.normal(size=1000), hist=False)\n",
        "\n",
        "plt.show()"
      ],
      "metadata": {
        "id": "RcBDb0GZv78D"
      },
      "execution_count": null,
      "outputs": []
    },
    {
      "cell_type": "markdown",
      "source": [
        " The curve of a Normal Distribution is also known as the Bell Curve because of the bell-shaped curve.\n"
      ],
      "metadata": {
        "id": "tkL_QGm7GQKN"
      }
    },
    {
      "cell_type": "markdown",
      "source": [
        "# Binomial Distribution\n",
        "Binomial Distribution is a **Discrete Distribution**.\n",
        "\n",
        "It describes the outcome of binary scenarios, e.g. toss of a coin, it will either be head or tails.\n",
        "\n",
        "It has three parameters:\n",
        "\n",
        "n - number of trials.\n",
        "\n",
        "p - probability of occurence of each trial (e.g. for toss of a coin 0.5 each).\n",
        "\n",
        "size - The shape of the returned array."
      ],
      "metadata": {
        "id": "etlSuC_nHkD9"
      }
    },
    {
      "cell_type": "markdown",
      "source": [
        "# Discrete Distribution:\n",
        "The distribution is defined at separate set of events, e.g. a coin toss's result is discrete as it can be only head or tails whereas height of people is continuous as it can be 170, 170.1, 170.11 and so on.\n",
        "\n",
        "\n",
        "\n"
      ],
      "metadata": {
        "id": "E0vzEC-EJH6y"
      }
    },
    {
      "cell_type": "code",
      "source": [
        "from numpy import random\n",
        "\n",
        "x = random.binomial(n=10, p=0.5, size=10)\n",
        "\n",
        "print(x)"
      ],
      "metadata": {
        "id": "aGLlCrF5GSJV"
      },
      "execution_count": null,
      "outputs": []
    },
    {
      "cell_type": "code",
      "source": [
        "from numpy import random\n",
        "import matplotlib.pyplot as plt\n",
        "import seaborn as sns\n",
        "\n",
        "sns.distplot(random.binomial(n=10, p=0.5, size=1000), hist=True, kde=False)\n",
        "\n",
        "plt.show()"
      ],
      "metadata": {
        "id": "96zOIcPnKOZn"
      },
      "execution_count": null,
      "outputs": []
    },
    {
      "cell_type": "code",
      "source": [
        "from numpy import random\n",
        "import matplotlib.pyplot as plt\n",
        "import seaborn as sns\n",
        "\n",
        "sns.distplot(random.binomial(n=10, p=0.5, size=1000), hist=True)\n",
        "\n",
        "plt.show()"
      ],
      "metadata": {
        "id": "Ef7K4E9ySNgL"
      },
      "execution_count": null,
      "outputs": []
    },
    {
      "cell_type": "code",
      "source": [
        "from numpy import random\n",
        "import matplotlib.pyplot as plt\n",
        "import seaborn as sns\n",
        "\n",
        "sns.distplot(random.normal(loc=50, scale=5, size=1000), hist=False, label='normal')\n",
        "sns.distplot(random.binomial(n=100, p=0.5, size=1000), hist=False, label='binomial')\n",
        "\n",
        "plt.show()"
      ],
      "metadata": {
        "id": "wt5iwgjUS7KC"
      },
      "execution_count": null,
      "outputs": []
    },
    {
      "cell_type": "markdown",
      "source": [
        "The main difference is that **normal distribution is continous** whereas **binomial is discrete**, but if there are enough data points it will be quite similar to normal distribution with certain loc and scale."
      ],
      "metadata": {
        "id": "4pW7D0_2iBU7"
      }
    },
    {
      "cell_type": "markdown",
      "source": [
        "# Poisson Distribution"
      ],
      "metadata": {
        "id": "BPMtESGoiNni"
      }
    },
    {
      "cell_type": "markdown",
      "source": [
        "Poisson Distribution is a **Discrete Distribution**.\n",
        "\n",
        "It estimates how many times an event can happen in a specified time. e.g. If someone eats twice a day what is the probability he will eat thrice?"
      ],
      "metadata": {
        "id": "PnYZ1Um7jE8f"
      }
    },
    {
      "cell_type": "markdown",
      "source": [
        "It has two parameters:\n",
        "\n",
        "lam - rate or known number of occurrences e.g. 2 for above problem.\n",
        "\n",
        "size - The shape of the returned array."
      ],
      "metadata": {
        "id": "c_IH3paF_pIQ"
      }
    },
    {
      "cell_type": "code",
      "source": [
        "from numpy import random\n",
        "\n",
        "x = random.poisson(lam=2, size=10)\n",
        "\n",
        "print(x)"
      ],
      "metadata": {
        "id": "rNrtZr23iF_L"
      },
      "execution_count": null,
      "outputs": []
    },
    {
      "cell_type": "markdown",
      "source": [
        "# Visualization of Poisson Distribution"
      ],
      "metadata": {
        "id": "vDhyNLP-_00R"
      }
    },
    {
      "cell_type": "code",
      "source": [
        "from numpy import random\n",
        "import matplotlib.pyplot as plt\n",
        "import seaborn as sns\n",
        "\n",
        "sns.distplot(random.poisson(lam=2, size=1000), kde=False)\n",
        "\n",
        "plt.show()"
      ],
      "metadata": {
        "id": "0BMnCuSg_0gd"
      },
      "execution_count": null,
      "outputs": []
    },
    {
      "cell_type": "code",
      "source": [
        "from numpy import random\n",
        "import matplotlib.pyplot as plt\n",
        "import seaborn as sns\n",
        "\n",
        "sns.distplot(random.normal(loc=50, scale=7, size=1000), hist=False, label='binomial')\n",
        "sns.distplot(random.poisson(lam=50, size=1000), hist=False, label='poisson' )\n",
        "\n",
        "plt.show()"
      ],
      "metadata": {
        "id": "UtQTqMKKJsIx"
      },
      "execution_count": null,
      "outputs": []
    },
    {
      "cell_type": "markdown",
      "source": [
        "# Uniform Distribution"
      ],
      "metadata": {
        "id": "a2F9mmIjP_cG"
      }
    },
    {
      "cell_type": "markdown",
      "source": [
        "Used to describe probability where every event has **equal chances** of occuring.\n",
        "\n",
        "E.g. Generation of random numbers.\n",
        "\n",
        "It has three parameters:\n",
        "\n",
        "a - lower bound - default 0 .0.\n",
        "\n",
        "b - upper bound - default 1.0.\n",
        "\n",
        "size - The shape of the returned array."
      ],
      "metadata": {
        "id": "p3La6lbJQPrw"
      }
    },
    {
      "cell_type": "code",
      "source": [
        "from numpy import random\n",
        "\n",
        "x = random.uniform(size=(2, 3))\n",
        "\n",
        "print(x)"
      ],
      "metadata": {
        "id": "eQCbpGr4P_Mu"
      },
      "execution_count": null,
      "outputs": []
    },
    {
      "cell_type": "markdown",
      "source": [
        "# Visualization of Uniform Distribution"
      ],
      "metadata": {
        "id": "OLINChKQQkpi"
      }
    },
    {
      "cell_type": "code",
      "source": [
        "from numpy import random\n",
        "import matplotlib.pyplot as plt\n",
        "import seaborn as sns\n",
        "\n",
        "sns.distplot(random.uniform(size=1000), hist=False)\n",
        "\n",
        "plt.show()"
      ],
      "metadata": {
        "id": "q8y0TQt8QgDZ"
      },
      "execution_count": null,
      "outputs": []
    },
    {
      "cell_type": "markdown",
      "source": [
        "# Logistic Distribution"
      ],
      "metadata": {
        "id": "yej5dRXLVw2Y"
      }
    },
    {
      "cell_type": "markdown",
      "source": [
        "Logistic Distribution is used to describe **growth**.\n",
        "\n",
        "Used extensively in machine learning in logistic regression, neural networks etc.\n",
        "\n",
        "It has three parameters:\n",
        "\n",
        "loc - mean, where the peak is. Default 0.\n",
        "\n",
        "scale - standard deviation, the flatness of distribution. Default 1.\n",
        "\n",
        "size - The shape of the returned array."
      ],
      "metadata": {
        "id": "jSLqUMgRV1H_"
      }
    },
    {
      "cell_type": "code",
      "source": [
        "from numpy import random\n",
        "\n",
        "x = random.logistic(loc=1, scale=2, size=(2, 3))\n",
        "\n",
        "print(x)"
      ],
      "metadata": {
        "id": "6hMyz4kgVyB4"
      },
      "execution_count": null,
      "outputs": []
    },
    {
      "cell_type": "code",
      "source": [
        "from numpy import random\n",
        "import matplotlib.pyplot as plt\n",
        "import seaborn as sns\n",
        "\n",
        "sns.distplot(random.logistic(size=1000), hist=False)\n",
        "\n",
        "plt.show()"
      ],
      "metadata": {
        "id": "JPYUwkzQWgai"
      },
      "execution_count": null,
      "outputs": []
    },
    {
      "cell_type": "markdown",
      "source": [
        "Difference Between Logistic and Normal Distribution\n",
        "Both distributions are near identical, but logistic distribution has more area under the tails, meaning it represents more possibility of occurrence of an event further away from mean.\n",
        "\n",
        "For higher value of scale (standard deviation) the normal and logistic distributions are near identical apart from the peak."
      ],
      "metadata": {
        "id": "QKBmwvw8Wt0I"
      }
    },
    {
      "cell_type": "code",
      "source": [
        "from numpy import random\n",
        "import matplotlib.pyplot as plt\n",
        "import seaborn as sns\n",
        "\n",
        "sns.distplot(random.normal(loc=2,scale=2, size=1000), hist=False, label='normal')\n",
        "sns.distplot(random.logistic(loc=2,scale=2,size=1000), hist=False, label='logistic')\n",
        "\n",
        "plt.show()"
      ],
      "metadata": {
        "id": "_oeU7tw0Wv7I"
      },
      "execution_count": null,
      "outputs": []
    },
    {
      "cell_type": "markdown",
      "source": [
        "# Multinomial Distribution"
      ],
      "metadata": {
        "id": "rFaibkaM2VF9"
      }
    },
    {
      "cell_type": "markdown",
      "source": [
        "Multinomial distribution is a **generalization of binomial distribution**.\n",
        "\n",
        "It describes outcomes of multi-nomial scenarios unlike binomial where scenarios must be only one of two. e.g. Blood type of a population, dice roll outcome.\n",
        "\n",
        "It has three parameters:\n",
        "\n",
        "n - number of possible outcomes (e.g. 6 for dice roll).\n",
        "\n",
        "pvals - list of probabilties of outcomes (e.g. [1/6, 1/6, 1/6, 1/6, 1/6, 1/6] for dice roll).\n",
        "\n",
        "size - The shape of the returned array."
      ],
      "metadata": {
        "id": "sz6DISaJ5fq1"
      }
    },
    {
      "cell_type": "code",
      "source": [
        "from numpy import random\n",
        "\n",
        "x = random.multinomial(n=6, pvals=[1/6, 1/6, 1/6, 1/6, 1/6, 1/6])\n",
        "\n",
        "print(x)"
      ],
      "metadata": {
        "id": "4JfLcYOe08n3"
      },
      "execution_count": null,
      "outputs": []
    },
    {
      "cell_type": "markdown",
      "source": [
        "# Exponential Distribution\n"
      ],
      "metadata": {
        "id": "8qWtYSFV9t3z"
      }
    },
    {
      "cell_type": "markdown",
      "source": [
        "Exponential distribution is used for **describing time till next event** e.g. failure/success etc.\n",
        "\n",
        "It has two parameters:\n",
        "\n",
        "scale - inverse of rate ( see lam in poisson distribution ) defaults to 1.0.\n",
        "\n",
        "size - The shape of the returned array."
      ],
      "metadata": {
        "id": "W2OAvDL7-cc7"
      }
    },
    {
      "cell_type": "code",
      "source": [
        "from numpy import random\n",
        "\n",
        "x = random.exponential(scale=2, size=(2, 3))\n",
        "\n",
        "print(x)"
      ],
      "metadata": {
        "id": "78pgpEYX8pt6"
      },
      "execution_count": null,
      "outputs": []
    },
    {
      "cell_type": "markdown",
      "source": [
        "# Visualization of Exponential Distribution"
      ],
      "metadata": {
        "id": "_7Gs5brvCG8V"
      }
    },
    {
      "cell_type": "code",
      "source": [
        "from numpy import random\n",
        "import matplotlib.pyplot as plt\n",
        "import seaborn as sns\n",
        "\n",
        "sns.distplot(random.exponential(size=1000), hist=False)\n",
        "\n",
        "plt.show()"
      ],
      "metadata": {
        "id": "_u1lclwOCFC2"
      },
      "execution_count": null,
      "outputs": []
    },
    {
      "cell_type": "markdown",
      "source": [
        "# Relation Between Poisson and Exponential Distribution"
      ],
      "metadata": {
        "id": "Nll0pyznCSgu"
      }
    },
    {
      "cell_type": "markdown",
      "source": [
        "Poisson distribution deals with number of occurences of an event in a time period whereas exponential distribution deals with the time between these events."
      ],
      "metadata": {
        "id": "RWPvMHl0CmH0"
      }
    },
    {
      "cell_type": "markdown",
      "source": [
        "# Chi Square Distribution"
      ],
      "metadata": {
        "id": "VT6i39ySCuMs"
      }
    },
    {
      "cell_type": "markdown",
      "source": [
        "Chi Square distribution is used as a **basis to verify the hypothesis**.\n",
        "\n",
        "It has two parameters:\n",
        "\n",
        "df - (degree of freedom).\n",
        "\n",
        "size - The shape of the returned array."
      ],
      "metadata": {
        "id": "gydbRw-NEKEc"
      }
    },
    {
      "cell_type": "code",
      "source": [
        "from numpy import random\n",
        "\n",
        "x = random.chisquare(df=2, size=(2, 3))\n",
        "\n",
        "print(x)"
      ],
      "metadata": {
        "id": "g6XcmLVvCTwC"
      },
      "execution_count": null,
      "outputs": []
    },
    {
      "cell_type": "markdown",
      "source": [
        "# Visualization of Chi Square Distribution"
      ],
      "metadata": {
        "id": "le747N-fFlhb"
      }
    },
    {
      "cell_type": "code",
      "source": [
        "from numpy import random\n",
        "import matplotlib.pyplot as plt\n",
        "import seaborn as sns\n",
        "\n",
        "sns.distplot(random.chisquare(df=1, size=1000), hist=False)\n",
        "\n",
        "plt.show()"
      ],
      "metadata": {
        "id": "8YvWtl0TFc2p"
      },
      "execution_count": null,
      "outputs": []
    },
    {
      "cell_type": "markdown",
      "source": [
        "# Rayleigh Distribution"
      ],
      "metadata": {
        "id": "RhUvG_D3JE8s"
      }
    },
    {
      "cell_type": "markdown",
      "source": [
        "Rayleigh distribution is used in **signal processing**.\n",
        "\n",
        "It has two parameters:\n",
        "\n",
        "scale - (standard deviation) decides how flat the distribution will be default 1.0).\n",
        "\n",
        "size - The shape of the returned array."
      ],
      "metadata": {
        "id": "DWzPmDrcJKxE"
      }
    },
    {
      "cell_type": "code",
      "source": [
        "from numpy import random\n",
        "\n",
        "x = random.rayleigh(scale=2, size=(2, 3))\n",
        "\n",
        "print(x)"
      ],
      "metadata": {
        "id": "Kk06-f6qJKKl"
      },
      "execution_count": null,
      "outputs": []
    },
    {
      "cell_type": "code",
      "source": [
        "from numpy import random\n",
        "import matplotlib.pyplot as plt\n",
        "import seaborn as sns\n",
        "\n",
        "sns.distplot(random.rayleigh(size=1000), hist=False)\n",
        "\n",
        "plt.show()"
      ],
      "metadata": {
        "id": "t9ntxaD-JEXU"
      },
      "execution_count": null,
      "outputs": []
    },
    {
      "cell_type": "markdown",
      "source": [
        "# Pareto Distribution"
      ],
      "metadata": {
        "id": "IqihlI5sLklr"
      }
    },
    {
      "cell_type": "markdown",
      "source": [
        "A distribution following **Pareto's law i.e. 80-20 distribution** (20% factors cause 80% outcome).\n",
        "\n",
        "It has two parameter:\n",
        "\n",
        "a - shape parameter.\n",
        "\n",
        "size - The shape of the returned array."
      ],
      "metadata": {
        "id": "NrSEBKHQMPNI"
      }
    },
    {
      "cell_type": "code",
      "source": [
        "from numpy import random\n",
        "\n",
        "x = random.pareto(a=2, size=(2, 3))\n",
        "\n",
        "print(x)"
      ],
      "metadata": {
        "id": "OAT9WOd9K9mU"
      },
      "execution_count": null,
      "outputs": []
    },
    {
      "cell_type": "markdown",
      "source": [
        "# Visualization of Pareto Distribution"
      ],
      "metadata": {
        "id": "oARnR_KoNhsR"
      }
    },
    {
      "cell_type": "code",
      "source": [
        "from numpy import random\n",
        "import matplotlib.pyplot as plt\n",
        "import seaborn as sns\n",
        "\n",
        "sns.distplot(random.pareto(a=2, size=1000),kde=False)\n",
        "\n",
        "plt.show()"
      ],
      "metadata": {
        "id": "pzk3TtrPNfHS"
      },
      "execution_count": null,
      "outputs": []
    },
    {
      "cell_type": "markdown",
      "source": [
        "# Zipf Distribution"
      ],
      "metadata": {
        "id": "dDvk-PioOJpA"
      }
    },
    {
      "cell_type": "markdown",
      "source": [
        "It has two parameters:\n",
        "\n",
        "a - distribution parameter.\n",
        "\n",
        "size - The shape of the returned array."
      ],
      "metadata": {
        "id": "2rje5U8NONN3"
      }
    },
    {
      "cell_type": "code",
      "source": [
        "from numpy import random\n",
        "\n",
        "x = random.zipf(a=2, size=(2, 3))\n",
        "\n",
        "print(x)"
      ],
      "metadata": {
        "id": "OstvUZQGOLDH"
      },
      "execution_count": null,
      "outputs": []
    },
    {
      "cell_type": "markdown",
      "source": [
        "# Visualization of Zipf Distribution"
      ],
      "metadata": {
        "id": "q_rn6GOzOefM"
      }
    },
    {
      "cell_type": "code",
      "source": [
        "#Sample 1000 points but plotting only ones with value < 10 for more meaningful chart\n",
        "\n",
        "from numpy import random\n",
        "import matplotlib.pyplot as plt\n",
        "import seaborn as sns\n",
        "\n",
        "x = random.zipf(a=2, size=1000)\n",
        "sns.distplot(x[x<10], kde=False)\n",
        "\n",
        "plt.show()"
      ],
      "metadata": {
        "id": "HNz1enZTOcg-"
      },
      "execution_count": null,
      "outputs": []
    },
    {
      "cell_type": "markdown",
      "source": [
        "# NumPy ufuncs"
      ],
      "metadata": {
        "id": "OeS7AtzRQDZk"
      }
    },
    {
      "cell_type": "markdown",
      "source": [
        "ufuncs stands for \"**Universal Functions**\" and they are NumPy functions that operate on the ndarray object.\n",
        "\n",
        "Why use ufuncs?\n",
        "ufuncs are used to implement **vectorization** in NumPy which is way faster than iterating over elements.\n",
        "\n",
        "They also provide broadcasting and additional methods like reduce, accumulate etc. that are very helpful for computation.\n",
        "\n",
        "ufuncs also take additional arguments, like:\n",
        "\n",
        "where boolean array or condition defining where the operations should take place.\n",
        "\n",
        "dtype defining the return type of elements.\n",
        "\n",
        "out output array where the return value should be copied.\n",
        "\n"
      ],
      "metadata": {
        "id": "jBgxEAlIQi0j"
      }
    },
    {
      "cell_type": "markdown",
      "source": [
        "What is Vectorization?\n",
        "\n",
        "Converting iterative statements into a vector based operation is called vectorization.\n",
        "\n",
        "It is faster as modern CPUs are optimized for such operations."
      ],
      "metadata": {
        "id": "L_prYOdPQvWT"
      }
    },
    {
      "cell_type": "markdown",
      "source": [
        "Without ufunc, we can use Python's built-in zip() method:"
      ],
      "metadata": {
        "id": "2LmI5Fj3StXM"
      }
    },
    {
      "cell_type": "code",
      "source": [
        "x = [1, 2, 3, 4]\n",
        "y = [4, 5, 6, 7]\n",
        "z = []\n",
        "\n",
        "for i, j in zip(x, y):\n",
        "  z.append(i + j)\n",
        "print(z)"
      ],
      "metadata": {
        "id": "3sTJYYJyPaYM"
      },
      "execution_count": null,
      "outputs": []
    },
    {
      "cell_type": "code",
      "source": [
        "import numpy as np\n",
        "\n",
        "x = [1, 2, 3, 4]\n",
        "y = [4, 5, 6, 7]\n",
        "z = np.add(x, y)\n",
        "\n",
        "print(z)"
      ],
      "metadata": {
        "id": "1nbXpYIxS6JE"
      },
      "execution_count": null,
      "outputs": []
    },
    {
      "cell_type": "markdown",
      "source": [
        "To Create Your Own ufunc- frompyfunc()\n",
        "\n",
        "function - the name of the function.\n",
        "inputs - the number of input arguments (arrays).\n",
        "outputs - the number of output arrays."
      ],
      "metadata": {
        "id": "vyeQSBs9WQv0"
      }
    },
    {
      "cell_type": "code",
      "source": [
        "import numpy as np\n",
        "\n",
        "def myadd(x, y):\n",
        "  return x+y\n",
        "\n",
        "myadd = np.frompyfunc(myadd,2,1)\n",
        "\n",
        "print(myadd([1, 2, 3, 4], [5, 6, 7, 8]))"
      ],
      "metadata": {
        "id": "_C3-JOWiTPCb"
      },
      "execution_count": null,
      "outputs": []
    },
    {
      "cell_type": "code",
      "source": [
        "import numpy as np\n",
        "\n",
        "print(type(np.add))\n"
      ],
      "metadata": {
        "id": "ebIHaIMSXEyU"
      },
      "execution_count": null,
      "outputs": []
    },
    {
      "cell_type": "code",
      "source": [
        "import numpy as np\n",
        "\n",
        "print(type(np.concatenate))"
      ],
      "metadata": {
        "id": "nCzd3anyjSAI"
      },
      "execution_count": null,
      "outputs": []
    },
    {
      "cell_type": "code",
      "source": [
        "import numpy as np\n",
        "\n",
        "print(type(np.blahblah))"
      ],
      "metadata": {
        "id": "iNdlLQNTjipI"
      },
      "execution_count": null,
      "outputs": []
    },
    {
      "cell_type": "code",
      "source": [
        "import numpy as np\n",
        "\n",
        "if type(np.add) == np.ufunc:\n",
        "  print('add is ufunc')\n",
        "else:\n",
        "  print('add is not ufunc')"
      ],
      "metadata": {
        "id": "3aT33xCnjuog"
      },
      "execution_count": null,
      "outputs": []
    },
    {
      "cell_type": "markdown",
      "source": [
        "# Simple Arithmetic"
      ],
      "metadata": {
        "id": "N5t_Dksv1TVp"
      }
    },
    {
      "cell_type": "code",
      "source": [
        "import numpy as np\n",
        "\n",
        "arr1 = np.array([10, 11, 12, 13, 14, 15])\n",
        "arr2 = np.array([20, 21, 22, 23, 24, 25])\n",
        "\n",
        "newarr = np.add(arr1, arr2)\n",
        "\n",
        "print(newarr)"
      ],
      "metadata": {
        "id": "4vbLdFjW1JDo"
      },
      "execution_count": null,
      "outputs": []
    },
    {
      "cell_type": "code",
      "source": [
        "import numpy as np\n",
        "\n",
        "arr1 = np.array([10, 20, 30, 40, 50, 60])\n",
        "arr2 = np.array([20, 21, 22, 23, 24, 25])\n",
        "\n",
        "newarr = np.subtract(arr1, arr2)\n",
        "\n",
        "print(newarr)"
      ],
      "metadata": {
        "id": "itwUy5bV1jz4"
      },
      "execution_count": null,
      "outputs": []
    },
    {
      "cell_type": "markdown",
      "source": [
        "**Rounding Decimals**\n",
        "There are primarily five ways of rounding off decimals in NumPy:\n",
        "\n",
        "truncation\n",
        "\n",
        "fix\n",
        "\n",
        "rounding\n",
        "\n",
        "floor\n",
        "\n",
        "ceil\n"
      ],
      "metadata": {
        "id": "Ssg82pul4a-Q"
      }
    },
    {
      "cell_type": "code",
      "source": [
        "import numpy as np\n",
        "\n",
        "arr = np.trunc([-3.1666, 3.6667])\n",
        "\n",
        "print(arr)"
      ],
      "metadata": {
        "id": "4ykpxfbL14WQ"
      },
      "execution_count": null,
      "outputs": []
    },
    {
      "cell_type": "code",
      "source": [
        "import numpy as np\n",
        "\n",
        "arr = np.fix([-3.1666, 3.6667])\n",
        "\n",
        "print(arr)"
      ],
      "metadata": {
        "id": "9uIlrYFy5GwY"
      },
      "execution_count": null,
      "outputs": []
    },
    {
      "cell_type": "code",
      "source": [
        "import numpy as np\n",
        "\n",
        "arr = np.around(3.1666, 2)\n",
        "\n",
        "print(arr)"
      ],
      "metadata": {
        "id": "jQVUc0-05KRI"
      },
      "execution_count": null,
      "outputs": []
    },
    {
      "cell_type": "code",
      "source": [
        "import numpy as np\n",
        "\n",
        "arr = np.floor([-3.1666, 3.6667])\n",
        "\n",
        "print(arr)"
      ],
      "metadata": {
        "id": "sNdoCX5PBeCY"
      },
      "execution_count": null,
      "outputs": []
    },
    {
      "cell_type": "code",
      "source": [
        "import numpy as np\n",
        "\n",
        "arr = np.ceil([-3.1666, 3.6667])\n",
        "\n",
        "print(arr)"
      ],
      "metadata": {
        "id": "ix234BVMBpOI"
      },
      "execution_count": null,
      "outputs": []
    },
    {
      "cell_type": "markdown",
      "source": [
        "# NumPy Logs"
      ],
      "metadata": {
        "id": "9rHXVMgfB5jp"
      }
    },
    {
      "cell_type": "markdown",
      "source": [
        "NumPy provides functions to perform log at the base 2, e and 10.\n",
        "\n",
        "We will also explore how we can take log for any base by creating a custom ufunc.\n",
        "\n",
        "All of the log functions will place -inf or inf in the elements if the log can not be computed.\n",
        "\n"
      ],
      "metadata": {
        "id": "s-CAVr7_CWkI"
      }
    },
    {
      "cell_type": "code",
      "source": [
        "import numpy as np\n",
        "\n",
        "arr = np.arange(1, 10)\n",
        "\n",
        "print(np.log2(arr))"
      ],
      "metadata": {
        "id": "GAMqVXx0BxWI"
      },
      "execution_count": null,
      "outputs": []
    },
    {
      "cell_type": "code",
      "source": [
        "import numpy as np #The arange(1, 10) function returns an array with integers starting from 1 (included) to 10 (not included)\n",
        "\n",
        "arr = np.arange(1, 10)\n",
        "\n",
        "print(np.log2(arr))"
      ],
      "metadata": {
        "id": "wXvJlwEAChrp"
      },
      "execution_count": null,
      "outputs": []
    },
    {
      "cell_type": "code",
      "source": [
        "import numpy as np\n",
        "\n",
        "arr = np.arange(1, 10)\n",
        "\n",
        "print(np.log10(arr))"
      ],
      "metadata": {
        "id": "OnKFBWKEDRpo"
      },
      "execution_count": null,
      "outputs": []
    },
    {
      "cell_type": "code",
      "source": [
        "import numpy as np\n",
        "\n",
        "arr = np.arange(1, 10)\n",
        "\n",
        "print(np.log(arr))"
      ],
      "metadata": {
        "id": "GLE8kndVETpr"
      },
      "execution_count": null,
      "outputs": []
    },
    {
      "cell_type": "code",
      "source": [
        "import numpy as np  #LOG BASE e\n",
        "\n",
        "arr = np.arange(1, 10)\n",
        "\n",
        "print(np.log(arr))"
      ],
      "metadata": {
        "id": "WcgYy6prEhvI"
      },
      "execution_count": null,
      "outputs": []
    },
    {
      "cell_type": "markdown",
      "source": [
        "**Summations:**\n",
        "\n",
        "Addition is done between two arguments whereas summation happens over n elements."
      ],
      "metadata": {
        "id": "Gp7iKhJ8FSow"
      }
    },
    {
      "cell_type": "code",
      "source": [
        "import numpy as np\n",
        "\n",
        "arr1 = np.array([1, 2, 3])\n",
        "arr2 = np.array([1, 2, 3])\n",
        "\n",
        "newarr = np.add(arr1, arr2)\n",
        "\n",
        "print(newarr)"
      ],
      "metadata": {
        "id": "b7eT74opEvvQ"
      },
      "execution_count": null,
      "outputs": []
    },
    {
      "cell_type": "code",
      "source": [
        "#PRODUCT\n",
        "import numpy as np\n",
        "\n",
        "arr = np.array([1, 2, 3, 4])\n",
        "\n",
        "x = np.prod(arr)\n",
        "\n",
        "print(x)"
      ],
      "metadata": {
        "id": "mQm7gDvHFtS4"
      },
      "execution_count": null,
      "outputs": []
    },
    {
      "cell_type": "code",
      "source": [
        "import numpy as np\n",
        "\n",
        "arr1 = np.array([1, 2, 3, 4])\n",
        "arr2 = np.array([5, 6, 7, 8])\n",
        "\n",
        "x = np.prod([arr1, arr2])\n",
        "\n",
        "print(x)"
      ],
      "metadata": {
        "id": "NI3wcjBFGCUg"
      },
      "execution_count": null,
      "outputs": []
    },
    {
      "cell_type": "markdown",
      "source": [
        "PRODUCT OVER AXIS"
      ],
      "metadata": {
        "id": "DzSal6gqGe4T"
      }
    },
    {
      "cell_type": "code",
      "source": [
        "import numpy as np\n",
        "\n",
        "arr1 = np.array([1, 2, 3, 4])\n",
        "arr2 = np.array([5, 6, 7, 8])\n",
        "\n",
        "newarr = np.prod([arr1, arr2], axis=1)\n",
        "\n",
        "print(newarr)"
      ],
      "metadata": {
        "id": "v-q2X9unGVJR"
      },
      "execution_count": null,
      "outputs": []
    },
    {
      "cell_type": "markdown",
      "source": [
        "# Cummulative Product"
      ],
      "metadata": {
        "id": "LONFX3ysGuHA"
      }
    },
    {
      "cell_type": "markdown",
      "source": [
        "Cummulative product means taking the **product partially**.\n",
        "\n",
        "E.g. The partial product of [1, 2, 3, 4] is [1, 1*2, 1*2*3, 1*2*3*4] = [1, 2, 6, 24]\n",
        "\n",
        "Perfom partial sum with the cumprod() function."
      ],
      "metadata": {
        "id": "e-DDDuAdJVGJ"
      }
    },
    {
      "cell_type": "code",
      "source": [
        "import numpy as np\n",
        "\n",
        "arr = np.array([5, 6, 7, 8])\n",
        "\n",
        "newarr = np.cumprod(arr)\n",
        "\n",
        "print(newarr)"
      ],
      "metadata": {
        "id": "G7bC25snGvWs"
      },
      "execution_count": null,
      "outputs": []
    },
    {
      "cell_type": "markdown",
      "source": [
        "NumPy Differences"
      ],
      "metadata": {
        "id": "zxf_npHEKFFg"
      }
    },
    {
      "cell_type": "markdown",
      "source": [
        "Differences\n",
        "A discrete difference means subtracting two successive elements.\n",
        "\n",
        "E.g. for [1, 2, 3, 4], the discrete difference would be [2-1, 3-2, 4-3] = [1, 1, 1]\n",
        "\n",
        "To find the discrete difference, use the diff() function."
      ],
      "metadata": {
        "id": "SXG6zE6rKeQA"
      }
    },
    {
      "cell_type": "code",
      "source": [
        "import numpy as np\n",
        "\n",
        "arr = np.array([10, 15, 25, 5])\n",
        "\n",
        "newarr = np.diff(arr)\n",
        "\n",
        "print(newarr)"
      ],
      "metadata": {
        "id": "o6bMrjsCKARQ"
      },
      "execution_count": null,
      "outputs": []
    },
    {
      "cell_type": "code",
      "source": [
        "import numpy as np\n",
        "\n",
        "arr = np.array([10, 15, 25, 5])\n",
        "\n",
        "newarr = np.diff(arr, n=2)\n",
        "\n",
        "print(newarr)"
      ],
      "metadata": {
        "id": "nVwi_vW3MHgQ"
      },
      "execution_count": null,
      "outputs": []
    },
    {
      "cell_type": "markdown",
      "source": [
        "# NumPy LCM Lowest Common Multiple"
      ],
      "metadata": {
        "id": "uRWjKe0FScHZ"
      }
    },
    {
      "cell_type": "code",
      "source": [
        "import numpy as np\n",
        "\n",
        "num1 = 4\n",
        "num2 = 6\n",
        "\n",
        "x = np.lcm(num1, num2)\n",
        "\n",
        "print(x)"
      ],
      "metadata": {
        "id": "ju2P-Jk3Rqpp"
      },
      "execution_count": null,
      "outputs": []
    },
    {
      "cell_type": "markdown",
      "source": [
        "**Finding LCM in Arrays**"
      ],
      "metadata": {
        "id": "-4ljdIyaS1l8"
      }
    },
    {
      "cell_type": "code",
      "source": [
        "import numpy as np\n",
        "\n",
        "arr = np.array([3, 6, 9])\n",
        "\n",
        "x = np.lcm.reduce(arr)\n",
        "\n",
        "print(x)"
      ],
      "metadata": {
        "id": "bVegUkt_SzUv"
      },
      "execution_count": null,
      "outputs": []
    },
    {
      "cell_type": "code",
      "source": [
        "import numpy as np\n",
        "\n",
        "arr = np.arange(1, 11)\n",
        "\n",
        "x = np.lcm.reduce(arr)\n",
        "\n",
        "print(x)"
      ],
      "metadata": {
        "id": "2OUDcCINTwJJ"
      },
      "execution_count": null,
      "outputs": []
    },
    {
      "cell_type": "markdown",
      "source": [
        "# NumPy GCD Greatest Common Denominator"
      ],
      "metadata": {
        "id": "41S7EbziYHxh"
      }
    },
    {
      "cell_type": "code",
      "source": [
        "import numpy as np\n",
        "\n",
        "num1 = 6\n",
        "num2 = 9\n",
        "\n",
        "x = np.gcd(num1, num2)\n",
        "\n",
        "print(x)"
      ],
      "metadata": {
        "id": "uhEcGmbfXzpK"
      },
      "execution_count": null,
      "outputs": []
    },
    {
      "cell_type": "markdown",
      "source": [
        "Finding GCD in Arrays"
      ],
      "metadata": {
        "id": "uRoJExX5EOaE"
      }
    },
    {
      "cell_type": "code",
      "source": [
        "import numpy as np\n",
        "\n",
        "arr = np.array([20, 8, 32, 36, 16])\n",
        "\n",
        "x = np.gcd.reduce(arr)\n",
        "\n",
        "print(x)"
      ],
      "metadata": {
        "id": "MxajurJoYmS4"
      },
      "execution_count": null,
      "outputs": []
    },
    {
      "cell_type": "markdown",
      "source": [
        "# Trigonometric Functions"
      ],
      "metadata": {
        "id": "AwroLvdtHya2"
      }
    },
    {
      "cell_type": "code",
      "source": [
        "import numpy as np\n",
        "\n",
        "x = np.sin(np.pi/2)\n",
        "\n",
        "print(x)"
      ],
      "metadata": {
        "id": "9R0FnX71H0io"
      },
      "execution_count": null,
      "outputs": []
    },
    {
      "cell_type": "code",
      "source": [
        "import numpy as np\n",
        "\n",
        "arr = np.array([np.pi/2, np.pi/3, np.pi/4, np.pi/5])\n",
        "\n",
        "x = np.sin(arr)\n",
        "\n",
        "print(x)"
      ],
      "metadata": {
        "id": "BgYxN_GIH7or"
      },
      "execution_count": null,
      "outputs": []
    },
    {
      "cell_type": "markdown",
      "source": [
        "Degrees Into Radians"
      ],
      "metadata": {
        "id": "uA4SNhhxekNZ"
      }
    },
    {
      "cell_type": "code",
      "source": [
        "import numpy as np\n",
        "\n",
        "arr = np.array([90, 180, 270, 360])\n",
        "\n",
        "x = np.deg2rad(arr)\n",
        "\n",
        "print(x)"
      ],
      "metadata": {
        "id": "ekFrCNSYH-rl"
      },
      "execution_count": null,
      "outputs": []
    },
    {
      "cell_type": "markdown",
      "source": [
        "Radians to Degrees"
      ],
      "metadata": {
        "id": "QhzjaG_XegJ9"
      }
    },
    {
      "cell_type": "code",
      "source": [
        "import numpy as np\n",
        "\n",
        "arr = np.array([np.pi/2, np.pi, 1.5*np.pi, 2*np.pi])\n",
        "\n",
        "x = np.rad2deg(arr)\n",
        "\n",
        "print(x)"
      ],
      "metadata": {
        "id": "nAeX1ICvIBsc"
      },
      "execution_count": null,
      "outputs": []
    },
    {
      "cell_type": "markdown",
      "source": [
        "**Finding Angles**"
      ],
      "metadata": {
        "id": "8qFrPsgyeWRC"
      }
    },
    {
      "cell_type": "markdown",
      "source": [
        "Finding angles from values of sine, cos, tan. E.g. sin, cos and tan inverse (arcsin, arccos, arctan)."
      ],
      "metadata": {
        "id": "QPdGjcRdebKx"
      }
    },
    {
      "cell_type": "code",
      "source": [
        "import numpy as np\n",
        "\n",
        "x = np.arcsin(1.0)\n",
        "\n",
        "print(x)"
      ],
      "metadata": {
        "id": "bU8mDKixeQdK"
      },
      "execution_count": null,
      "outputs": []
    },
    {
      "cell_type": "markdown",
      "source": [
        "**Angles of Each Value in Arrays**"
      ],
      "metadata": {
        "id": "U82N3L2Iewg4"
      }
    },
    {
      "cell_type": "code",
      "source": [
        "import numpy as np\n",
        "\n",
        "arr = np.array([1, -1, 0.1])\n",
        "\n",
        "x = np.arcsin(arr)\n",
        "\n",
        "print(x)"
      ],
      "metadata": {
        "id": "vJvinVqSezAo"
      },
      "execution_count": null,
      "outputs": []
    },
    {
      "cell_type": "markdown",
      "source": [
        "**Hypotenues**"
      ],
      "metadata": {
        "id": "7zDxAwqhylg5"
      }
    },
    {
      "cell_type": "code",
      "source": [
        "import numpy as np   #hypotenues for 4 base and 3 perpendicular:\n",
        "\n",
        "base = 3\n",
        "perp = 4\n",
        "\n",
        "x = np.hypot(base, perp)\n",
        "\n",
        "print(x)"
      ],
      "metadata": {
        "id": "Wa9d0vByfPYK"
      },
      "execution_count": null,
      "outputs": []
    },
    {
      "cell_type": "markdown",
      "source": [
        " **NumPy Hyperbolic Functions**"
      ],
      "metadata": {
        "id": "sFVNR3fJ4kNJ"
      }
    },
    {
      "cell_type": "code",
      "source": [
        "import numpy as np\n",
        "\n",
        "x = np.sinh(np.pi/2)\n",
        "\n",
        "print(x)"
      ],
      "metadata": {
        "id": "bHCc4_rFypsr"
      },
      "execution_count": null,
      "outputs": []
    },
    {
      "cell_type": "code",
      "source": [
        "import numpy as np\n",
        "\n",
        "arr = np.array([np.pi/2, np.pi/3, np.pi/4, np.pi/5])\n",
        "\n",
        "x = np.cosh(arr)\n",
        "\n",
        "print(x)"
      ],
      "metadata": {
        "id": "yNciHMHB4qQd"
      },
      "execution_count": null,
      "outputs": []
    },
    {
      "cell_type": "markdown",
      "source": [
        "**Finding Angles**"
      ],
      "metadata": {
        "id": "aTzMczZo4tHC"
      }
    },
    {
      "cell_type": "code",
      "source": [
        "import numpy as np\n",
        "\n",
        "x = np.arcsinh(1.0)\n",
        "\n",
        "print(x)"
      ],
      "metadata": {
        "id": "I6Uh7TGN4wCh"
      },
      "execution_count": null,
      "outputs": []
    },
    {
      "cell_type": "markdown",
      "source": [
        "**Angles of Each Value in Arrays**"
      ],
      "metadata": {
        "id": "eHosU8Sn40DR"
      }
    },
    {
      "cell_type": "code",
      "source": [
        "import numpy as np\n",
        "\n",
        "arr = np.array([0.1, 0.2, 0.5])\n",
        "\n",
        "x = np.arctanh(arr)\n",
        "\n",
        "print(x)"
      ],
      "metadata": {
        "id": "CL8FMwCj4x4R"
      },
      "execution_count": null,
      "outputs": []
    },
    {
      "cell_type": "markdown",
      "source": [
        "**NumPy Set Operations**"
      ],
      "metadata": {
        "id": "bUhEuaA-48gT"
      }
    },
    {
      "cell_type": "code",
      "source": [
        "import numpy as np\n",
        "\n",
        "arr1 = np.array([1, 2, 3, 4])\n",
        "arr2 = np.array([3, 4, 5, 6])\n",
        "\n",
        "newarr = np.union1d(arr1, arr2)\n",
        "\n",
        "print(newarr)"
      ],
      "metadata": {
        "id": "dct3gvBl49nZ"
      },
      "execution_count": null,
      "outputs": []
    },
    {
      "cell_type": "code",
      "source": [
        "#Finding Intersection\n",
        "\n",
        "import numpy as np\n",
        "\n",
        "arr1 = np.array([1, 2, 3, 4])\n",
        "arr2 = np.array([3, 4, 5, 6])\n",
        "\n",
        "newarr = np.intersect1d(arr1, arr2, assume_unique=True)\n",
        "\n",
        "print(newarr)"
      ],
      "metadata": {
        "id": "hlwDh3u_5BwR"
      },
      "execution_count": null,
      "outputs": []
    },
    {
      "cell_type": "markdown",
      "source": [
        "**Finding  Difference**"
      ],
      "metadata": {
        "id": "KchvCXtk5PWx"
      }
    },
    {
      "cell_type": "code",
      "source": [
        "import numpy as np\n",
        "\n",
        "set1 = np.array([1, 2, 3, 4])\n",
        "set2 = np.array([3, 4, 5, 6])\n",
        "\n",
        "newarr = np.setdiff1d(set1, set2, assume_unique=True)\n",
        "\n",
        "print(newarr)"
      ],
      "metadata": {
        "id": "awfsIWY25TTx"
      },
      "execution_count": null,
      "outputs": []
    },
    {
      "cell_type": "markdown",
      "source": [
        "**Finding Symmetric Difference**"
      ],
      "metadata": {
        "id": "EOtuEQHq-lRb"
      }
    },
    {
      "cell_type": "markdown",
      "source": [
        " find only the values that are NOT present in BOTH sets"
      ],
      "metadata": {
        "id": "NgiibXHC-3X7"
      }
    },
    {
      "cell_type": "code",
      "source": [
        "import numpy as np\n",
        "\n",
        "set1 = np.array([1, 2, 3, 4])\n",
        "set2 = np.array([3, 4, 5, 6])\n",
        "\n",
        "newarr = np.setxor1d(set1, set2, assume_unique=True)\n",
        "\n",
        "print(newarr)"
      ],
      "metadata": {
        "id": "LnVmvnqa9m7g"
      },
      "execution_count": null,
      "outputs": []
    },
    {
      "cell_type": "markdown",
      "source": [
        "# Pandas Tutorial"
      ],
      "metadata": {
        "id": "6hUbbPFnNKsI"
      }
    },
    {
      "cell_type": "markdown",
      "source": [
        "Pandas is used to **analyze data**"
      ],
      "metadata": {
        "id": "CUwUmK99NOYv"
      }
    },
    {
      "cell_type": "markdown",
      "source": [
        "Pandas allows us to analyze big data and make conclusions based on statistical theories.\n",
        "\n",
        "Pandas can clean messy data sets, and make them readable and relevant.\n",
        "\n",
        "Relevant data is very important in data science."
      ],
      "metadata": {
        "id": "SEg2VzhqZqEm"
      }
    },
    {
      "cell_type": "code",
      "source": [
        "import pandas\n",
        "\n",
        "mydataset = {\n",
        "  'cars': [\"BMW\", \"Volvo\", \"Ford\"],\n",
        "  'passings': [3, 7, 2]\n",
        "}\n",
        "\n",
        "myvar = pandas.DataFrame(mydataset)\n",
        "\n",
        "print(myvar)"
      ],
      "metadata": {
        "id": "ZeOS5NV7Z09X"
      },
      "execution_count": null,
      "outputs": []
    },
    {
      "cell_type": "code",
      "source": [
        "import pandas as pd\n",
        "\n",
        "a = [1, 7, 2]\n",
        "\n",
        "myvar = pd.Series(a)\n",
        "\n",
        "print(myvar)"
      ],
      "metadata": {
        "id": "VfqURTXBbV2G"
      },
      "execution_count": null,
      "outputs": []
    },
    {
      "cell_type": "code",
      "source": [
        "print(myvar[0])"
      ],
      "metadata": {
        "id": "cU22_zDJb5o2"
      },
      "execution_count": null,
      "outputs": []
    },
    {
      "cell_type": "code",
      "source": [
        "import pandas as pd\n",
        "\n",
        "a = [1, 7, 2]\n",
        "\n",
        "myvar = pd.Series(a, index = [\"x\", \"y\", \"z\"])\n",
        "\n",
        "print(myvar)"
      ],
      "metadata": {
        "id": "rdZldo2RcK4W"
      },
      "execution_count": null,
      "outputs": []
    },
    {
      "cell_type": "code",
      "source": [
        "print(myvar[\"y\"])"
      ],
      "metadata": {
        "id": "1CVFvMGEcPPn"
      },
      "execution_count": null,
      "outputs": []
    },
    {
      "cell_type": "code",
      "source": [
        "import pandas as pd\n",
        "\n",
        "data = {\n",
        "  \"calories\": [420, 380, 390],\n",
        "  \"duration\": [50, 40, 45]\n",
        "}\n",
        "\n",
        "#load data into a DataFrame object:\n",
        "df = pd.DataFrame(data)\n",
        "\n",
        "print(df)"
      ],
      "metadata": {
        "id": "HlSSzgNqOGwV"
      },
      "execution_count": null,
      "outputs": []
    },
    {
      "cell_type": "code",
      "source": [
        "#refer to the row index:  #loc attribute to return one or more specified row(s)\n",
        "print(df.loc[0])"
      ],
      "metadata": {
        "id": "dBcgO2bzfXD2"
      },
      "execution_count": null,
      "outputs": []
    },
    {
      "cell_type": "code",
      "source": [
        "#use a list of indexes:\n",
        "print(df.loc[[0, 1]])"
      ],
      "metadata": {
        "id": "e9WJ1A8tO9pM"
      },
      "execution_count": null,
      "outputs": []
    },
    {
      "cell_type": "code",
      "source": [
        "import pandas as pd\n",
        "\n",
        "data = {\n",
        "  \"calories\": [420, 380, 390],\n",
        "  \"duration\": [50, 40, 45]\n",
        "}\n",
        "\n",
        "df = pd.DataFrame(data, index = [\"day1\", \"day2\", \"day3\"])\n",
        "\n",
        "print(df)"
      ],
      "metadata": {
        "id": "EiywnsLQPcUl"
      },
      "execution_count": null,
      "outputs": []
    },
    {
      "cell_type": "code",
      "source": [
        "import pandas as pd\n",
        "\n",
        "df = pd.read_csv(\"/content/sample_data/california_housing_train.csv\")\n",
        "\n",
        "print(df)"
      ],
      "metadata": {
        "id": "GHUNDYjOQ6Od"
      },
      "execution_count": null,
      "outputs": []
    },
    {
      "cell_type": "markdown",
      "source": [
        "Data cleaning means fixing bad data in your data set.\n",
        "\n",
        "Bad data could be:\n",
        "\n",
        "Empty cells\n",
        "Data in wrong format\n",
        "Wrong data\n",
        "Duplicates"
      ],
      "metadata": {
        "id": "DrJqWFr0abdD"
      }
    },
    {
      "cell_type": "code",
      "source": [
        "df.info()"
      ],
      "metadata": {
        "id": "mYfTjJB4li0y"
      },
      "execution_count": null,
      "outputs": []
    },
    {
      "cell_type": "markdown",
      "source": [
        "**new Data Frame with no empty cells**"
      ],
      "metadata": {
        "id": "dcZImjCKlxY6"
      }
    },
    {
      "cell_type": "code",
      "source": [
        "new_df = df.dropna()\n",
        "print(new_df)"
      ],
      "metadata": {
        "id": "LM9WscBsVBDF"
      },
      "execution_count": null,
      "outputs": []
    },
    {
      "cell_type": "code",
      "source": [
        "\n",
        "\n",
        "df.dropna(inplace = True)\n",
        "print(df)"
      ],
      "metadata": {
        "id": "Myd4ipQflzPy"
      },
      "execution_count": null,
      "outputs": []
    },
    {
      "cell_type": "markdown",
      "source": [
        "**Removing Duplicates**"
      ],
      "metadata": {
        "id": "IB0XmRzKpmnq"
      }
    },
    {
      "cell_type": "code",
      "source": [
        "print(df.duplicated())"
      ],
      "metadata": {
        "id": "u7s5VAziufe5"
      },
      "execution_count": null,
      "outputs": []
    },
    {
      "cell_type": "code",
      "source": [
        "df.drop_duplicates(inplace = True)"
      ],
      "metadata": {
        "id": "-hKavOWHum6q"
      },
      "execution_count": null,
      "outputs": []
    },
    {
      "cell_type": "markdown",
      "source": [
        " (inplace = True) will make sure that the method does NOT return a new DataFrame, but it will remove all duplicates from the original DataFrame."
      ],
      "metadata": {
        "id": "tapJ5Xctu_aJ"
      }
    },
    {
      "cell_type": "markdown",
      "source": [
        "# Data Correlations:\n",
        "\n",
        "Finding Relationships:\n",
        "\n",
        "The corr() method calculates the **relationship between each column** in your data set.\n",
        "\n",
        "The examples in this page uses a CSV file called: 'data.csv'."
      ],
      "metadata": {
        "id": "3wpDPJCU_QhQ"
      }
    },
    {
      "cell_type": "markdown",
      "source": [
        " The corr() method ignores \"not numeric\" columns."
      ],
      "metadata": {
        "id": "uAsHn3uVBhBf"
      }
    },
    {
      "cell_type": "code",
      "source": [
        "df.corr()"
      ],
      "metadata": {
        "id": "_HKdX7WPBRHx"
      },
      "execution_count": null,
      "outputs": []
    },
    {
      "cell_type": "markdown",
      "source": [
        " 1.000000= Perfect Correlation\n",
        " 0.914931= good correlation\n",
        " -0.000340,0.008741\t=poor correlation"
      ],
      "metadata": {
        "id": "kkvSkyVbBuiv"
      }
    },
    {
      "cell_type": "markdown",
      "source": [
        "**Pandas - Plotting**"
      ],
      "metadata": {
        "id": "1Uom7e4wCp-_"
      }
    },
    {
      "cell_type": "markdown",
      "source": [],
      "metadata": {
        "id": "R2BH7WdxC_zX"
      }
    },
    {
      "cell_type": "code",
      "source": [
        "df=pd.read_csv('/data.csv')"
      ],
      "metadata": {
        "id": "eITL0pTSDCC6"
      },
      "execution_count": null,
      "outputs": []
    },
    {
      "cell_type": "code",
      "source": [
        "import pandas as pd\n",
        "import matplotlib.pyplot as plt\n",
        "\n",
        "\n",
        "df.plot()\n",
        "\n",
        "plt.show()"
      ],
      "metadata": {
        "id": "xoaAy4rFDfMw"
      },
      "execution_count": null,
      "outputs": []
    },
    {
      "cell_type": "code",
      "source": [
        "\n",
        "df.plot(kind = 'scatter', x = 'Duration', y = 'Calories')\n",
        "\n",
        "plt.show()"
      ],
      "metadata": {
        "id": "CmhOcc-gDnje"
      },
      "execution_count": null,
      "outputs": []
    },
    {
      "cell_type": "code",
      "source": [
        "\n",
        "df.plot(kind = 'scatter', x = 'Duration', y = 'Maxpulse')\n",
        "\n",
        "plt.show()"
      ],
      "metadata": {
        "id": "NPm_7tZ9JGMe"
      },
      "execution_count": null,
      "outputs": []
    },
    {
      "cell_type": "code",
      "source": [
        "df[\"Duration\"].plot(kind = 'hist')"
      ],
      "metadata": {
        "id": "End2Gq6mJURO"
      },
      "execution_count": null,
      "outputs": []
    },
    {
      "cell_type": "markdown",
      "source": [
        "# SciPy\n",
        "\n",
        " scientific computation library that uses NumPy underneath.\n",
        "\n",
        "SciPy stands for Scientific Python."
      ],
      "metadata": {
        "id": "Ck9w3-iNK7we"
      }
    },
    {
      "cell_type": "markdown",
      "source": [
        "How many cubic meters are in one liter:"
      ],
      "metadata": {
        "id": "nQvbXVGYSJHW"
      }
    },
    {
      "cell_type": "code",
      "source": [
        "from scipy import constants\n",
        "\n",
        "print(constants.liter)"
      ],
      "metadata": {
        "id": "8zFRvlcxK_X9"
      },
      "execution_count": null,
      "outputs": []
    },
    {
      "cell_type": "code",
      "source": [
        "import scipy\n",
        "\n",
        "print(scipy.__version__)"
      ],
      "metadata": {
        "id": "SYsuypwrRJZF"
      },
      "execution_count": null,
      "outputs": []
    },
    {
      "cell_type": "code",
      "source": [
        "from scipy import constants\n",
        "\n",
        "print(constants.pi)"
      ],
      "metadata": {
        "id": "iqB4GAzsRyFN"
      },
      "execution_count": null,
      "outputs": []
    },
    {
      "cell_type": "markdown",
      "source": [
        "# Optimizers\n",
        "\n",
        "are a set of procedures defined in SciPy that either find the **minimum** value of a function, or the **root** of an equation."
      ],
      "metadata": {
        "id": "jAVgkPmag2Wz"
      }
    },
    {
      "cell_type": "markdown",
      "source": [
        "f finding roots for polynomials and linear equations, but it can not find roots for non linear equations, like this one:\n",
        "\n",
        "x + cos(x)"
      ],
      "metadata": {
        "id": "TVFA82MAWsH4"
      }
    },
    {
      "cell_type": "markdown",
      "source": [
        "Find root of the equation x + cos(x):"
      ],
      "metadata": {
        "id": "6T4zT1MqWzEG"
      }
    },
    {
      "cell_type": "code",
      "source": [
        "from scipy.optimize import root\n",
        "from math import cos\n",
        "\n",
        "def eqn(x):\n",
        "  return x + cos(x)\n",
        "\n",
        "myroot = root(eqn, 0)\n",
        "\n",
        "print(myroot.x)"
      ],
      "metadata": {
        "id": "k1cHf1oWSK_M"
      },
      "execution_count": null,
      "outputs": []
    },
    {
      "cell_type": "code",
      "source": [
        "print(myroot)"
      ],
      "metadata": {
        "id": "2Q05jvF4UP7E"
      },
      "execution_count": null,
      "outputs": []
    },
    {
      "cell_type": "markdown",
      "source": [
        "# Finding Minima\n",
        "We can use scipy.optimize.minimize() function to minimize the function.\n",
        "\n",
        "The minimize() function takes the following arguments:\n",
        "\n",
        "fun - a function representing an equation.\n",
        "\n",
        "x0 - an initial guess for the root.\n",
        "\n",
        "method - name of the method to use. Legal values:"
      ],
      "metadata": {
        "id": "75z4ey-6WpcD"
      }
    },
    {
      "cell_type": "markdown",
      "source": [
        "We can use scipy.optimize.minimize() function to minimize the function.\n",
        "\n",
        "The minimize() function takes the following arguments:\n",
        "\n",
        "fun - a function representing an equation.\n",
        "\n",
        "x0 - an initial guess for the root.\n",
        "\n",
        "method - name of the method to use. Legal values:\n",
        "    'CG'\n",
        "    'BFGS'\n",
        "    'Newton-CG'\n",
        "    'L-BFGS-B'\n",
        "    'TNC'\n",
        "    'COBYLA'\n",
        "    'SLSQP'\n",
        "\n",
        "callback - function called after each iteration of optimization.\n",
        "\n",
        "options - a dictionary defining extra params:"
      ],
      "metadata": {
        "id": "6XBG1dVJXYWs"
      }
    },
    {
      "cell_type": "code",
      "source": [
        "from scipy.optimize import minimize\n",
        "\n",
        "def eqn(x):\n",
        "  return x**2 + x + 2\n",
        "\n",
        "mymin = minimize(eqn,0, method='BFGS')\n",
        "\n",
        "print(mymin)"
      ],
      "metadata": {
        "id": "NmQ2LTBaWYXi"
      },
      "execution_count": null,
      "outputs": []
    },
    {
      "cell_type": "markdown",
      "source": [
        "**SPARSE DATA**"
      ],
      "metadata": {
        "id": "O9vMqGTijc7a"
      }
    },
    {
      "cell_type": "markdown",
      "source": [
        "Sparse data is data that has mostly **unused elements** (elements that don't carry any information ).\n",
        "\n",
        "It can be an array like this one:\n",
        "\n",
        "[1, 0, 2, 0, 0, 3, 0, 0, 0, 0, 0, 0]"
      ],
      "metadata": {
        "id": "eSRWDNu4nqcD"
      }
    },
    {
      "cell_type": "markdown",
      "source": [
        "**Sparse Data**: is a data set where **most** item values are **zero**.\n",
        "\n",
        "**Dense Array**: is the opposite of a sparse array: **most** of the values are **not zero**."
      ],
      "metadata": {
        "id": "3ggCNgCznxBz"
      }
    },
    {
      "cell_type": "code",
      "source": [
        "import numpy as np\n",
        "from scipy.sparse import csr_matrix\n",
        "\n",
        "arr = np.array([0, 0, 0, 0, 0, 1, 1, 0, 2])\n",
        "\n",
        "print(csr_matrix(arr))"
      ],
      "metadata": {
        "id": "Peu1DGGEXLU0"
      },
      "execution_count": null,
      "outputs": []
    },
    {
      "cell_type": "markdown",
      "source": [
        "There are primarily two types of sparse matrices that we use:\n",
        "\n",
        "**CSC**- Compressed Sparse Column. For efficient arithmetic, **fast column slicing**.\n",
        "\n",
        "**CSR** - Compressed Sparse Row. For **fast row slicing**, faster matrix vector products\n",
        "\n",
        "We will use the CSR matrix in this tutorial.\n",
        "\n"
      ],
      "metadata": {
        "id": "m7q3slpXtiGV"
      }
    },
    {
      "cell_type": "code",
      "source": [
        "import numpy as np   #item is in row 0 position 5 and has the value 1.\n",
        "from scipy.sparse import csr_matrix\n",
        "\n",
        "arr = np.array([0, 0, 0, 0, 0, 1, 1, 0, 2])\n",
        "\n",
        "print(csr_matrix(arr))"
      ],
      "metadata": {
        "id": "2FCrDBBOuRSM"
      },
      "execution_count": null,
      "outputs": []
    },
    {
      "cell_type": "code",
      "source": [
        "import numpy as np\n",
        "from scipy.sparse import csr_matrix\n",
        "\n",
        "arr = np.array([[0, 0, 0], [0, 0, 1], [1, 0, 2]])\n",
        "\n",
        "print(csr_matrix(arr).data)"
      ],
      "metadata": {
        "id": "31DbagAenQTb"
      },
      "execution_count": null,
      "outputs": []
    },
    {
      "cell_type": "code",
      "source": [
        "import numpy as np   #non zero elts\n",
        "from scipy.sparse import csr_matrix\n",
        "\n",
        "arr = np.array([[0, 0, 0], [0, 0, 1], [1, 0, 2]])\n",
        "\n",
        "print(csr_matrix(arr).data)"
      ],
      "metadata": {
        "id": "AnzdIaC7ol97"
      },
      "execution_count": null,
      "outputs": []
    },
    {
      "cell_type": "code",
      "source": [
        "import numpy as np\n",
        "from scipy.sparse import csr_matrix\n",
        "\n",
        "arr = np.array([[0, 0, 0], [0, 0, 1], [1, 0, 2]])\n",
        "\n",
        "print(csr_matrix(arr).count_nonzero())"
      ],
      "metadata": {
        "id": "7cgz877F1rmq"
      },
      "execution_count": null,
      "outputs": []
    },
    {
      "cell_type": "code",
      "source": [
        "import numpy as np\n",
        "from scipy.sparse import csr_matrix\n",
        "\n",
        "arr = np.array([[0, 0, 0], [0, 0, 1], [1, 0, 2]])\n",
        "\n",
        "mat = csr_matrix(arr)\n",
        "mat.eliminate_zeros()\n",
        "print(mat)"
      ],
      "metadata": {
        "id": "9UFhAyM048HZ"
      },
      "execution_count": null,
      "outputs": []
    },
    {
      "cell_type": "code",
      "source": [
        "import numpy as np\n",
        "from scipy.sparse import csr_matrix\n",
        "\n",
        "arr = np.array([[0, 0, 0], [0, 0, 1], [1, 0, 2]])\n",
        "\n",
        "mat = csr_matrix(arr)\n",
        "mat.sum_duplicates()\n",
        "\n",
        "print(mat)"
      ],
      "metadata": {
        "id": "3wnXbLnR4B3_"
      },
      "execution_count": null,
      "outputs": []
    },
    {
      "cell_type": "code",
      "source": [
        "import numpy as np    #Converting from csr to csc\n",
        "from scipy.sparse import csr_matrix\n",
        "\n",
        "arr = np.array([[0, 0, 0], [0, 0, 1], [1, 0, 2]])\n",
        "\n",
        "newarr = csr_matrix(arr).tocsc()\n",
        "\n",
        "print(newarr)"
      ],
      "metadata": {
        "id": "tCAkptpEoLIl"
      },
      "execution_count": null,
      "outputs": []
    },
    {
      "cell_type": "markdown",
      "source": [
        "# SciPy Graphs\n",
        "**Adjacency Matrix**\n",
        "Adjacency matrix is a nxn matrix where n is the number of elements in a graph.\n",
        "\n",
        "And the values represents the connection between the elements."
      ],
      "metadata": {
        "id": "MPpcUw6My-C9"
      }
    },
    {
      "cell_type": "code",
      "source": [
        "import numpy as np\n",
        "from scipy.sparse.csgraph import connected_components\n",
        "from scipy.sparse import csr_matrix\n",
        "\n",
        "arr = np.array([\n",
        "  [0, 1, 2],\n",
        "  [1, 0, 0],\n",
        "  [2, 0, 0]\n",
        "])\n",
        "\n",
        "newarr = csr_matrix(arr)\n",
        "\n",
        "print(connected_components(newarr))"
      ],
      "metadata": {
        "id": "EcV57woyy0Bl"
      },
      "execution_count": null,
      "outputs": []
    },
    {
      "cell_type": "markdown",
      "source": [
        "**Dijkstra**\n",
        "Use the dijkstra method to find the shortest path in a graph from one element to another.\n",
        "\n",
        "It takes following arguments:\n",
        "\n",
        "return_predecessors: boolean (True to return whole path of traversal otherwise False).\n",
        "indices: index of the element to return all paths from that element only.\n",
        "limit: max weight of path."
      ],
      "metadata": {
        "id": "QSPk5i11sL1p"
      }
    },
    {
      "cell_type": "code",
      "source": [
        "import numpy as np\n",
        "from scipy.sparse.csgraph import dijkstra\n",
        "from scipy.sparse import csr_matrix\n",
        "\n",
        "arr = np.array([\n",
        "  [0, 1, 2],\n",
        "  [1, 0, 0],\n",
        "  [2, 0, 0]\n",
        "])\n",
        "\n",
        "newarr = csr_matrix(arr)\n",
        "\n",
        "print(dijkstra(newarr, return_predecessors=True, indices=0))"
      ],
      "metadata": {
        "id": "pw-EHeOCCbys"
      },
      "execution_count": null,
      "outputs": []
    },
    {
      "cell_type": "code",
      "source": [
        "import numpy as np\n",
        "from scipy.sparse.csgraph import bellman_ford\n",
        "from scipy.sparse import csr_matrix\n",
        "\n",
        "arr = np.array([\n",
        "  [0, -1, 2],\n",
        "  [1, 0, 0],\n",
        "  [2, 0, 0]\n",
        "])\n",
        "\n",
        "newarr = csr_matrix(arr)\n",
        "\n",
        "print(bellman_ford(newarr, return_predecessors=True, indices=0))"
      ],
      "metadata": {
        "id": "yTln4gWmsTuz"
      },
      "execution_count": null,
      "outputs": []
    },
    {
      "cell_type": "markdown",
      "source": [
        "**Depth First Order**:\n",
        "The depth_first_order() method returns a depth first traversal from a node.\n",
        "\n",
        "This function takes following arguments:\n",
        "\n",
        "the graph.\n",
        "the starting element to traverse graph from."
      ],
      "metadata": {
        "id": "cGiB7ibmsbkP"
      }
    },
    {
      "cell_type": "code",
      "source": [
        "import numpy as np\n",
        "from scipy.sparse.csgraph import depth_first_order\n",
        "from scipy.sparse import csr_matrix\n",
        "\n",
        "arr = np.array([\n",
        "  [0, 1, 0, 1],\n",
        "  [1, 1, 1, 1],\n",
        "  [2, 1, 1, 0],\n",
        "  [0, 1, 0, 1]\n",
        "])\n",
        "\n",
        "newarr = csr_matrix(arr)\n",
        "\n",
        "print(depth_first_order(newarr, 1))"
      ],
      "metadata": {
        "id": "jFz3S_D-sh6X"
      },
      "execution_count": null,
      "outputs": []
    },
    {
      "cell_type": "markdown",
      "source": [
        "**Breadth First Order**:\n",
        "The breadth_first_order() method returns a breadth first traversal from a node.\n",
        "\n",
        "This function takes following arguments:\n",
        "\n",
        "the graph.\n",
        "the starting element to traverse graph from."
      ],
      "metadata": {
        "id": "LBtC9E4jtBcY"
      }
    },
    {
      "cell_type": "code",
      "source": [
        "import numpy as np\n",
        "from scipy.sparse.csgraph import breadth_first_order\n",
        "from scipy.sparse import csr_matrix\n",
        "\n",
        "arr = np.array([\n",
        "  [0, 1, 0, 1],\n",
        "  [1, 1, 1, 1],\n",
        "  [2, 1, 1, 0],\n",
        "  [0, 1, 0, 1]\n",
        "])\n",
        "\n",
        "newarr = csr_matrix(arr)\n",
        "\n",
        "print(breadth_first_order(newarr, 1))"
      ],
      "metadata": {
        "id": "Yl5FbsyctDf2"
      },
      "execution_count": null,
      "outputs": []
    },
    {
      "cell_type": "markdown",
      "source": [
        "# SciPy Spatial Data\n",
        "\n",
        "Working with Spatial Data\n",
        "Spatial data refers to data that is represented in a geometric space.\n",
        "\n",
        "E.g. points on a coordinate system.\n",
        "\n",
        "We deal with spatial data problems on many tasks.\n",
        "\n",
        "E.g. finding if a point is inside a boundary or not.\n",
        "\n",
        "SciPy provides us with the module scipy.spatial, which has functions for working with spatial data.\n",
        "\n",
        "# Triangulation\n",
        "A Triangulation of a polygon is to divide the polygon into multiple triangles with which we can compute an area of the polygon.\n",
        "\n",
        "A Triangulation with points means creating surface composed triangles in which all of the given points are on at least one vertex of any triangle in the surface.\n",
        "\n",
        "One method to generate these triangulations through points is the Delaunay() Triangulation."
      ],
      "metadata": {
        "id": "hTAHH_8-tMYP"
      }
    },
    {
      "cell_type": "code",
      "source": [
        "import numpy as np\n",
        "from scipy.spatial import Delaunay\n",
        "import matplotlib.pyplot as plt\n",
        "\n",
        "points = np.array([\n",
        "  [2, 4],\n",
        "  [3, 4],\n",
        "  [3, 0],\n",
        "  [2, 2],\n",
        "  [4, 1]\n",
        "])\n",
        "\n",
        "simplices = Delaunay(points).simplices\n",
        "\n",
        "plt.triplot(points[:, 0], points[:, 1], simplices)\n",
        "plt.scatter(points[:, 0], points[:, 1], color='r')\n",
        "\n",
        "plt.show()"
      ],
      "metadata": {
        "id": "M65h2inItIPm"
      },
      "execution_count": null,
      "outputs": []
    },
    {
      "cell_type": "markdown",
      "source": [
        "# Convex Hull\n",
        "A convex hull is the smallest polygon that covers all of the given points.\n"
      ],
      "metadata": {
        "id": "Vu70LrXZzgiU"
      }
    },
    {
      "cell_type": "code",
      "source": [
        "import numpy as np\n",
        "from scipy.spatial import ConvexHull\n",
        "import matplotlib.pyplot as plt\n",
        "\n",
        "points = np.array([\n",
        "  [2, 4],\n",
        "  [3, 4],\n",
        "  [3, 0],\n",
        "  [2, 2],\n",
        "  [4, 1],\n",
        "  [1, 2],\n",
        "  [5, 0],\n",
        "  [3, 1],\n",
        "  [1, 2],\n",
        "  [0, 2]\n",
        "])\n",
        "\n",
        "hull = ConvexHull(points)\n",
        "hull_points = hull.simplices\n",
        "\n",
        "plt.scatter(points[:,0], points[:,1])\n",
        "for simplex in hull_points:\n",
        "  plt.plot(points[simplex,0], points[simplex,1], 'k-')\n",
        "\n",
        "plt.show()"
      ],
      "metadata": {
        "id": "FT0IQCf5zdQ8"
      },
      "execution_count": null,
      "outputs": []
    },
    {
      "cell_type": "markdown",
      "source": [
        "# KDTrees\n",
        "KDTrees are a datastructure optimized for nearest neighbor queries.\n",
        "\n",
        "E.g. in a set of points using KDTrees we can efficiently ask which points are nearest to a certain given point.\n",
        "\n",
        "The KDTree() method returns a KDTree object.\n",
        "\n",
        "The query() method returns the distance to the nearest neighbor and the location of the neighbors."
      ],
      "metadata": {
        "id": "WLT9MgFUztxF"
      }
    },
    {
      "cell_type": "code",
      "source": [
        "from scipy.spatial import KDTree\n",
        "\n",
        "points = [(1, -1), (2, 3), (-2, 3), (2, -3)]\n",
        "\n",
        "kdtree = KDTree(points)\n",
        "\n",
        "res = kdtree.query((1, 1))\n",
        "\n",
        "print(res)"
      ],
      "metadata": {
        "id": "0-ELVMNPzrJ8"
      },
      "execution_count": null,
      "outputs": []
    },
    {
      "cell_type": "markdown",
      "source": [
        "# Distance Matrix\n",
        "There are many Distance Metrics used to find various types of distances between two points in data science, Euclidean distsance, cosine distsance etc.\n",
        "\n",
        "The distance between two vectors may not only be the length of straight line between them, it can also be the angle between them from origin, or number of unit steps required etc.\n",
        "\n",
        "Many of the Machine Learning algorithm's performance depends greatly on distance metrices. E.g. \"K Nearest Neighbors\", or \"K Means\" etc.\n"
      ],
      "metadata": {
        "id": "wkex4aDu0BqE"
      }
    },
    {
      "cell_type": "markdown",
      "source": [
        "# Euclidean Distance\n",
        "Find the euclidean distance between given points."
      ],
      "metadata": {
        "id": "j73-fxcv0Fie"
      }
    },
    {
      "cell_type": "code",
      "source": [
        "from scipy.spatial.distance import euclidean\n",
        "\n",
        "p1 = (1, 0)\n",
        "p2 = (10, 2)\n",
        "\n",
        "res = euclidean(p1, p2)\n",
        "\n",
        "print(res)"
      ],
      "metadata": {
        "id": "oiHCwgON0BR9"
      },
      "execution_count": null,
      "outputs": []
    },
    {
      "cell_type": "markdown",
      "source": [
        "# Cityblock Distance (Manhattan Distance)"
      ],
      "metadata": {
        "id": "4OwCy2DqDSap"
      }
    },
    {
      "cell_type": "code",
      "source": [
        "from scipy.spatial.distance import cityblock\n",
        "\n",
        "p1 = (1, 0)\n",
        "p2 = (10, 2)\n",
        "\n",
        "res = cityblock(p1, p2)\n",
        "\n",
        "print(res)"
      ],
      "metadata": {
        "id": "IuvgAjUDDNMn"
      },
      "execution_count": null,
      "outputs": []
    },
    {
      "cell_type": "markdown",
      "source": [
        "# Cosine Distance\n",
        "Is the value of cosine angle between the two points A and B."
      ],
      "metadata": {
        "id": "yBq5m4mEDgOP"
      }
    },
    {
      "cell_type": "code",
      "source": [
        "from scipy.spatial.distance import cosine\n",
        "\n",
        "p1 = (1, 0)\n",
        "p2 = (10, 2)\n",
        "\n",
        "res = cosine(p1, p2)\n",
        "\n",
        "print(res)"
      ],
      "metadata": {
        "id": "-2B0bzycDYun"
      },
      "execution_count": null,
      "outputs": []
    },
    {
      "cell_type": "markdown",
      "source": [
        "# Hamming Distance\n",
        "Is the proportion of bits where two bits are different.\n",
        "\n",
        "It's a way to measure distance for binary sequences."
      ],
      "metadata": {
        "id": "D4pT42W3Dpjg"
      }
    },
    {
      "cell_type": "code",
      "source": [
        "from scipy.spatial.distance import hamming\n",
        "\n",
        "p1 = (True, False, True)\n",
        "p2 = (False, True, True)\n",
        "\n",
        "res = hamming(p1, p2)\n",
        "\n",
        "print(res)"
      ],
      "metadata": {
        "id": "w_gOW9BbDm2X"
      },
      "execution_count": null,
      "outputs": []
    },
    {
      "cell_type": "markdown",
      "source": [
        "# SciPy Matlab Arrays\n",
        "**Working With Matlab Arrays**\n",
        "We know that NumPy provides us with methods to persist the data in readable formats for Python. But SciPy provides us with interoperability with Matlab as well.\n",
        "\n",
        "SciPy provides us with the module scipy.io, which has functions for working with Matlab arrays."
      ],
      "metadata": {
        "id": "SCbA8NgjD11P"
      }
    },
    {
      "cell_type": "markdown",
      "source": [
        "**Exporting Data in Matlab Format**\n",
        "The savemat() function allows us to export data in Matlab format.\n",
        "\n",
        "The method takes the following parameters:\n",
        "\n",
        "filename - the file name for saving data.\n",
        "mdict - a dictionary containing the data.\n",
        "do_compression - a boolean value that specifies whether to compress the result or not. Default False."
      ],
      "metadata": {
        "id": "3q9KoNHjF3DX"
      }
    },
    {
      "cell_type": "code",
      "source": [
        "from scipy import io\n",
        "import numpy as np\n",
        "\n",
        "arr = np.arange(10)\n",
        "\n",
        "io.savemat('arr.mat', {\"vec\": arr})"
      ],
      "metadata": {
        "id": "eQqHbeTgD0pJ"
      },
      "execution_count": null,
      "outputs": []
    },
    {
      "cell_type": "markdown",
      "source": [
        "**Import Data from Matlab Format**\n",
        "The loadmat() function allows us to import data from a Matlab file.\n",
        "\n",
        "The function takes one required parameter:\n",
        "\n",
        "filename - the file name of the saved data.\n",
        "\n",
        "It will return a structured array whose keys are the variable names, and the corresponding values are the variable values."
      ],
      "metadata": {
        "id": "yMdBp50DGBxC"
      }
    },
    {
      "cell_type": "code",
      "source": [
        "from scipy import io\n",
        "import numpy as np\n",
        "\n",
        "arr = np.array([0, 1, 2, 3, 4, 5, 6, 7, 8, 9,])\n",
        "\n",
        "# Export:\n",
        "io.savemat('arr.mat', {\"vec\": arr})\n",
        "\n",
        "# Import:\n",
        "mydata = io.loadmat('arr.mat')\n",
        "\n",
        "print(mydata)"
      ],
      "metadata": {
        "id": "UsTiBZobGDe2"
      },
      "execution_count": null,
      "outputs": []
    },
    {
      "cell_type": "code",
      "source": [
        "...\n",
        "\n",
        "print(mydata['vec'])"
      ],
      "metadata": {
        "id": "aOEHiTdAGKEP"
      },
      "execution_count": null,
      "outputs": []
    },
    {
      "cell_type": "code",
      "source": [
        "# Import:\n",
        "mydata = io.loadmat('arr.mat', squeeze_me=True)\n",
        "\n",
        "print(mydata['vec'])"
      ],
      "metadata": {
        "id": "dllF5Ma3GN2n"
      },
      "execution_count": null,
      "outputs": []
    },
    {
      "cell_type": "markdown",
      "source": [
        "# What is Interpolation?\n",
        "Interpolation is a method for generating points between given points.\n",
        "\n",
        "For example: for points 1 and 2, we may interpolate and find points 1.33 and 1.66.\n",
        "\n",
        "Interpolation has many usage, in Machine Learning we often deal with missing data in a dataset, interpolation is often used to substitute those values.\n",
        "\n",
        "This method of filling values is called imputation.\n",
        "\n",
        "Apart from imputation, interpolation is often used where we need to smooth the discrete points in a dataset.\n",
        "\n"
      ],
      "metadata": {
        "id": "f3xT00rBGVoO"
      }
    },
    {
      "cell_type": "markdown",
      "source": [
        "SciPy provides us with a module called scipy.interpolate which has many functions to deal with interpolation:\n",
        "The function interp1d() is used to interpolate a distribution with 1 variable.\n",
        "\n",
        "It takes x and y points and returns a callable function that can be called with new x and returns corresponding y.\n",
        "\n"
      ],
      "metadata": {
        "id": "RUDTBhOlGchh"
      }
    },
    {
      "cell_type": "code",
      "source": [
        "from scipy.interpolate import interp1d\n",
        "import numpy as np\n",
        "\n",
        "xs = np.arange(10)\n",
        "ys = 2*xs + 1\n",
        "\n",
        "interp_func = interp1d(xs, ys)\n",
        "\n",
        "newarr = interp_func(np.arange(2.1, 3, 0.1))\n",
        "\n",
        "print(newarr)"
      ],
      "metadata": {
        "id": "iWTkTd0nGbsW"
      },
      "execution_count": null,
      "outputs": []
    },
    {
      "cell_type": "markdown",
      "source": [
        "# Spline Interpolation\n",
        "In 1D interpolation the points are fitted for a single curve whereas in Spline interpolation the points are fitted against a piecewise function defined with polynomials called splines.\n",
        "\n",
        "The UnivariateSpline() function takes xs and ys and produce a callable funciton that can be called with new xs."
      ],
      "metadata": {
        "id": "MAQRuZnuHENm"
      }
    },
    {
      "cell_type": "code",
      "source": [
        "from scipy.interpolate import UnivariateSpline\n",
        "import numpy as np\n",
        "\n",
        "xs = np.arange(10)\n",
        "ys = xs**2 + np.sin(xs) + 1\n",
        "\n",
        "interp_func = UnivariateSpline(xs, ys)\n",
        "\n",
        "newarr = interp_func(np.arange(2.1, 3, 0.1))\n",
        "\n",
        "print(newarr)"
      ],
      "metadata": {
        "id": "wjVt8p2dHD4P"
      },
      "execution_count": null,
      "outputs": []
    },
    {
      "cell_type": "markdown",
      "source": [
        "Interpolation with Radial Basis Function\n",
        "Radial basis function is a function that is defined corresponding to a fixed reference point.\n",
        "\n",
        "The Rbf() function also takes xs and ys as arguments and produces a callable function that can be called with new xs."
      ],
      "metadata": {
        "id": "SZ_F48r3HSJ-"
      }
    },
    {
      "cell_type": "code",
      "source": [
        "from scipy.interpolate import Rbf\n",
        "import numpy as np\n",
        "\n",
        "xs = np.arange(10)\n",
        "ys = xs**2 + np.sin(xs) + 1\n",
        "\n",
        "interp_func = Rbf(xs, ys)\n",
        "\n",
        "newarr = interp_func(np.arange(2.1, 3, 0.1))\n",
        "\n",
        "print(newarr)"
      ],
      "metadata": {
        "id": "Pr9nYihLHKmu"
      },
      "execution_count": null,
      "outputs": []
    },
    {
      "cell_type": "markdown",
      "source": [
        "# SciPy Statistical Significance Tests"
      ],
      "metadata": {
        "id": "bFIulqw-Hgrw"
      }
    },
    {
      "cell_type": "code",
      "source": [],
      "metadata": {
        "id": "JOZB-WZ1I1r-"
      },
      "execution_count": null,
      "outputs": []
    },
    {
      "cell_type": "markdown",
      "source": [
        "**t-test**"
      ],
      "metadata": {
        "id": "ihpX6aI05uf9"
      }
    },
    {
      "cell_type": "code",
      "source": [
        "import numpy as np\n",
        "from scipy.stats import ttest_ind\n",
        "\n",
        "v1 = np.random.normal(size=100)\n",
        "v2 = np.random.normal(size=100)\n",
        "\n",
        "res = ttest_ind(v1, v2)\n",
        "\n",
        "print(res)"
      ],
      "metadata": {
        "id": "FgALJFAX5t5-"
      },
      "execution_count": null,
      "outputs": []
    },
    {
      "cell_type": "markdown",
      "source": [
        "**p value**"
      ],
      "metadata": {
        "id": "KkFe-ppF55de"
      }
    },
    {
      "cell_type": "code",
      "source": [
        "...\n",
        "res = ttest_ind(v1, v2).pvalue\n",
        "\n",
        "print(res)"
      ],
      "metadata": {
        "id": "xCO5CAAF7Lql"
      },
      "execution_count": null,
      "outputs": []
    },
    {
      "cell_type": "markdown",
      "source": [
        "# KS test"
      ],
      "metadata": {
        "id": "CyXRYlWS7Gae"
      }
    },
    {
      "cell_type": "code",
      "source": [
        "#Find if the given value follows the normal distribution:\n",
        "import numpy as np\n",
        "from scipy.stats import kstest\n",
        "\n",
        "v = np.random.normal(size=100)\n",
        "\n",
        "res = kstest(v, 'norm')\n",
        "\n",
        "print(res)"
      ],
      "metadata": {
        "id": "Zt6gdYtW54We"
      },
      "execution_count": null,
      "outputs": []
    },
    {
      "cell_type": "code",
      "source": [
        "#Show statistical description of the values in an array:\n",
        "\n",
        "import numpy as np\n",
        "from scipy.stats import describe\n",
        "\n",
        "v = np.random.normal(size=100)\n",
        "res = describe(v)\n",
        "\n",
        "print(res)"
      ],
      "metadata": {
        "id": "o67dr5sk7WIt"
      },
      "execution_count": null,
      "outputs": []
    },
    {
      "cell_type": "code",
      "source": [
        "#Find skewness and kurtosis of values in an array:\n",
        "\n",
        "import numpy as np\n",
        "from scipy.stats import skew, kurtosis\n",
        "\n",
        "v = np.random.normal(size=100)\n",
        "\n",
        "print(skew(v))\n",
        "print(kurtosis(v))"
      ],
      "metadata": {
        "id": "6h7goz7q9jI-"
      },
      "execution_count": null,
      "outputs": []
    },
    {
      "cell_type": "code",
      "source": [
        "#Find if the data comes from a normal distribution:\n",
        "\n",
        "import numpy as np\n",
        "from scipy.stats import normaltest\n",
        "\n",
        "v = np.random.normal(size=100)\n",
        "\n",
        "print(normaltest(v))"
      ],
      "metadata": {
        "id": "JPVoQ-We9lZ1"
      },
      "execution_count": null,
      "outputs": []
    },
    {
      "cell_type": "markdown",
      "source": [
        "**t-test**"
      ],
      "metadata": {
        "id": "kE8JD8B-CHDE"
      }
    },
    {
      "cell_type": "code",
      "source": [
        "import numpy as np\n",
        "from scipy.stats import ttest_ind\n",
        "\n",
        "v1 = np.random.normal(size=100)\n",
        "v2 = np.random.normal(size=100)\n",
        "\n",
        "res = ttest_ind(v1, v2)\n",
        "\n",
        "print(res)"
      ],
      "metadata": {
        "id": "bEhfXZ40CHDF"
      },
      "execution_count": null,
      "outputs": []
    },
    {
      "cell_type": "markdown",
      "source": [
        "**p value**"
      ],
      "metadata": {
        "id": "rairf5abCHDF"
      }
    },
    {
      "cell_type": "code",
      "source": [
        "...\n",
        "res = ttest_ind(v1, v2).pvalue\n",
        "\n",
        "print(res)"
      ],
      "metadata": {
        "id": "WBOoqaFiCHDG"
      },
      "execution_count": null,
      "outputs": []
    },
    {
      "cell_type": "markdown",
      "source": [
        "# KS test"
      ],
      "metadata": {
        "id": "iGDzrQlOCHDG"
      }
    },
    {
      "cell_type": "code",
      "source": [
        "#Find if the given value follows the normal distribution:\n",
        "import numpy as np\n",
        "from scipy.stats import kstest\n",
        "\n",
        "v = np.random.normal(size=100)\n",
        "\n",
        "res = kstest(v, 'norm')\n",
        "\n",
        "print(res)"
      ],
      "metadata": {
        "id": "93ZGJzyVCHDG"
      },
      "execution_count": null,
      "outputs": []
    },
    {
      "cell_type": "code",
      "source": [
        "#Show statistical description of the values in an array:\n",
        "\n",
        "import numpy as np\n",
        "from scipy.stats import describe\n",
        "\n",
        "v = np.random.normal(size=100)\n",
        "res = describe(v)\n",
        "\n",
        "print(res)"
      ],
      "metadata": {
        "id": "mRMQaVdRCHDG"
      },
      "execution_count": null,
      "outputs": []
    },
    {
      "cell_type": "code",
      "source": [
        "#Find skewness and kurtosis of values in an array:\n",
        "\n",
        "import numpy as np\n",
        "from scipy.stats import skew, kurtosis\n",
        "\n",
        "v = np.random.normal(size=100)\n",
        "\n",
        "print(skew(v))\n",
        "print(kurtosis(v))"
      ],
      "metadata": {
        "id": "mPtI02jGCHDH"
      },
      "execution_count": null,
      "outputs": []
    },
    {
      "cell_type": "code",
      "source": [
        "#Find if the data comes from a normal distribution:\n",
        "\n",
        "import numpy as np\n",
        "from scipy.stats import normaltest\n",
        "\n",
        "v = np.random.normal(size=100)\n",
        "\n",
        "print(normaltest(v))"
      ],
      "metadata": {
        "id": "bAgCeO1QCHDH"
      },
      "execution_count": null,
      "outputs": []
    },
    {
      "cell_type": "markdown",
      "source": [
        "# Django Introduction"
      ],
      "metadata": {
        "id": "WAMyIonu8q6F"
      }
    },
    {
      "cell_type": "markdown",
      "source": [
        "Django is a Python framework that makes it easier to create web sites using Python.\n",
        "\n",
        "Django takes care of the difficult stuff so that you can concentrate on building your web applications.\n",
        "\n",
        "Django emphasizes reusability of components, also referred to as DRY (Don't Repeat Yourself), and comes with ready-to-use features like login system, database connection and CRUD operations (Create Read Update Delete)."
      ],
      "metadata": {
        "id": "9u3ShUwO8voV"
      }
    },
    {
      "cell_type": "markdown",
      "source": [
        "Django follows the MVT design pattern (Model View Template).\n",
        "\n",
        "Model - The data you want to present, usually data from a database.\n",
        "View - A request handler that returns the relevant template and content - based on the request from the user.\n",
        "Template - A text file (like an HTML file) containing the layout of the web page, with logic on how to display the data.\n"
      ],
      "metadata": {
        "id": "OkBladO48yVF"
      }
    },
    {
      "cell_type": "markdown",
      "source": [
        "**Model**\n",
        "\n",
        "The model provides data from the database.\n",
        "\n",
        "In Django, the data is delivered as an Object Relational Mapping (ORM), which is a technique designed to make it easier to work with databases.\n",
        "\n",
        "The most common way to extract data from a database is SQL. One problem with SQL is that you have to have a pretty good understanding of the database structure to be able to work with it.\n",
        "\n",
        "Django, with ORM, makes it easier to communicate with the database, without having to write complex SQL statements.\n",
        "\n",
        "The models are usually located in a file called models.py.\n",
        "\n"
      ],
      "metadata": {
        "id": "DKTAC0RI82YV"
      }
    },
    {
      "cell_type": "markdown",
      "source": [
        "**View**\n",
        "A view is a function or method that takes http requests as arguments, imports the relevant model(s), and finds out what data to send to the template, and returns the final result.\n",
        "\n",
        "The views are usually located in a file called views.py.\n",
        "\n"
      ],
      "metadata": {
        "id": "UUU2ctII85QF"
      }
    },
    {
      "cell_type": "markdown",
      "source": [
        "**Template**\n",
        "A template is a file where you describe how the result should be represented.\n",
        "\n",
        "Templates are often .html files, with HTML code describing the layout of a web page, but it can also be in other file formats to present other results, but we will concentrate on .html files.\n",
        "\n",
        "Django uses standard HTML to describe the layout, but uses Django tags to add logic:"
      ],
      "metadata": {
        "id": "ZCjxNQjc-zO2"
      }
    },
    {
      "cell_type": "markdown",
      "source": [
        "**URLs**\n",
        "Django also provides a way to navigate around the different pages in a website.\n",
        "\n",
        "When a user requests a URL, Django decides which view it will send it to.\n",
        "\n",
        "This is done in a file called urls.py."
      ],
      "metadata": {
        "id": "IIfYszJy_u6m"
      }
    },
    {
      "cell_type": "markdown",
      "source": [
        "So, What is Going On?\n",
        "When you have installed Django and created your first Django web application, and the browser requests the URL, this is basically what happens:\n",
        "\n",
        "Django receives the URL, checks the urls.py file, and calls the view that matches the URL.\n",
        "The view, located in views.py, checks for relevant models.\n",
        "The models are imported from the models.py file.\n",
        "The view then sends the data to a specified template in the template folder.\n",
        "The template contains HTML and Django tags, and with the data it returns finished HTML content back to the browser.\n",
        "Django can do a lot more than this, but this is basically what you will learn in this tutorial, and are the basic steps in a simple web application made with Django.\n",
        "\n"
      ],
      "metadata": {
        "id": "aJ9tXaeOAMMl"
      }
    },
    {
      "cell_type": "markdown",
      "source": [
        "# Matplotlib Tutorial"
      ],
      "metadata": {
        "id": "4jWAv7sjGcgg"
      }
    },
    {
      "cell_type": "markdown",
      "source": [
        "What is Matplotlib?\n",
        "Matplotlib is a low level graph plotting library in python that serves as a visualization utility.\n",
        "\n",
        "Matplotlib was created by John D. Hunter.\n",
        "\n",
        "Matplotlib is open source and we can use it freely.\n",
        "\n",
        "Matplotlib is mostly written in python, a few segments are written in C, Objective-C and Javascript for Platform compatibility."
      ],
      "metadata": {
        "id": "Qe2SqGjZGjpg"
      }
    },
    {
      "cell_type": "code",
      "source": [
        "import matplotlib\n",
        "\n",
        "print(matplotlib.__version__)"
      ],
      "metadata": {
        "id": "PNB2xQjF_um2"
      },
      "execution_count": null,
      "outputs": []
    },
    {
      "cell_type": "markdown",
      "source": [
        "# Matplotlib Pyplot"
      ],
      "metadata": {
        "id": "lKQGBaxuGvzg"
      }
    },
    {
      "cell_type": "code",
      "source": [
        "#Draw a line in a diagram from position (0,0) to position (6,250):\n",
        "\n",
        "import matplotlib.pyplot as plt\n",
        "import numpy as np\n",
        "\n",
        "xpoints = np.array([0, 6])\n",
        "ypoints = np.array([0, 250])\n",
        "\n",
        "plt.plot(xpoints, ypoints)\n",
        "plt.show()"
      ],
      "metadata": {
        "id": "C-rtIgVyGt7e"
      },
      "execution_count": null,
      "outputs": []
    },
    {
      "cell_type": "markdown",
      "source": [
        "**Matplotlib Plotting**\n"
      ],
      "metadata": {
        "id": "GchhJS-Ka2Mf"
      }
    },
    {
      "cell_type": "markdown",
      "source": [
        "# Plotting x and y points\n",
        "The plot() function is used to draw points (markers) in a diagram.\n",
        "\n",
        "By default, the plot() function draws a line from point to point.\n",
        "\n",
        "The function takes parameters for specifying points in the diagram.\n",
        "\n",
        "Parameter 1 is an array containing the points on the x-axis.\n",
        "\n",
        "Parameter 2 is an array containing the points on the y-axis.\n",
        "\n",
        "If we need to plot a line from (1, 3) to (8, 10), we have to pass two arrays [1, 8] and [3, 10] to the plot function."
      ],
      "metadata": {
        "id": "NMXjMfhUbksR"
      }
    },
    {
      "cell_type": "code",
      "source": [
        "#Draw a line in a diagram from position (1, 3) to position (8, 10):\n",
        "\n",
        "import matplotlib.pyplot as plt\n",
        "import numpy as np\n",
        "\n",
        "xpoints = np.array([1, 8])\n",
        "ypoints = np.array([3, 10])\n",
        "\n",
        "plt.plot(xpoints, ypoints)\n",
        "plt.show()"
      ],
      "metadata": {
        "id": "FsI1NdGXHTW2"
      },
      "execution_count": null,
      "outputs": []
    },
    {
      "cell_type": "markdown",
      "source": [
        "**Plotting Without Line**:\n",
        "To plot only the markers, you can use shortcut string notation parameter 'o', which means 'rings'."
      ],
      "metadata": {
        "id": "37sUd-dUcBNZ"
      }
    },
    {
      "cell_type": "code",
      "source": [
        "#Draw two points in the diagram, one at position (1, 3) and one in position (8, 10):\n",
        "\n",
        "import matplotlib.pyplot as plt\n",
        "import numpy as np\n",
        "\n",
        "xpoints = np.array([1, 8])\n",
        "ypoints = np.array([3, 10])\n",
        "\n",
        "plt.plot(xpoints, ypoints, 'o')\n",
        "plt.show()"
      ],
      "metadata": {
        "id": "92zRGUnubuc5"
      },
      "execution_count": null,
      "outputs": []
    },
    {
      "cell_type": "markdown",
      "source": [
        "**Multiple Points**:\n",
        "You can plot as many points as you like, just make sure you have the same number of points in both axis."
      ],
      "metadata": {
        "id": "t0Em36t2cUR5"
      }
    },
    {
      "cell_type": "code",
      "source": [
        "import matplotlib.pyplot as plt\n",
        "import numpy as np\n",
        "\n",
        "xpoints = np.array([1, 2, 6, 8])\n",
        "ypoints = np.array([3, 8, 1, 10])\n",
        "\n",
        "plt.plot(xpoints, ypoints)\n",
        "plt.show()"
      ],
      "metadata": {
        "id": "f6qACZO9cIKM"
      },
      "execution_count": null,
      "outputs": []
    },
    {
      "cell_type": "markdown",
      "source": [
        "# Default X-Points\n",
        "If we do not specify the points on the x-axis, they will get the default values 0, 1, 2, 3 etc., depending on the length of the y-points.\n",
        "\n",
        "So, if we take the same example as above, and leave out the x-points, the diagram will look like this:"
      ],
      "metadata": {
        "id": "yVDuxsSauVh5"
      }
    },
    {
      "cell_type": "code",
      "source": [
        "#Plotting without x-points:\n",
        "\n",
        "import matplotlib.pyplot as plt\n",
        "import numpy as np\n",
        "\n",
        "ypoints = np.array([3, 8, 1, 10, 5, 7])\n",
        "\n",
        "plt.plot(ypoints)\n",
        "plt.show()"
      ],
      "metadata": {
        "id": "dHLZx0a0uRU5"
      },
      "execution_count": null,
      "outputs": []
    },
    {
      "cell_type": "markdown",
      "source": [
        "# Matplotlib Markers"
      ],
      "metadata": {
        "id": "iXcafKDa79XG"
      }
    },
    {
      "cell_type": "code",
      "source": [
        "#Mark each point with a circle:\n",
        "\n",
        "import matplotlib.pyplot as plt\n",
        "import numpy as np\n",
        "\n",
        "ypoints = np.array([3, 8, 1, 10])\n",
        "\n",
        "plt.plot(ypoints, marker = 'o')\n",
        "plt.show()"
      ],
      "metadata": {
        "id": "kk_zQWgl76Eb"
      },
      "execution_count": null,
      "outputs": []
    },
    {
      "cell_type": "code",
      "source": [
        "...\n",
        "plt.plot(ypoints, marker = '*')\n",
        "..."
      ],
      "metadata": {
        "id": "Gxfzxu5E8ps6"
      },
      "execution_count": null,
      "outputs": []
    },
    {
      "cell_type": "markdown",
      "source": [
        "Marker\tDescription\n",
        "'o'\tCircle\n",
        "'*'\tStar\n",
        "'.'\tPoint\n",
        "','\tPixel\n",
        "'x'\tX\n",
        "'X'\tX (filled)\n",
        "'+'\tPlus\n",
        "'P'\tPlus (filled)\n",
        "'s'\tSquare\n",
        "'D'\tDiamond\n",
        "'d'\tDiamond (thin)\n",
        "'p'\tPentagon\n",
        "'H'\tHexagon\n",
        "'h'\tHexagon\n",
        "'v'\tTriangle Down\n",
        "'^'\tTriangle Up\n",
        "'<'\tTriangle Left\n",
        "'>'\tTriangle Right\n",
        "'1'\tTri Down\n",
        "'2'\tTri Up\n",
        "'3'\tTri Left\n",
        "'4'\tTri Right\n",
        "'|'\tVline\n",
        "'_'\tHline"
      ],
      "metadata": {
        "id": "bIrg_7_984H-"
      }
    },
    {
      "cell_type": "markdown",
      "source": [
        "# Format Strings fmt\n",
        "You can also use the shortcut string notation parameter to specify the marker.\n",
        "\n",
        "This parameter is also called fmt, and is written with this syntax:\n",
        "\n",
        "marker|line|color"
      ],
      "metadata": {
        "id": "7wKv6C2_FM4F"
      }
    },
    {
      "cell_type": "code",
      "source": [
        "\n",
        "#Mark each point with a circle:\n",
        "\n",
        "import matplotlib.pyplot as plt\n",
        "import numpy as np\n",
        "\n",
        "ypoints = np.array([3, 8, 1, 10])\n",
        "\n",
        "plt.plot(ypoints, 'o:r')\n",
        "plt.show()"
      ],
      "metadata": {
        "id": "49NHv1Hj8zDc"
      },
      "execution_count": null,
      "outputs": []
    },
    {
      "cell_type": "markdown",
      "source": [
        "**Line Reference**\n",
        "Line Syntax\tDescription\n",
        "'-'\tSolid line\n",
        "':'\tDotted line\n",
        "'--'\tDashed line\n",
        "'-.'\tDashed/dotted line"
      ],
      "metadata": {
        "id": "wU8854aaH-OS"
      }
    },
    {
      "cell_type": "markdown",
      "source": [
        "**Color Reference**\n",
        "Color Syntax\tDescription\n",
        "'r'\tRed\n",
        "'g'\tGreen\n",
        "'b'\tBlue\n",
        "'c'\tCyan\n",
        "'m'\tMagenta\n",
        "'y'\tYellow\n",
        "'k'\tBlack\n",
        "'w'\tWhite"
      ],
      "metadata": {
        "id": "NL9UmcdFIB2T"
      }
    },
    {
      "cell_type": "markdown",
      "source": [
        "**Marker Size**\n",
        "You can use the keyword argument markersize or the shorter version, ms to set the size of the markers:"
      ],
      "metadata": {
        "id": "eUaoAMSSIGOB"
      }
    },
    {
      "cell_type": "code",
      "source": [
        "#Set the size of the markers to 20:\n",
        "\n",
        "import matplotlib.pyplot as plt\n",
        "import numpy as np\n",
        "\n",
        "ypoints = np.array([3, 8, 1, 10])\n",
        "\n",
        "plt.plot(ypoints, marker = 'o', ms = 20)\n",
        "plt.show()"
      ],
      "metadata": {
        "id": "99-oViWxH4gz"
      },
      "execution_count": null,
      "outputs": []
    }
  ]
}